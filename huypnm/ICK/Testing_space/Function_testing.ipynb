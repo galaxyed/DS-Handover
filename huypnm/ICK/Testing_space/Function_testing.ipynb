{
 "cells": [
  {
   "cell_type": "code",
   "execution_count": 1,
   "metadata": {},
   "outputs": [],
   "source": [
    "import pandas as pd\n",
    "import numpy as np"
   ]
  },
  {
   "cell_type": "code",
   "execution_count": 2,
   "metadata": {},
   "outputs": [],
   "source": [
    "def slope_function(x, y):\n",
    "    # x: Timeseries\n",
    "    # y: Datapoint\n",
    "    n = len(x)\n",
    "    x_sum = np.sum(x)\n",
    "    y_sum = np.sum(y)\n",
    "    xy_sum = np.sum(x*y)\n",
    "    x2_sum = np.sum(x**2)\n",
    "\n",
    "    denominator = n * x2_sum - x_sum**2\n",
    "    if denominator == 0:\n",
    "        return 0\n",
    "    \n",
    "    else:\n",
    "        return (n * xy_sum - x_sum * y_sum) / (n * x2_sum - x_sum**2)"
   ]
  },
  {
   "cell_type": "code",
   "execution_count": 3,
   "metadata": {},
   "outputs": [
    {
     "data": {
      "text/plain": [
       "1.0"
      ]
     },
     "execution_count": 3,
     "metadata": {},
     "output_type": "execute_result"
    }
   ],
   "source": [
    "# Test 1 - Increase\n",
    "x = np.array([0,1,2,3])\n",
    "y = np.array([1,2,3,4])\n",
    "slope_function(x, y)"
   ]
  },
  {
   "cell_type": "code",
   "execution_count": 4,
   "metadata": {},
   "outputs": [
    {
     "data": {
      "text/plain": [
       "1.0"
      ]
     },
     "execution_count": 4,
     "metadata": {},
     "output_type": "execute_result"
    }
   ],
   "source": [
    "# Test 2 - Increase but different x\n",
    "x = np.array([1,2,3,4])\n",
    "y = np.array([1,2,3,4])\n",
    "slope_function(x, y)"
   ]
  },
  {
   "cell_type": "code",
   "execution_count": 5,
   "metadata": {},
   "outputs": [
    {
     "data": {
      "text/plain": [
       "-0.258"
      ]
     },
     "execution_count": 5,
     "metadata": {},
     "output_type": "execute_result"
    }
   ],
   "source": [
    "# Test 3 - Decrease\n",
    "x = np.array([0,1,2,3])\n",
    "y = np.array([1,0.74,0.56,0.2])\n",
    "slope_function(x, y)"
   ]
  },
  {
   "cell_type": "code",
   "execution_count": 6,
   "metadata": {},
   "outputs": [
    {
     "data": {
      "text/plain": [
       "0.325"
      ]
     },
     "execution_count": 6,
     "metadata": {},
     "output_type": "execute_result"
    }
   ],
   "source": [
    "# Test 4 - Slightly increase\n",
    "x = np.array([0,1,2,3])\n",
    "y = np.array([1,1.5,1.75,2])\n",
    "slope_function(x, y)"
   ]
  },
  {
   "cell_type": "code",
   "execution_count": 7,
   "metadata": {},
   "outputs": [
    {
     "data": {
      "text/plain": [
       "0.07"
      ]
     },
     "execution_count": 7,
     "metadata": {},
     "output_type": "execute_result"
    }
   ],
   "source": [
    "# Test 5 - Fluctuated\n",
    "x = np.array([0,1,2,3,4])\n",
    "y = np.array([1,1.5,1.25,2, 1.1])\n",
    "slope_function(x, y)"
   ]
  }
 ],
 "metadata": {
  "kernelspec": {
   "display_name": "_work",
   "language": "python",
   "name": "python3"
  },
  "language_info": {
   "codemirror_mode": {
    "name": "ipython",
    "version": 3
   },
   "file_extension": ".py",
   "mimetype": "text/x-python",
   "name": "python",
   "nbconvert_exporter": "python",
   "pygments_lexer": "ipython3",
   "version": "3.8.13"
  },
  "orig_nbformat": 4
 },
 "nbformat": 4,
 "nbformat_minor": 2
}
