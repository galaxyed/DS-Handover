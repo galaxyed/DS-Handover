{
 "cells": [
  {
   "cell_type": "code",
   "execution_count": 1,
   "id": "9345517c",
   "metadata": {},
   "outputs": [
    {
     "name": "stdout",
     "output_type": "stream",
     "text": [
      "importing Jupyter notebook from /Users/admin/Desktop/User_Acquisition/1. Code/Lib/Functions.ipynb\n",
      "importing Jupyter notebook from /Users/admin/Desktop/User_Acquisition/1. Code/Lib/Feature_Selection.ipynb\n"
     ]
    }
   ],
   "source": [
    "import os\n",
    "import glob\n",
    "import datetime\n",
    "import time\n",
    "import numpy as np\n",
    "import pandas as pd\n",
    "import matplotlib.pyplot as plt\n",
    "import seaborn as sb\n",
    "import tensorflow as tf\n",
    "from tensorflow import keras\n",
    "import import_ipynb\n",
    "import Lib.Functions as fc\n",
    "import Lib.Feature_Selection as ft\n",
    "import warnings\n",
    "warnings.filterwarnings('ignore')"
   ]
  },
  {
   "cell_type": "code",
   "execution_count": 2,
   "id": "7936519f",
   "metadata": {},
   "outputs": [
    {
     "name": "stdout",
     "output_type": "stream",
     "text": [
      "<class 'pandas.core.frame.DataFrame'>\n",
      "RangeIndex: 35153 entries, 0 to 35152\n",
      "Data columns (total 1 columns):\n",
      " #   Column  Non-Null Count  Dtype \n",
      "---  ------  --------------  ----- \n",
      " 0   UserID  35153 non-null  object\n",
      "dtypes: object(1)\n",
      "memory usage: 274.8+ KB\n"
     ]
    }
   ],
   "source": [
    "fake_user = pd.read_csv('fake_paid_users.csv')\n",
    "fake_user.info()"
   ]
  },
  {
   "cell_type": "code",
   "execution_count": 3,
   "id": "a2252a1e",
   "metadata": {},
   "outputs": [],
   "source": [
    "fake_lst = fake_user['UserID'].values.tolist()"
   ]
  },
  {
   "cell_type": "markdown",
   "id": "3a6abd03",
   "metadata": {},
   "source": [
    "# 1. User Information"
   ]
  },
  {
   "cell_type": "code",
   "execution_count": 4,
   "id": "58359f83",
   "metadata": {},
   "outputs": [
    {
     "name": "stdout",
     "output_type": "stream",
     "text": [
      "<class 'pandas.core.frame.DataFrame'>\n",
      "RangeIndex: 187242 entries, 0 to 187241\n",
      "Data columns (total 3 columns):\n",
      " #   Column       Non-Null Count   Dtype \n",
      "---  ------       --------------   ----- \n",
      " 0   UserID       187242 non-null  object\n",
      " 1   ChildBday    187242 non-null  object\n",
      " 2   ChildGender  187242 non-null  object\n",
      "dtypes: object(3)\n",
      "memory usage: 4.3+ MB\n"
     ]
    }
   ],
   "source": [
    "df = pd.read_csv('Users.csv')\n",
    "df.info()"
   ]
  },
  {
   "cell_type": "code",
   "execution_count": 5,
   "id": "8e414a3a",
   "metadata": {},
   "outputs": [
    {
     "name": "stdout",
     "output_type": "stream",
     "text": [
      "Filtering took: 2.07 minutes.\n",
      "<class 'pandas.core.frame.DataFrame'>\n",
      "Int64Index: 186634 entries, 0 to 187241\n",
      "Data columns (total 3 columns):\n",
      " #   Column       Non-Null Count   Dtype \n",
      "---  ------       --------------   ----- \n",
      " 0   UserID       186634 non-null  object\n",
      " 1   ChildBday    186634 non-null  object\n",
      " 2   ChildGender  186634 non-null  object\n",
      "dtypes: object(3)\n",
      "memory usage: 5.7+ MB\n"
     ]
    }
   ],
   "source": [
    "t0 = time.time()\n",
    "df = df.loc[df['UserID'].map(lambda x: x not in fake_lst)]\n",
    "t1 = time.time()\n",
    "\n",
    "print('Filtering took: {:.2f} minutes.'.format((t1-t0)/60))\n",
    "\n",
    "df.info()"
   ]
  },
  {
   "cell_type": "code",
   "execution_count": 6,
   "id": "2bff7543",
   "metadata": {},
   "outputs": [
    {
     "data": {
      "text/html": [
       "<div>\n",
       "<style scoped>\n",
       "    .dataframe tbody tr th:only-of-type {\n",
       "        vertical-align: middle;\n",
       "    }\n",
       "\n",
       "    .dataframe tbody tr th {\n",
       "        vertical-align: top;\n",
       "    }\n",
       "\n",
       "    .dataframe thead th {\n",
       "        text-align: right;\n",
       "    }\n",
       "</style>\n",
       "<table border=\"1\" class=\"dataframe\">\n",
       "  <thead>\n",
       "    <tr style=\"text-align: right;\">\n",
       "      <th></th>\n",
       "      <th>UserID</th>\n",
       "      <th>ChildBday</th>\n",
       "      <th>ChildGender</th>\n",
       "    </tr>\n",
       "  </thead>\n",
       "  <tbody>\n",
       "    <tr>\n",
       "      <th>0</th>\n",
       "      <td>e5be1228-cf16-451c-80a5-d1225aa6a230</td>\n",
       "      <td>2016-12-01</td>\n",
       "      <td>male</td>\n",
       "    </tr>\n",
       "    <tr>\n",
       "      <th>1</th>\n",
       "      <td>b588000b-c32a-442c-8192-a3167c8101a3</td>\n",
       "      <td>2017-12-01</td>\n",
       "      <td>male</td>\n",
       "    </tr>\n",
       "    <tr>\n",
       "      <th>2</th>\n",
       "      <td>76e614e8-88ac-4e9e-822a-cef168d3af29</td>\n",
       "      <td>2016-11-01</td>\n",
       "      <td>male</td>\n",
       "    </tr>\n",
       "    <tr>\n",
       "      <th>3</th>\n",
       "      <td>37f6c983-4780-4a20-83e3-09d900d8128d</td>\n",
       "      <td>2021-02-01</td>\n",
       "      <td>male</td>\n",
       "    </tr>\n",
       "    <tr>\n",
       "      <th>4</th>\n",
       "      <td>93b790c5-9623-41ed-846a-3475464ae2a2</td>\n",
       "      <td>2016-01-01</td>\n",
       "      <td>male</td>\n",
       "    </tr>\n",
       "  </tbody>\n",
       "</table>\n",
       "</div>"
      ],
      "text/plain": [
       "                                 UserID   ChildBday ChildGender\n",
       "0  e5be1228-cf16-451c-80a5-d1225aa6a230  2016-12-01        male\n",
       "1  b588000b-c32a-442c-8192-a3167c8101a3  2017-12-01        male\n",
       "2  76e614e8-88ac-4e9e-822a-cef168d3af29  2016-11-01        male\n",
       "3  37f6c983-4780-4a20-83e3-09d900d8128d  2021-02-01        male\n",
       "4  93b790c5-9623-41ed-846a-3475464ae2a2  2016-01-01        male"
      ]
     },
     "execution_count": 6,
     "metadata": {},
     "output_type": "execute_result"
    }
   ],
   "source": [
    "df.head()"
   ]
  },
  {
   "cell_type": "code",
   "execution_count": 7,
   "id": "064d8a54",
   "metadata": {},
   "outputs": [
    {
     "data": {
      "text/plain": [
       "(173193,)"
      ]
     },
     "execution_count": 7,
     "metadata": {},
     "output_type": "execute_result"
    }
   ],
   "source": [
    "df['UserID'].value_counts().shape"
   ]
  },
  {
   "cell_type": "code",
   "execution_count": 8,
   "id": "4ad6ff99",
   "metadata": {},
   "outputs": [
    {
     "data": {
      "text/plain": [
       "(4164,)"
      ]
     },
     "execution_count": 8,
     "metadata": {},
     "output_type": "execute_result"
    }
   ],
   "source": [
    "df['ChildBday'].value_counts().shape"
   ]
  },
  {
   "cell_type": "code",
   "execution_count": 9,
   "id": "ba4e295f",
   "metadata": {},
   "outputs": [
    {
     "name": "stdout",
     "output_type": "stream",
     "text": [
      "Before dropping duplicates: 186634 rows.\n",
      "After dropping duplicates: 183582 rows.\n"
     ]
    }
   ],
   "source": [
    "dup_val = len(df) - len(df.drop_duplicates())\n",
    "\n",
    "if dup_val > 0:\n",
    "    print('Before dropping duplicates: {} rows.'.format(len(df)))\n",
    "    df = df.drop_duplicates()\n",
    "    print('After dropping duplicates: {} rows.'.format(len(df)))\n",
    "else:\n",
    "    print('No duplicate values.')"
   ]
  },
  {
   "cell_type": "code",
   "execution_count": 10,
   "id": "1c81f03f",
   "metadata": {},
   "outputs": [],
   "source": [
    "df['ChildBday'] = pd.to_datetime(df['ChildBday'])"
   ]
  },
  {
   "cell_type": "code",
   "execution_count": 11,
   "id": "a318bed7",
   "metadata": {},
   "outputs": [],
   "source": [
    "df['ChildAge'] = df['ChildBday'].map(lambda x: round((pd.Timestamp.now() - x).days / 365, 1))"
   ]
  },
  {
   "cell_type": "code",
   "execution_count": 12,
   "id": "9ff970cf",
   "metadata": {
    "scrolled": true
   },
   "outputs": [
    {
     "data": {
      "text/html": [
       "<div>\n",
       "<style scoped>\n",
       "    .dataframe tbody tr th:only-of-type {\n",
       "        vertical-align: middle;\n",
       "    }\n",
       "\n",
       "    .dataframe tbody tr th {\n",
       "        vertical-align: top;\n",
       "    }\n",
       "\n",
       "    .dataframe thead th {\n",
       "        text-align: right;\n",
       "    }\n",
       "</style>\n",
       "<table border=\"1\" class=\"dataframe\">\n",
       "  <thead>\n",
       "    <tr style=\"text-align: right;\">\n",
       "      <th></th>\n",
       "      <th>UserID</th>\n",
       "      <th>ChildBday</th>\n",
       "      <th>ChildGender</th>\n",
       "      <th>ChildAge</th>\n",
       "    </tr>\n",
       "  </thead>\n",
       "  <tbody>\n",
       "    <tr>\n",
       "      <th>0</th>\n",
       "      <td>e5be1228-cf16-451c-80a5-d1225aa6a230</td>\n",
       "      <td>2016-12-01</td>\n",
       "      <td>male</td>\n",
       "      <td>6.4</td>\n",
       "    </tr>\n",
       "    <tr>\n",
       "      <th>1</th>\n",
       "      <td>b588000b-c32a-442c-8192-a3167c8101a3</td>\n",
       "      <td>2017-12-01</td>\n",
       "      <td>male</td>\n",
       "      <td>5.4</td>\n",
       "    </tr>\n",
       "    <tr>\n",
       "      <th>2</th>\n",
       "      <td>76e614e8-88ac-4e9e-822a-cef168d3af29</td>\n",
       "      <td>2016-11-01</td>\n",
       "      <td>male</td>\n",
       "      <td>6.5</td>\n",
       "    </tr>\n",
       "    <tr>\n",
       "      <th>3</th>\n",
       "      <td>37f6c983-4780-4a20-83e3-09d900d8128d</td>\n",
       "      <td>2021-02-01</td>\n",
       "      <td>male</td>\n",
       "      <td>2.2</td>\n",
       "    </tr>\n",
       "    <tr>\n",
       "      <th>4</th>\n",
       "      <td>93b790c5-9623-41ed-846a-3475464ae2a2</td>\n",
       "      <td>2016-01-01</td>\n",
       "      <td>male</td>\n",
       "      <td>7.3</td>\n",
       "    </tr>\n",
       "  </tbody>\n",
       "</table>\n",
       "</div>"
      ],
      "text/plain": [
       "                                 UserID  ChildBday ChildGender  ChildAge\n",
       "0  e5be1228-cf16-451c-80a5-d1225aa6a230 2016-12-01        male       6.4\n",
       "1  b588000b-c32a-442c-8192-a3167c8101a3 2017-12-01        male       5.4\n",
       "2  76e614e8-88ac-4e9e-822a-cef168d3af29 2016-11-01        male       6.5\n",
       "3  37f6c983-4780-4a20-83e3-09d900d8128d 2021-02-01        male       2.2\n",
       "4  93b790c5-9623-41ed-846a-3475464ae2a2 2016-01-01        male       7.3"
      ]
     },
     "execution_count": 12,
     "metadata": {},
     "output_type": "execute_result"
    }
   ],
   "source": [
    "df.head()"
   ]
  },
  {
   "cell_type": "code",
   "execution_count": 14,
   "id": "1d568557",
   "metadata": {},
   "outputs": [
    {
     "data": {
      "image/png": "[encoded data removed]",
      "text/plain": [
       "<Figure size 720x432 with 1 Axes>"
      ]
     },
     "metadata": {
      "needs_background": "light"
     },
     "output_type": "display_data"
    }
   ],
   "source": [
    "plt.figure(figsize=(10, 6))\n",
    "sb.distplot(df['ChildAge']);"
   ]
  },
  {
   "cell_type": "code",
   "execution_count": 15,
   "id": "2cedf95c",
   "metadata": {},
   "outputs": [],
   "source": [
    "b = [int(x) for x in df['ChildAge'].values]"
   ]
  },
  {
   "cell_type": "code",
   "execution_count": 16,
   "id": "a7d9d50d",
   "metadata": {},
   "outputs": [
    {
     "data": {
      "image/png": "[encoded data removed]",
      "text/plain": [
       "<Figure size 720x432 with 1 Axes>"
      ]
     },
     "metadata": {
      "needs_background": "light"
     },
     "output_type": "display_data"
    }
   ],
   "source": [
    "plt.figure(figsize=(10, 6))\n",
    "sb.distplot(b);"
   ]
  },
  {
   "cell_type": "code",
   "execution_count": 38,
   "id": "40596716",
   "metadata": {},
   "outputs": [],
   "source": [
    "df.to_csv('Clean_Users.csv', index = False)"
   ]
  },
  {
   "cell_type": "markdown",
   "id": "65a00b31",
   "metadata": {},
   "source": [
    "# 2. User Mobile brands"
   ]
  },
  {
   "cell_type": "code",
   "execution_count": 17,
   "id": "8894ad62",
   "metadata": {},
   "outputs": [
    {
     "name": "stdout",
     "output_type": "stream",
     "text": [
      "<class 'pandas.core.frame.DataFrame'>\n",
      "RangeIndex: 232386 entries, 0 to 232385\n",
      "Data columns (total 2 columns):\n",
      " #   Column  Non-Null Count   Dtype \n",
      "---  ------  --------------   ----- \n",
      " 0   0       232386 non-null  object\n",
      " 1   1       232386 non-null  object\n",
      "dtypes: object(2)\n",
      "memory usage: 3.5+ MB\n"
     ]
    }
   ],
   "source": [
    "devices = pd.read_csv('DeviceBrand.csv')\n",
    "devices.info()"
   ]
  },
  {
   "cell_type": "code",
   "execution_count": 18,
   "id": "0248c579",
   "metadata": {},
   "outputs": [],
   "source": [
    "new_cols = ['UserID', 'Brand']\n",
    "\n",
    "devices.columns = new_cols"
   ]
  },
  {
   "cell_type": "code",
   "execution_count": 19,
   "id": "1333ad6f",
   "metadata": {},
   "outputs": [
    {
     "name": "stdout",
     "output_type": "stream",
     "text": [
      "Filtering took: 2.45 minutes.\n",
      "<class 'pandas.core.frame.DataFrame'>\n",
      "Int64Index: 231765 entries, 0 to 232385\n",
      "Data columns (total 2 columns):\n",
      " #   Column  Non-Null Count   Dtype \n",
      "---  ------  --------------   ----- \n",
      " 0   UserID  231765 non-null  object\n",
      " 1   Brand   231765 non-null  object\n",
      "dtypes: object(2)\n",
      "memory usage: 5.3+ MB\n"
     ]
    }
   ],
   "source": [
    "t0 = time.time()\n",
    "devices = devices.loc[devices['UserID'].map(lambda x: x not in fake_lst)]\n",
    "t1 = time.time()\n",
    "\n",
    "print('Filtering took: {:.2f} minutes.'.format((t1-t0)/60))\n",
    "\n",
    "devices.info()"
   ]
  },
  {
   "cell_type": "code",
   "execution_count": 20,
   "id": "65c3fae7",
   "metadata": {},
   "outputs": [
    {
     "data": {
      "text/html": [
       "<div>\n",
       "<style scoped>\n",
       "    .dataframe tbody tr th:only-of-type {\n",
       "        vertical-align: middle;\n",
       "    }\n",
       "\n",
       "    .dataframe tbody tr th {\n",
       "        vertical-align: top;\n",
       "    }\n",
       "\n",
       "    .dataframe thead th {\n",
       "        text-align: right;\n",
       "    }\n",
       "</style>\n",
       "<table border=\"1\" class=\"dataframe\">\n",
       "  <thead>\n",
       "    <tr style=\"text-align: right;\">\n",
       "      <th></th>\n",
       "      <th>UserID</th>\n",
       "      <th>Brand</th>\n",
       "    </tr>\n",
       "  </thead>\n",
       "  <tbody>\n",
       "    <tr>\n",
       "      <th>0</th>\n",
       "      <td>98af826b-1133-4b32-a560-bc312e80fd26</td>\n",
       "      <td>apple</td>\n",
       "    </tr>\n",
       "    <tr>\n",
       "      <th>1</th>\n",
       "      <td>1359b19f-0ba7-46fa-8477-8ab8ef966f08</td>\n",
       "      <td>samsung</td>\n",
       "    </tr>\n",
       "    <tr>\n",
       "      <th>2</th>\n",
       "      <td>14be2879-edf8-4779-a303-9c60034b7dac</td>\n",
       "      <td>apple</td>\n",
       "    </tr>\n",
       "    <tr>\n",
       "      <th>3</th>\n",
       "      <td>3edce4a5-cba9-4751-8c9f-cc2f31032141</td>\n",
       "      <td>apple</td>\n",
       "    </tr>\n",
       "    <tr>\n",
       "      <th>4</th>\n",
       "      <td>5618ba32-50a5-46f0-a4c0-b2eea3dfd498</td>\n",
       "      <td>oppo</td>\n",
       "    </tr>\n",
       "  </tbody>\n",
       "</table>\n",
       "</div>"
      ],
      "text/plain": [
       "                                 UserID    Brand\n",
       "0  98af826b-1133-4b32-a560-bc312e80fd26    apple\n",
       "1  1359b19f-0ba7-46fa-8477-8ab8ef966f08  samsung\n",
       "2  14be2879-edf8-4779-a303-9c60034b7dac    apple\n",
       "3  3edce4a5-cba9-4751-8c9f-cc2f31032141    apple\n",
       "4  5618ba32-50a5-46f0-a4c0-b2eea3dfd498     oppo"
      ]
     },
     "execution_count": 20,
     "metadata": {},
     "output_type": "execute_result"
    }
   ],
   "source": [
    "devices.head()"
   ]
  },
  {
   "cell_type": "code",
   "execution_count": 21,
   "id": "89444d8d",
   "metadata": {},
   "outputs": [
    {
     "data": {
      "text/plain": [
       "(224440,)"
      ]
     },
     "execution_count": 21,
     "metadata": {},
     "output_type": "execute_result"
    }
   ],
   "source": [
    "devices['UserID'].value_counts().shape"
   ]
  },
  {
   "cell_type": "code",
   "execution_count": 22,
   "id": "47ea404e",
   "metadata": {
    "scrolled": true
   },
   "outputs": [
    {
     "data": {
      "text/plain": [
       "samsung    75986\n",
       "apple      58374\n",
       "oppo       44714\n",
       "vivo       13718\n",
       "redmi       9758\n",
       "realme      6841\n",
       "xiaomi      5966\n",
       "vsmart      5502\n",
       "huawei      2587\n",
       "nokia       1507\n",
       "lenovo      1373\n",
       "poco         826\n",
       "masstel      821\n",
       "lge          531\n",
       "sony         310\n",
       "Name: Brand, dtype: int64"
      ]
     },
     "execution_count": 22,
     "metadata": {},
     "output_type": "execute_result"
    }
   ],
   "source": [
    "brand_series = devices['Brand'].value_counts()\n",
    "brand_series.head(15)"
   ]
  },
  {
   "cell_type": "code",
   "execution_count": 23,
   "id": "e09017a8",
   "metadata": {},
   "outputs": [
    {
     "data": {
      "text/plain": [
       "['samsung',\n",
       " 'apple',\n",
       " 'oppo',\n",
       " 'vivo',\n",
       " 'redmi',\n",
       " 'realme',\n",
       " 'xiaomi',\n",
       " 'vsmart',\n",
       " 'huawei',\n",
       " 'nokia',\n",
       " 'lenovo',\n",
       " 'poco',\n",
       " 'masstel',\n",
       " 'lge',\n",
       " 'sony']"
      ]
     },
     "execution_count": 23,
     "metadata": {},
     "output_type": "execute_result"
    }
   ],
   "source": [
    "top15_brand = brand_series[brand_series >= 300].index.tolist()\n",
    "top15_brand"
   ]
  },
  {
   "cell_type": "code",
   "execution_count": 24,
   "id": "095eac37",
   "metadata": {},
   "outputs": [],
   "source": [
    "devices.loc[devices['Brand'].map(lambda x: x not in top15_brand), 'Brand'] = 'Others'"
   ]
  },
  {
   "cell_type": "code",
   "execution_count": 25,
   "id": "9222dc4f",
   "metadata": {},
   "outputs": [
    {
     "data": {
      "text/plain": [
       "samsung    75986\n",
       "apple      58374\n",
       "oppo       44714\n",
       "vivo       13718\n",
       "redmi       9758\n",
       "realme      6841\n",
       "xiaomi      5966\n",
       "vsmart      5502\n",
       "Others      2951\n",
       "huawei      2587\n",
       "nokia       1507\n",
       "lenovo      1373\n",
       "poco         826\n",
       "masstel      821\n",
       "lge          531\n",
       "sony         310\n",
       "Name: Brand, dtype: int64"
      ]
     },
     "execution_count": 25,
     "metadata": {},
     "output_type": "execute_result"
    }
   ],
   "source": [
    "devices['Brand'].value_counts()"
   ]
  },
  {
   "cell_type": "code",
   "execution_count": 61,
   "id": "083f4069",
   "metadata": {},
   "outputs": [],
   "source": [
    "devices.to_csv('Clean_Brands.csv', index = False)"
   ]
  },
  {
   "cell_type": "code",
   "execution_count": 26,
   "id": "8eab4bec",
   "metadata": {},
   "outputs": [],
   "source": [
    "cnt = [1] * devices.shape[0]\n",
    "\n",
    "devices['Counting'] = cnt"
   ]
  },
  {
   "cell_type": "code",
   "execution_count": 27,
   "id": "14a1acd9",
   "metadata": {},
   "outputs": [
    {
     "data": {
      "text/html": [
       "<div>\n",
       "<style scoped>\n",
       "    .dataframe tbody tr th:only-of-type {\n",
       "        vertical-align: middle;\n",
       "    }\n",
       "\n",
       "    .dataframe tbody tr th {\n",
       "        vertical-align: top;\n",
       "    }\n",
       "\n",
       "    .dataframe thead th {\n",
       "        text-align: right;\n",
       "    }\n",
       "</style>\n",
       "<table border=\"1\" class=\"dataframe\">\n",
       "  <thead>\n",
       "    <tr style=\"text-align: right;\">\n",
       "      <th></th>\n",
       "      <th>UserID</th>\n",
       "      <th>Brand</th>\n",
       "      <th>Counting</th>\n",
       "    </tr>\n",
       "  </thead>\n",
       "  <tbody>\n",
       "    <tr>\n",
       "      <th>0</th>\n",
       "      <td>00002520-3fe9-4d4b-9e1f-e4a72386bf47</td>\n",
       "      <td>realme</td>\n",
       "      <td>1</td>\n",
       "    </tr>\n",
       "    <tr>\n",
       "      <th>1</th>\n",
       "      <td>00007f9f-be36-4a0d-a2a8-167231588625</td>\n",
       "      <td>samsung</td>\n",
       "      <td>1</td>\n",
       "    </tr>\n",
       "    <tr>\n",
       "      <th>2</th>\n",
       "      <td>00015787-1ed9-45b9-9c5f-2613e2ca8409</td>\n",
       "      <td>samsung</td>\n",
       "      <td>1</td>\n",
       "    </tr>\n",
       "    <tr>\n",
       "      <th>3</th>\n",
       "      <td>0001c76a-806c-4818-99eb-dbdaa196288d</td>\n",
       "      <td>samsung</td>\n",
       "      <td>1</td>\n",
       "    </tr>\n",
       "    <tr>\n",
       "      <th>4</th>\n",
       "      <td>000234a9-a233-4476-9023-9b83f331b7f6</td>\n",
       "      <td>apple</td>\n",
       "      <td>1</td>\n",
       "    </tr>\n",
       "    <tr>\n",
       "      <th>...</th>\n",
       "      <td>...</td>\n",
       "      <td>...</td>\n",
       "      <td>...</td>\n",
       "    </tr>\n",
       "    <tr>\n",
       "      <th>231745</th>\n",
       "      <td>ffff588b-6a96-4cc1-9aac-9741f512eaa2</td>\n",
       "      <td>oppo</td>\n",
       "      <td>1</td>\n",
       "    </tr>\n",
       "    <tr>\n",
       "      <th>231746</th>\n",
       "      <td>ffff81a7-4938-4d26-8492-bd8e4acc2a19</td>\n",
       "      <td>apple</td>\n",
       "      <td>1</td>\n",
       "    </tr>\n",
       "    <tr>\n",
       "      <th>231747</th>\n",
       "      <td>ffffbd84-934c-496d-bf25-f9329bc39fc1</td>\n",
       "      <td>oppo</td>\n",
       "      <td>1</td>\n",
       "    </tr>\n",
       "    <tr>\n",
       "      <th>231748</th>\n",
       "      <td>ffffd6e4-345a-4222-932a-a97f6b5b193d</td>\n",
       "      <td>samsung</td>\n",
       "      <td>1</td>\n",
       "    </tr>\n",
       "    <tr>\n",
       "      <th>231749</th>\n",
       "      <td>ffffd834-3f54-4dc9-87bb-e57dea98a7b1</td>\n",
       "      <td>samsung</td>\n",
       "      <td>1</td>\n",
       "    </tr>\n",
       "  </tbody>\n",
       "</table>\n",
       "<p>231750 rows × 3 columns</p>\n",
       "</div>"
      ],
      "text/plain": [
       "                                      UserID    Brand  Counting\n",
       "0       00002520-3fe9-4d4b-9e1f-e4a72386bf47   realme         1\n",
       "1       00007f9f-be36-4a0d-a2a8-167231588625  samsung         1\n",
       "2       00015787-1ed9-45b9-9c5f-2613e2ca8409  samsung         1\n",
       "3       0001c76a-806c-4818-99eb-dbdaa196288d  samsung         1\n",
       "4       000234a9-a233-4476-9023-9b83f331b7f6    apple         1\n",
       "...                                      ...      ...       ...\n",
       "231745  ffff588b-6a96-4cc1-9aac-9741f512eaa2     oppo         1\n",
       "231746  ffff81a7-4938-4d26-8492-bd8e4acc2a19    apple         1\n",
       "231747  ffffbd84-934c-496d-bf25-f9329bc39fc1     oppo         1\n",
       "231748  ffffd6e4-345a-4222-932a-a97f6b5b193d  samsung         1\n",
       "231749  ffffd834-3f54-4dc9-87bb-e57dea98a7b1  samsung         1\n",
       "\n",
       "[231750 rows x 3 columns]"
      ]
     },
     "execution_count": 27,
     "metadata": {},
     "output_type": "execute_result"
    }
   ],
   "source": [
    "tmp = pd.DataFrame(devices.groupby(['UserID', 'Brand'])['Counting'].sum().reset_index())\n",
    "tmp"
   ]
  },
  {
   "cell_type": "code",
   "execution_count": 28,
   "id": "1c12c6e8",
   "metadata": {},
   "outputs": [],
   "source": [
    "devices_pivot = tmp.pivot_table(index = 'UserID',\n",
    "                                columns = 'Brand',\n",
    "                                values = ['Counting'],\n",
    "                                aggfunc = np.sum)"
   ]
  },
  {
   "cell_type": "code",
   "execution_count": 29,
   "id": "f24e190f",
   "metadata": {},
   "outputs": [
    {
     "data": {
      "text/html": [
       "<div>\n",
       "<style scoped>\n",
       "    .dataframe tbody tr th:only-of-type {\n",
       "        vertical-align: middle;\n",
       "    }\n",
       "\n",
       "    .dataframe tbody tr th {\n",
       "        vertical-align: top;\n",
       "    }\n",
       "\n",
       "    .dataframe thead tr th {\n",
       "        text-align: left;\n",
       "    }\n",
       "</style>\n",
       "<table border=\"1\" class=\"dataframe\">\n",
       "  <thead>\n",
       "    <tr>\n",
       "      <th></th>\n",
       "      <th>UserID</th>\n",
       "      <th colspan=\"16\" halign=\"left\">Counting</th>\n",
       "    </tr>\n",
       "    <tr>\n",
       "      <th>Brand</th>\n",
       "      <th></th>\n",
       "      <th>Others</th>\n",
       "      <th>apple</th>\n",
       "      <th>huawei</th>\n",
       "      <th>lenovo</th>\n",
       "      <th>lge</th>\n",
       "      <th>masstel</th>\n",
       "      <th>nokia</th>\n",
       "      <th>oppo</th>\n",
       "      <th>poco</th>\n",
       "      <th>realme</th>\n",
       "      <th>redmi</th>\n",
       "      <th>samsung</th>\n",
       "      <th>sony</th>\n",
       "      <th>vivo</th>\n",
       "      <th>vsmart</th>\n",
       "      <th>xiaomi</th>\n",
       "    </tr>\n",
       "  </thead>\n",
       "  <tbody>\n",
       "    <tr>\n",
       "      <th>0</th>\n",
       "      <td>00002520-3fe9-4d4b-9e1f-e4a72386bf47</td>\n",
       "      <td>NaN</td>\n",
       "      <td>NaN</td>\n",
       "      <td>NaN</td>\n",
       "      <td>NaN</td>\n",
       "      <td>NaN</td>\n",
       "      <td>NaN</td>\n",
       "      <td>NaN</td>\n",
       "      <td>NaN</td>\n",
       "      <td>NaN</td>\n",
       "      <td>1.0</td>\n",
       "      <td>NaN</td>\n",
       "      <td>NaN</td>\n",
       "      <td>NaN</td>\n",
       "      <td>NaN</td>\n",
       "      <td>NaN</td>\n",
       "      <td>NaN</td>\n",
       "    </tr>\n",
       "    <tr>\n",
       "      <th>1</th>\n",
       "      <td>00007f9f-be36-4a0d-a2a8-167231588625</td>\n",
       "      <td>NaN</td>\n",
       "      <td>NaN</td>\n",
       "      <td>NaN</td>\n",
       "      <td>NaN</td>\n",
       "      <td>NaN</td>\n",
       "      <td>NaN</td>\n",
       "      <td>NaN</td>\n",
       "      <td>NaN</td>\n",
       "      <td>NaN</td>\n",
       "      <td>NaN</td>\n",
       "      <td>NaN</td>\n",
       "      <td>1.0</td>\n",
       "      <td>NaN</td>\n",
       "      <td>NaN</td>\n",
       "      <td>NaN</td>\n",
       "      <td>NaN</td>\n",
       "    </tr>\n",
       "    <tr>\n",
       "      <th>2</th>\n",
       "      <td>00015787-1ed9-45b9-9c5f-2613e2ca8409</td>\n",
       "      <td>NaN</td>\n",
       "      <td>NaN</td>\n",
       "      <td>NaN</td>\n",
       "      <td>NaN</td>\n",
       "      <td>NaN</td>\n",
       "      <td>NaN</td>\n",
       "      <td>NaN</td>\n",
       "      <td>NaN</td>\n",
       "      <td>NaN</td>\n",
       "      <td>NaN</td>\n",
       "      <td>NaN</td>\n",
       "      <td>1.0</td>\n",
       "      <td>NaN</td>\n",
       "      <td>NaN</td>\n",
       "      <td>NaN</td>\n",
       "      <td>NaN</td>\n",
       "    </tr>\n",
       "    <tr>\n",
       "      <th>3</th>\n",
       "      <td>0001c76a-806c-4818-99eb-dbdaa196288d</td>\n",
       "      <td>NaN</td>\n",
       "      <td>NaN</td>\n",
       "      <td>NaN</td>\n",
       "      <td>NaN</td>\n",
       "      <td>NaN</td>\n",
       "      <td>NaN</td>\n",
       "      <td>NaN</td>\n",
       "      <td>NaN</td>\n",
       "      <td>NaN</td>\n",
       "      <td>NaN</td>\n",
       "      <td>NaN</td>\n",
       "      <td>1.0</td>\n",
       "      <td>NaN</td>\n",
       "      <td>NaN</td>\n",
       "      <td>NaN</td>\n",
       "      <td>NaN</td>\n",
       "    </tr>\n",
       "    <tr>\n",
       "      <th>4</th>\n",
       "      <td>000234a9-a233-4476-9023-9b83f331b7f6</td>\n",
       "      <td>NaN</td>\n",
       "      <td>1.0</td>\n",
       "      <td>NaN</td>\n",
       "      <td>NaN</td>\n",
       "      <td>NaN</td>\n",
       "      <td>NaN</td>\n",
       "      <td>NaN</td>\n",
       "      <td>NaN</td>\n",
       "      <td>NaN</td>\n",
       "      <td>NaN</td>\n",
       "      <td>NaN</td>\n",
       "      <td>NaN</td>\n",
       "      <td>NaN</td>\n",
       "      <td>NaN</td>\n",
       "      <td>NaN</td>\n",
       "      <td>NaN</td>\n",
       "    </tr>\n",
       "    <tr>\n",
       "      <th>...</th>\n",
       "      <td>...</td>\n",
       "      <td>...</td>\n",
       "      <td>...</td>\n",
       "      <td>...</td>\n",
       "      <td>...</td>\n",
       "      <td>...</td>\n",
       "      <td>...</td>\n",
       "      <td>...</td>\n",
       "      <td>...</td>\n",
       "      <td>...</td>\n",
       "      <td>...</td>\n",
       "      <td>...</td>\n",
       "      <td>...</td>\n",
       "      <td>...</td>\n",
       "      <td>...</td>\n",
       "      <td>...</td>\n",
       "      <td>...</td>\n",
       "    </tr>\n",
       "    <tr>\n",
       "      <th>224435</th>\n",
       "      <td>ffff588b-6a96-4cc1-9aac-9741f512eaa2</td>\n",
       "      <td>NaN</td>\n",
       "      <td>NaN</td>\n",
       "      <td>NaN</td>\n",
       "      <td>NaN</td>\n",
       "      <td>NaN</td>\n",
       "      <td>NaN</td>\n",
       "      <td>NaN</td>\n",
       "      <td>1.0</td>\n",
       "      <td>NaN</td>\n",
       "      <td>NaN</td>\n",
       "      <td>NaN</td>\n",
       "      <td>NaN</td>\n",
       "      <td>NaN</td>\n",
       "      <td>NaN</td>\n",
       "      <td>NaN</td>\n",
       "      <td>NaN</td>\n",
       "    </tr>\n",
       "    <tr>\n",
       "      <th>224436</th>\n",
       "      <td>ffff81a7-4938-4d26-8492-bd8e4acc2a19</td>\n",
       "      <td>NaN</td>\n",
       "      <td>1.0</td>\n",
       "      <td>NaN</td>\n",
       "      <td>NaN</td>\n",
       "      <td>NaN</td>\n",
       "      <td>NaN</td>\n",
       "      <td>NaN</td>\n",
       "      <td>NaN</td>\n",
       "      <td>NaN</td>\n",
       "      <td>NaN</td>\n",
       "      <td>NaN</td>\n",
       "      <td>NaN</td>\n",
       "      <td>NaN</td>\n",
       "      <td>NaN</td>\n",
       "      <td>NaN</td>\n",
       "      <td>NaN</td>\n",
       "    </tr>\n",
       "    <tr>\n",
       "      <th>224437</th>\n",
       "      <td>ffffbd84-934c-496d-bf25-f9329bc39fc1</td>\n",
       "      <td>NaN</td>\n",
       "      <td>NaN</td>\n",
       "      <td>NaN</td>\n",
       "      <td>NaN</td>\n",
       "      <td>NaN</td>\n",
       "      <td>NaN</td>\n",
       "      <td>NaN</td>\n",
       "      <td>1.0</td>\n",
       "      <td>NaN</td>\n",
       "      <td>NaN</td>\n",
       "      <td>NaN</td>\n",
       "      <td>NaN</td>\n",
       "      <td>NaN</td>\n",
       "      <td>NaN</td>\n",
       "      <td>NaN</td>\n",
       "      <td>NaN</td>\n",
       "    </tr>\n",
       "    <tr>\n",
       "      <th>224438</th>\n",
       "      <td>ffffd6e4-345a-4222-932a-a97f6b5b193d</td>\n",
       "      <td>NaN</td>\n",
       "      <td>NaN</td>\n",
       "      <td>NaN</td>\n",
       "      <td>NaN</td>\n",
       "      <td>NaN</td>\n",
       "      <td>NaN</td>\n",
       "      <td>NaN</td>\n",
       "      <td>NaN</td>\n",
       "      <td>NaN</td>\n",
       "      <td>NaN</td>\n",
       "      <td>NaN</td>\n",
       "      <td>1.0</td>\n",
       "      <td>NaN</td>\n",
       "      <td>NaN</td>\n",
       "      <td>NaN</td>\n",
       "      <td>NaN</td>\n",
       "    </tr>\n",
       "    <tr>\n",
       "      <th>224439</th>\n",
       "      <td>ffffd834-3f54-4dc9-87bb-e57dea98a7b1</td>\n",
       "      <td>NaN</td>\n",
       "      <td>NaN</td>\n",
       "      <td>NaN</td>\n",
       "      <td>NaN</td>\n",
       "      <td>NaN</td>\n",
       "      <td>NaN</td>\n",
       "      <td>NaN</td>\n",
       "      <td>NaN</td>\n",
       "      <td>NaN</td>\n",
       "      <td>NaN</td>\n",
       "      <td>NaN</td>\n",
       "      <td>1.0</td>\n",
       "      <td>NaN</td>\n",
       "      <td>NaN</td>\n",
       "      <td>NaN</td>\n",
       "      <td>NaN</td>\n",
       "    </tr>\n",
       "  </tbody>\n",
       "</table>\n",
       "<p>224440 rows × 17 columns</p>\n",
       "</div>"
      ],
      "text/plain": [
       "                                      UserID Counting                          \\\n",
       "Brand                                          Others apple huawei lenovo lge   \n",
       "0       00002520-3fe9-4d4b-9e1f-e4a72386bf47      NaN   NaN    NaN    NaN NaN   \n",
       "1       00007f9f-be36-4a0d-a2a8-167231588625      NaN   NaN    NaN    NaN NaN   \n",
       "2       00015787-1ed9-45b9-9c5f-2613e2ca8409      NaN   NaN    NaN    NaN NaN   \n",
       "3       0001c76a-806c-4818-99eb-dbdaa196288d      NaN   NaN    NaN    NaN NaN   \n",
       "4       000234a9-a233-4476-9023-9b83f331b7f6      NaN   1.0    NaN    NaN NaN   \n",
       "...                                      ...      ...   ...    ...    ...  ..   \n",
       "224435  ffff588b-6a96-4cc1-9aac-9741f512eaa2      NaN   NaN    NaN    NaN NaN   \n",
       "224436  ffff81a7-4938-4d26-8492-bd8e4acc2a19      NaN   1.0    NaN    NaN NaN   \n",
       "224437  ffffbd84-934c-496d-bf25-f9329bc39fc1      NaN   NaN    NaN    NaN NaN   \n",
       "224438  ffffd6e4-345a-4222-932a-a97f6b5b193d      NaN   NaN    NaN    NaN NaN   \n",
       "224439  ffffd834-3f54-4dc9-87bb-e57dea98a7b1      NaN   NaN    NaN    NaN NaN   \n",
       "\n",
       "                                                                             \n",
       "Brand  masstel nokia oppo poco realme redmi samsung sony vivo vsmart xiaomi  \n",
       "0          NaN   NaN  NaN  NaN    1.0   NaN     NaN  NaN  NaN    NaN    NaN  \n",
       "1          NaN   NaN  NaN  NaN    NaN   NaN     1.0  NaN  NaN    NaN    NaN  \n",
       "2          NaN   NaN  NaN  NaN    NaN   NaN     1.0  NaN  NaN    NaN    NaN  \n",
       "3          NaN   NaN  NaN  NaN    NaN   NaN     1.0  NaN  NaN    NaN    NaN  \n",
       "4          NaN   NaN  NaN  NaN    NaN   NaN     NaN  NaN  NaN    NaN    NaN  \n",
       "...        ...   ...  ...  ...    ...   ...     ...  ...  ...    ...    ...  \n",
       "224435     NaN   NaN  1.0  NaN    NaN   NaN     NaN  NaN  NaN    NaN    NaN  \n",
       "224436     NaN   NaN  NaN  NaN    NaN   NaN     NaN  NaN  NaN    NaN    NaN  \n",
       "224437     NaN   NaN  1.0  NaN    NaN   NaN     NaN  NaN  NaN    NaN    NaN  \n",
       "224438     NaN   NaN  NaN  NaN    NaN   NaN     1.0  NaN  NaN    NaN    NaN  \n",
       "224439     NaN   NaN  NaN  NaN    NaN   NaN     1.0  NaN  NaN    NaN    NaN  \n",
       "\n",
       "[224440 rows x 17 columns]"
      ]
     },
     "execution_count": 29,
     "metadata": {},
     "output_type": "execute_result"
    }
   ],
   "source": [
    "devices_pivot = devices_pivot.reset_index()\n",
    "devices_pivot"
   ]
  },
  {
   "cell_type": "code",
   "execution_count": 30,
   "id": "9defc8ab",
   "metadata": {},
   "outputs": [
    {
     "data": {
      "text/plain": [
       "MultiIndex([(  'UserID',        ''),\n",
       "            ('Counting',  'Others'),\n",
       "            ('Counting',   'apple'),\n",
       "            ('Counting',  'huawei'),\n",
       "            ('Counting',  'lenovo'),\n",
       "            ('Counting',     'lge'),\n",
       "            ('Counting', 'masstel'),\n",
       "            ('Counting',   'nokia'),\n",
       "            ('Counting',    'oppo'),\n",
       "            ('Counting',    'poco'),\n",
       "            ('Counting',  'realme'),\n",
       "            ('Counting',   'redmi'),\n",
       "            ('Counting', 'samsung'),\n",
       "            ('Counting',    'sony'),\n",
       "            ('Counting',    'vivo'),\n",
       "            ('Counting',  'vsmart'),\n",
       "            ('Counting',  'xiaomi')],\n",
       "           names=[None, 'Brand'])"
      ]
     },
     "execution_count": 30,
     "metadata": {},
     "output_type": "execute_result"
    }
   ],
   "source": [
    "devices_pivot.columns"
   ]
  },
  {
   "cell_type": "code",
   "execution_count": 31,
   "id": "50a7e15b",
   "metadata": {},
   "outputs": [
    {
     "data": {
      "text/plain": [
       "['UserID',\n",
       " 'Others',\n",
       " 'apple',\n",
       " 'huawei',\n",
       " 'lenovo',\n",
       " 'lge',\n",
       " 'masstel',\n",
       " 'nokia',\n",
       " 'oppo',\n",
       " 'poco',\n",
       " 'realme',\n",
       " 'redmi',\n",
       " 'samsung',\n",
       " 'sony',\n",
       " 'vivo',\n",
       " 'vsmart',\n",
       " 'xiaomi']"
      ]
     },
     "execution_count": 31,
     "metadata": {},
     "output_type": "execute_result"
    }
   ],
   "source": [
    "cols = [x[1] for x in devices_pivot.columns]\n",
    "cols[0] = 'UserID'\n",
    "cols"
   ]
  },
  {
   "cell_type": "code",
   "execution_count": 32,
   "id": "28e20bf0",
   "metadata": {},
   "outputs": [
    {
     "data": {
      "text/html": [
       "<div>\n",
       "<style scoped>\n",
       "    .dataframe tbody tr th:only-of-type {\n",
       "        vertical-align: middle;\n",
       "    }\n",
       "\n",
       "    .dataframe tbody tr th {\n",
       "        vertical-align: top;\n",
       "    }\n",
       "\n",
       "    .dataframe thead th {\n",
       "        text-align: right;\n",
       "    }\n",
       "</style>\n",
       "<table border=\"1\" class=\"dataframe\">\n",
       "  <thead>\n",
       "    <tr style=\"text-align: right;\">\n",
       "      <th></th>\n",
       "      <th>UserID</th>\n",
       "      <th>Others</th>\n",
       "      <th>apple</th>\n",
       "      <th>huawei</th>\n",
       "      <th>lenovo</th>\n",
       "      <th>lge</th>\n",
       "      <th>masstel</th>\n",
       "      <th>nokia</th>\n",
       "      <th>oppo</th>\n",
       "      <th>poco</th>\n",
       "      <th>realme</th>\n",
       "      <th>redmi</th>\n",
       "      <th>samsung</th>\n",
       "      <th>sony</th>\n",
       "      <th>vivo</th>\n",
       "      <th>vsmart</th>\n",
       "      <th>xiaomi</th>\n",
       "    </tr>\n",
       "  </thead>\n",
       "  <tbody>\n",
       "    <tr>\n",
       "      <th>0</th>\n",
       "      <td>00002520-3fe9-4d4b-9e1f-e4a72386bf47</td>\n",
       "      <td>NaN</td>\n",
       "      <td>NaN</td>\n",
       "      <td>NaN</td>\n",
       "      <td>NaN</td>\n",
       "      <td>NaN</td>\n",
       "      <td>NaN</td>\n",
       "      <td>NaN</td>\n",
       "      <td>NaN</td>\n",
       "      <td>NaN</td>\n",
       "      <td>1.0</td>\n",
       "      <td>NaN</td>\n",
       "      <td>NaN</td>\n",
       "      <td>NaN</td>\n",
       "      <td>NaN</td>\n",
       "      <td>NaN</td>\n",
       "      <td>NaN</td>\n",
       "    </tr>\n",
       "    <tr>\n",
       "      <th>1</th>\n",
       "      <td>00007f9f-be36-4a0d-a2a8-167231588625</td>\n",
       "      <td>NaN</td>\n",
       "      <td>NaN</td>\n",
       "      <td>NaN</td>\n",
       "      <td>NaN</td>\n",
       "      <td>NaN</td>\n",
       "      <td>NaN</td>\n",
       "      <td>NaN</td>\n",
       "      <td>NaN</td>\n",
       "      <td>NaN</td>\n",
       "      <td>NaN</td>\n",
       "      <td>NaN</td>\n",
       "      <td>1.0</td>\n",
       "      <td>NaN</td>\n",
       "      <td>NaN</td>\n",
       "      <td>NaN</td>\n",
       "      <td>NaN</td>\n",
       "    </tr>\n",
       "    <tr>\n",
       "      <th>2</th>\n",
       "      <td>00015787-1ed9-45b9-9c5f-2613e2ca8409</td>\n",
       "      <td>NaN</td>\n",
       "      <td>NaN</td>\n",
       "      <td>NaN</td>\n",
       "      <td>NaN</td>\n",
       "      <td>NaN</td>\n",
       "      <td>NaN</td>\n",
       "      <td>NaN</td>\n",
       "      <td>NaN</td>\n",
       "      <td>NaN</td>\n",
       "      <td>NaN</td>\n",
       "      <td>NaN</td>\n",
       "      <td>1.0</td>\n",
       "      <td>NaN</td>\n",
       "      <td>NaN</td>\n",
       "      <td>NaN</td>\n",
       "      <td>NaN</td>\n",
       "    </tr>\n",
       "    <tr>\n",
       "      <th>3</th>\n",
       "      <td>0001c76a-806c-4818-99eb-dbdaa196288d</td>\n",
       "      <td>NaN</td>\n",
       "      <td>NaN</td>\n",
       "      <td>NaN</td>\n",
       "      <td>NaN</td>\n",
       "      <td>NaN</td>\n",
       "      <td>NaN</td>\n",
       "      <td>NaN</td>\n",
       "      <td>NaN</td>\n",
       "      <td>NaN</td>\n",
       "      <td>NaN</td>\n",
       "      <td>NaN</td>\n",
       "      <td>1.0</td>\n",
       "      <td>NaN</td>\n",
       "      <td>NaN</td>\n",
       "      <td>NaN</td>\n",
       "      <td>NaN</td>\n",
       "    </tr>\n",
       "    <tr>\n",
       "      <th>4</th>\n",
       "      <td>000234a9-a233-4476-9023-9b83f331b7f6</td>\n",
       "      <td>NaN</td>\n",
       "      <td>1.0</td>\n",
       "      <td>NaN</td>\n",
       "      <td>NaN</td>\n",
       "      <td>NaN</td>\n",
       "      <td>NaN</td>\n",
       "      <td>NaN</td>\n",
       "      <td>NaN</td>\n",
       "      <td>NaN</td>\n",
       "      <td>NaN</td>\n",
       "      <td>NaN</td>\n",
       "      <td>NaN</td>\n",
       "      <td>NaN</td>\n",
       "      <td>NaN</td>\n",
       "      <td>NaN</td>\n",
       "      <td>NaN</td>\n",
       "    </tr>\n",
       "  </tbody>\n",
       "</table>\n",
       "</div>"
      ],
      "text/plain": [
       "                                 UserID  Others  apple  huawei  lenovo  lge  \\\n",
       "0  00002520-3fe9-4d4b-9e1f-e4a72386bf47     NaN    NaN     NaN     NaN  NaN   \n",
       "1  00007f9f-be36-4a0d-a2a8-167231588625     NaN    NaN     NaN     NaN  NaN   \n",
       "2  00015787-1ed9-45b9-9c5f-2613e2ca8409     NaN    NaN     NaN     NaN  NaN   \n",
       "3  0001c76a-806c-4818-99eb-dbdaa196288d     NaN    NaN     NaN     NaN  NaN   \n",
       "4  000234a9-a233-4476-9023-9b83f331b7f6     NaN    1.0     NaN     NaN  NaN   \n",
       "\n",
       "   masstel  nokia  oppo  poco  realme  redmi  samsung  sony  vivo  vsmart  \\\n",
       "0      NaN    NaN   NaN   NaN     1.0    NaN      NaN   NaN   NaN     NaN   \n",
       "1      NaN    NaN   NaN   NaN     NaN    NaN      1.0   NaN   NaN     NaN   \n",
       "2      NaN    NaN   NaN   NaN     NaN    NaN      1.0   NaN   NaN     NaN   \n",
       "3      NaN    NaN   NaN   NaN     NaN    NaN      1.0   NaN   NaN     NaN   \n",
       "4      NaN    NaN   NaN   NaN     NaN    NaN      NaN   NaN   NaN     NaN   \n",
       "\n",
       "   xiaomi  \n",
       "0     NaN  \n",
       "1     NaN  \n",
       "2     NaN  \n",
       "3     NaN  \n",
       "4     NaN  "
      ]
     },
     "execution_count": 32,
     "metadata": {},
     "output_type": "execute_result"
    }
   ],
   "source": [
    "devices_pivot.columns = cols\n",
    "\n",
    "devices_pivot.head()"
   ]
  },
  {
   "cell_type": "code",
   "execution_count": 33,
   "id": "34f435a6",
   "metadata": {},
   "outputs": [],
   "source": [
    "for col in devices_pivot.columns[1:]:\n",
    "    devices_pivot.loc[devices_pivot[col].isnull(), col] = 0"
   ]
  },
  {
   "cell_type": "code",
   "execution_count": 34,
   "id": "7500b7bd",
   "metadata": {},
   "outputs": [
    {
     "data": {
      "text/plain": [
       "(224440, 17)"
      ]
     },
     "execution_count": 34,
     "metadata": {},
     "output_type": "execute_result"
    }
   ],
   "source": [
    "devices_pivot.shape"
   ]
  },
  {
   "cell_type": "code",
   "execution_count": 35,
   "id": "5be42d9a",
   "metadata": {},
   "outputs": [
    {
     "data": {
      "text/html": [
       "<div>\n",
       "<style scoped>\n",
       "    .dataframe tbody tr th:only-of-type {\n",
       "        vertical-align: middle;\n",
       "    }\n",
       "\n",
       "    .dataframe tbody tr th {\n",
       "        vertical-align: top;\n",
       "    }\n",
       "\n",
       "    .dataframe thead th {\n",
       "        text-align: right;\n",
       "    }\n",
       "</style>\n",
       "<table border=\"1\" class=\"dataframe\">\n",
       "  <thead>\n",
       "    <tr style=\"text-align: right;\">\n",
       "      <th></th>\n",
       "      <th>UserID</th>\n",
       "      <th>Others</th>\n",
       "      <th>apple</th>\n",
       "      <th>huawei</th>\n",
       "      <th>lenovo</th>\n",
       "      <th>lge</th>\n",
       "      <th>masstel</th>\n",
       "      <th>nokia</th>\n",
       "      <th>oppo</th>\n",
       "      <th>poco</th>\n",
       "      <th>realme</th>\n",
       "      <th>redmi</th>\n",
       "      <th>samsung</th>\n",
       "      <th>sony</th>\n",
       "      <th>vivo</th>\n",
       "      <th>vsmart</th>\n",
       "      <th>xiaomi</th>\n",
       "    </tr>\n",
       "  </thead>\n",
       "  <tbody>\n",
       "    <tr>\n",
       "      <th>0</th>\n",
       "      <td>00002520-3fe9-4d4b-9e1f-e4a72386bf47</td>\n",
       "      <td>0.0</td>\n",
       "      <td>0.0</td>\n",
       "      <td>0.0</td>\n",
       "      <td>0.0</td>\n",
       "      <td>0.0</td>\n",
       "      <td>0.0</td>\n",
       "      <td>0.0</td>\n",
       "      <td>0.0</td>\n",
       "      <td>0.0</td>\n",
       "      <td>1.0</td>\n",
       "      <td>0.0</td>\n",
       "      <td>0.0</td>\n",
       "      <td>0.0</td>\n",
       "      <td>0.0</td>\n",
       "      <td>0.0</td>\n",
       "      <td>0.0</td>\n",
       "    </tr>\n",
       "    <tr>\n",
       "      <th>1</th>\n",
       "      <td>00007f9f-be36-4a0d-a2a8-167231588625</td>\n",
       "      <td>0.0</td>\n",
       "      <td>0.0</td>\n",
       "      <td>0.0</td>\n",
       "      <td>0.0</td>\n",
       "      <td>0.0</td>\n",
       "      <td>0.0</td>\n",
       "      <td>0.0</td>\n",
       "      <td>0.0</td>\n",
       "      <td>0.0</td>\n",
       "      <td>0.0</td>\n",
       "      <td>0.0</td>\n",
       "      <td>1.0</td>\n",
       "      <td>0.0</td>\n",
       "      <td>0.0</td>\n",
       "      <td>0.0</td>\n",
       "      <td>0.0</td>\n",
       "    </tr>\n",
       "    <tr>\n",
       "      <th>2</th>\n",
       "      <td>00015787-1ed9-45b9-9c5f-2613e2ca8409</td>\n",
       "      <td>0.0</td>\n",
       "      <td>0.0</td>\n",
       "      <td>0.0</td>\n",
       "      <td>0.0</td>\n",
       "      <td>0.0</td>\n",
       "      <td>0.0</td>\n",
       "      <td>0.0</td>\n",
       "      <td>0.0</td>\n",
       "      <td>0.0</td>\n",
       "      <td>0.0</td>\n",
       "      <td>0.0</td>\n",
       "      <td>1.0</td>\n",
       "      <td>0.0</td>\n",
       "      <td>0.0</td>\n",
       "      <td>0.0</td>\n",
       "      <td>0.0</td>\n",
       "    </tr>\n",
       "    <tr>\n",
       "      <th>3</th>\n",
       "      <td>0001c76a-806c-4818-99eb-dbdaa196288d</td>\n",
       "      <td>0.0</td>\n",
       "      <td>0.0</td>\n",
       "      <td>0.0</td>\n",
       "      <td>0.0</td>\n",
       "      <td>0.0</td>\n",
       "      <td>0.0</td>\n",
       "      <td>0.0</td>\n",
       "      <td>0.0</td>\n",
       "      <td>0.0</td>\n",
       "      <td>0.0</td>\n",
       "      <td>0.0</td>\n",
       "      <td>1.0</td>\n",
       "      <td>0.0</td>\n",
       "      <td>0.0</td>\n",
       "      <td>0.0</td>\n",
       "      <td>0.0</td>\n",
       "    </tr>\n",
       "    <tr>\n",
       "      <th>4</th>\n",
       "      <td>000234a9-a233-4476-9023-9b83f331b7f6</td>\n",
       "      <td>0.0</td>\n",
       "      <td>1.0</td>\n",
       "      <td>0.0</td>\n",
       "      <td>0.0</td>\n",
       "      <td>0.0</td>\n",
       "      <td>0.0</td>\n",
       "      <td>0.0</td>\n",
       "      <td>0.0</td>\n",
       "      <td>0.0</td>\n",
       "      <td>0.0</td>\n",
       "      <td>0.0</td>\n",
       "      <td>0.0</td>\n",
       "      <td>0.0</td>\n",
       "      <td>0.0</td>\n",
       "      <td>0.0</td>\n",
       "      <td>0.0</td>\n",
       "    </tr>\n",
       "  </tbody>\n",
       "</table>\n",
       "</div>"
      ],
      "text/plain": [
       "                                 UserID  Others  apple  huawei  lenovo  lge  \\\n",
       "0  00002520-3fe9-4d4b-9e1f-e4a72386bf47     0.0    0.0     0.0     0.0  0.0   \n",
       "1  00007f9f-be36-4a0d-a2a8-167231588625     0.0    0.0     0.0     0.0  0.0   \n",
       "2  00015787-1ed9-45b9-9c5f-2613e2ca8409     0.0    0.0     0.0     0.0  0.0   \n",
       "3  0001c76a-806c-4818-99eb-dbdaa196288d     0.0    0.0     0.0     0.0  0.0   \n",
       "4  000234a9-a233-4476-9023-9b83f331b7f6     0.0    1.0     0.0     0.0  0.0   \n",
       "\n",
       "   masstel  nokia  oppo  poco  realme  redmi  samsung  sony  vivo  vsmart  \\\n",
       "0      0.0    0.0   0.0   0.0     1.0    0.0      0.0   0.0   0.0     0.0   \n",
       "1      0.0    0.0   0.0   0.0     0.0    0.0      1.0   0.0   0.0     0.0   \n",
       "2      0.0    0.0   0.0   0.0     0.0    0.0      1.0   0.0   0.0     0.0   \n",
       "3      0.0    0.0   0.0   0.0     0.0    0.0      1.0   0.0   0.0     0.0   \n",
       "4      0.0    0.0   0.0   0.0     0.0    0.0      0.0   0.0   0.0     0.0   \n",
       "\n",
       "   xiaomi  \n",
       "0     0.0  \n",
       "1     0.0  \n",
       "2     0.0  \n",
       "3     0.0  \n",
       "4     0.0  "
      ]
     },
     "execution_count": 35,
     "metadata": {},
     "output_type": "execute_result"
    }
   ],
   "source": [
    "devices_pivot.head()"
   ]
  },
  {
   "cell_type": "code",
   "execution_count": 36,
   "id": "0805b7d7",
   "metadata": {
    "scrolled": true
   },
   "outputs": [
    {
     "data": {
      "text/html": [
       "<div>\n",
       "<style scoped>\n",
       "    .dataframe tbody tr th:only-of-type {\n",
       "        vertical-align: middle;\n",
       "    }\n",
       "\n",
       "    .dataframe tbody tr th {\n",
       "        vertical-align: top;\n",
       "    }\n",
       "\n",
       "    .dataframe thead th {\n",
       "        text-align: right;\n",
       "    }\n",
       "</style>\n",
       "<table border=\"1\" class=\"dataframe\">\n",
       "  <thead>\n",
       "    <tr style=\"text-align: right;\">\n",
       "      <th></th>\n",
       "      <th>UserID</th>\n",
       "      <th>Brand</th>\n",
       "    </tr>\n",
       "  </thead>\n",
       "  <tbody>\n",
       "    <tr>\n",
       "      <th>41885</th>\n",
       "      <td>2fd5928c-5d4b-46ae-84f8-058622720a27</td>\n",
       "      <td>12</td>\n",
       "    </tr>\n",
       "    <tr>\n",
       "      <th>32072</th>\n",
       "      <td>24a1f3a6-68d2-437e-aae8-0a33ef64ff14</td>\n",
       "      <td>6</td>\n",
       "    </tr>\n",
       "    <tr>\n",
       "      <th>178237</th>\n",
       "      <td>cb757b9a-24e2-4e72-b0d8-6004f84fd862</td>\n",
       "      <td>5</td>\n",
       "    </tr>\n",
       "    <tr>\n",
       "      <th>59</th>\n",
       "      <td>00125ee4-9a93-465e-8e7a-556d1d6ca10e</td>\n",
       "      <td>5</td>\n",
       "    </tr>\n",
       "    <tr>\n",
       "      <th>207528</th>\n",
       "      <td>eca871b6-1413-4e68-a580-8e198430329a</td>\n",
       "      <td>5</td>\n",
       "    </tr>\n",
       "    <tr>\n",
       "      <th>...</th>\n",
       "      <td>...</td>\n",
       "      <td>...</td>\n",
       "    </tr>\n",
       "    <tr>\n",
       "      <th>75922</th>\n",
       "      <td>56a888d4-f565-4a42-bad5-9c61d8ace8e7</td>\n",
       "      <td>1</td>\n",
       "    </tr>\n",
       "    <tr>\n",
       "      <th>75923</th>\n",
       "      <td>56a8f236-1ee2-4055-b53e-66b1c05cfbca</td>\n",
       "      <td>1</td>\n",
       "    </tr>\n",
       "    <tr>\n",
       "      <th>75924</th>\n",
       "      <td>56a933c7-b6f6-4028-ab32-fb38271501f5</td>\n",
       "      <td>1</td>\n",
       "    </tr>\n",
       "    <tr>\n",
       "      <th>75925</th>\n",
       "      <td>56a9448f-32b6-4ff6-9bde-2281dd9c4376</td>\n",
       "      <td>1</td>\n",
       "    </tr>\n",
       "    <tr>\n",
       "      <th>224439</th>\n",
       "      <td>ffffd834-3f54-4dc9-87bb-e57dea98a7b1</td>\n",
       "      <td>1</td>\n",
       "    </tr>\n",
       "  </tbody>\n",
       "</table>\n",
       "<p>224440 rows × 2 columns</p>\n",
       "</div>"
      ],
      "text/plain": [
       "                                      UserID  Brand\n",
       "41885   2fd5928c-5d4b-46ae-84f8-058622720a27     12\n",
       "32072   24a1f3a6-68d2-437e-aae8-0a33ef64ff14      6\n",
       "178237  cb757b9a-24e2-4e72-b0d8-6004f84fd862      5\n",
       "59      00125ee4-9a93-465e-8e7a-556d1d6ca10e      5\n",
       "207528  eca871b6-1413-4e68-a580-8e198430329a      5\n",
       "...                                      ...    ...\n",
       "75922   56a888d4-f565-4a42-bad5-9c61d8ace8e7      1\n",
       "75923   56a8f236-1ee2-4055-b53e-66b1c05cfbca      1\n",
       "75924   56a933c7-b6f6-4028-ab32-fb38271501f5      1\n",
       "75925   56a9448f-32b6-4ff6-9bde-2281dd9c4376      1\n",
       "224439  ffffd834-3f54-4dc9-87bb-e57dea98a7b1      1\n",
       "\n",
       "[224440 rows x 2 columns]"
      ]
     },
     "execution_count": 36,
     "metadata": {},
     "output_type": "execute_result"
    }
   ],
   "source": [
    "groups = pd.DataFrame(devices.groupby('UserID')['Brand'].count().reset_index()).sort_values('Brand', ascending = False)\n",
    "groups"
   ]
  },
  {
   "cell_type": "code",
   "execution_count": 67,
   "id": "17d1f88c",
   "metadata": {},
   "outputs": [
    {
     "data": {
      "text/html": [
       "<div>\n",
       "<style scoped>\n",
       "    .dataframe tbody tr th:only-of-type {\n",
       "        vertical-align: middle;\n",
       "    }\n",
       "\n",
       "    .dataframe tbody tr th {\n",
       "        vertical-align: top;\n",
       "    }\n",
       "\n",
       "    .dataframe thead th {\n",
       "        text-align: right;\n",
       "    }\n",
       "</style>\n",
       "<table border=\"1\" class=\"dataframe\">\n",
       "  <thead>\n",
       "    <tr style=\"text-align: right;\">\n",
       "      <th></th>\n",
       "      <th>UserID</th>\n",
       "      <th>Brand</th>\n",
       "    </tr>\n",
       "  </thead>\n",
       "  <tbody>\n",
       "    <tr>\n",
       "      <th>0</th>\n",
       "      <td>00002520-3fe9-4d4b-9e1f-e4a72386bf47</td>\n",
       "      <td>1</td>\n",
       "    </tr>\n",
       "    <tr>\n",
       "      <th>1</th>\n",
       "      <td>00007f9f-be36-4a0d-a2a8-167231588625</td>\n",
       "      <td>1</td>\n",
       "    </tr>\n",
       "    <tr>\n",
       "      <th>2</th>\n",
       "      <td>00015787-1ed9-45b9-9c5f-2613e2ca8409</td>\n",
       "      <td>1</td>\n",
       "    </tr>\n",
       "    <tr>\n",
       "      <th>3</th>\n",
       "      <td>0001c76a-806c-4818-99eb-dbdaa196288d</td>\n",
       "      <td>1</td>\n",
       "    </tr>\n",
       "    <tr>\n",
       "      <th>4</th>\n",
       "      <td>000234a9-a233-4476-9023-9b83f331b7f6</td>\n",
       "      <td>1</td>\n",
       "    </tr>\n",
       "    <tr>\n",
       "      <th>...</th>\n",
       "      <td>...</td>\n",
       "      <td>...</td>\n",
       "    </tr>\n",
       "    <tr>\n",
       "      <th>224435</th>\n",
       "      <td>ffff588b-6a96-4cc1-9aac-9741f512eaa2</td>\n",
       "      <td>1</td>\n",
       "    </tr>\n",
       "    <tr>\n",
       "      <th>224436</th>\n",
       "      <td>ffff81a7-4938-4d26-8492-bd8e4acc2a19</td>\n",
       "      <td>1</td>\n",
       "    </tr>\n",
       "    <tr>\n",
       "      <th>224437</th>\n",
       "      <td>ffffbd84-934c-496d-bf25-f9329bc39fc1</td>\n",
       "      <td>1</td>\n",
       "    </tr>\n",
       "    <tr>\n",
       "      <th>224438</th>\n",
       "      <td>ffffd6e4-345a-4222-932a-a97f6b5b193d</td>\n",
       "      <td>1</td>\n",
       "    </tr>\n",
       "    <tr>\n",
       "      <th>224439</th>\n",
       "      <td>ffffd834-3f54-4dc9-87bb-e57dea98a7b1</td>\n",
       "      <td>1</td>\n",
       "    </tr>\n",
       "  </tbody>\n",
       "</table>\n",
       "<p>224440 rows × 2 columns</p>\n",
       "</div>"
      ],
      "text/plain": [
       "                                      UserID  Brand\n",
       "0       00002520-3fe9-4d4b-9e1f-e4a72386bf47      1\n",
       "1       00007f9f-be36-4a0d-a2a8-167231588625      1\n",
       "2       00015787-1ed9-45b9-9c5f-2613e2ca8409      1\n",
       "3       0001c76a-806c-4818-99eb-dbdaa196288d      1\n",
       "4       000234a9-a233-4476-9023-9b83f331b7f6      1\n",
       "...                                      ...    ...\n",
       "224435  ffff588b-6a96-4cc1-9aac-9741f512eaa2      1\n",
       "224436  ffff81a7-4938-4d26-8492-bd8e4acc2a19      1\n",
       "224437  ffffbd84-934c-496d-bf25-f9329bc39fc1      1\n",
       "224438  ffffd6e4-345a-4222-932a-a97f6b5b193d      1\n",
       "224439  ffffd834-3f54-4dc9-87bb-e57dea98a7b1      1\n",
       "\n",
       "[224440 rows x 2 columns]"
      ]
     },
     "execution_count": 67,
     "metadata": {},
     "output_type": "execute_result"
    }
   ],
   "source": [
    "groups.sort_values('UserID', ascending=True)"
   ]
  },
  {
   "cell_type": "code",
   "execution_count": 47,
   "id": "b490566e",
   "metadata": {
    "scrolled": true
   },
   "outputs": [],
   "source": [
    "brand_ser = devices['Brand'].value_counts()\n",
    "brand_names = [x.capitalize() for x in brand_ser.index]"
   ]
  },
  {
   "cell_type": "code",
   "execution_count": 60,
   "id": "a1294967",
   "metadata": {},
   "outputs": [
    {
     "data": {
      "image/png": "[encoded data removed]",
      "text/plain": [
       "<Figure size 720x576 with 1 Axes>"
      ]
     },
     "metadata": {
      "needs_background": "light"
     },
     "output_type": "display_data"
    }
   ],
   "source": [
    "plt.figure(figsize=(10, 8))\n",
    "sb.barplot(x = brand_names, y = brand_ser.values)\n",
    "plt.xlabel('Mobile brands', fontsize=15, color = 'r')\n",
    "plt.xticks(rotation = 60);"
   ]
  },
  {
   "cell_type": "code",
   "execution_count": 62,
   "id": "1570aa9c",
   "metadata": {},
   "outputs": [
    {
     "data": {
      "text/html": [
       "<div>\n",
       "<style scoped>\n",
       "    .dataframe tbody tr th:only-of-type {\n",
       "        vertical-align: middle;\n",
       "    }\n",
       "\n",
       "    .dataframe tbody tr th {\n",
       "        vertical-align: top;\n",
       "    }\n",
       "\n",
       "    .dataframe thead th {\n",
       "        text-align: right;\n",
       "    }\n",
       "</style>\n",
       "<table border=\"1\" class=\"dataframe\">\n",
       "  <thead>\n",
       "    <tr style=\"text-align: right;\">\n",
       "      <th></th>\n",
       "      <th>UserID</th>\n",
       "      <th>ChildBday</th>\n",
       "      <th>ChildGender</th>\n",
       "      <th>ChildAge</th>\n",
       "    </tr>\n",
       "  </thead>\n",
       "  <tbody>\n",
       "    <tr>\n",
       "      <th>0</th>\n",
       "      <td>e5be1228-cf16-451c-80a5-d1225aa6a230</td>\n",
       "      <td>2016-12-01</td>\n",
       "      <td>male</td>\n",
       "      <td>6.4</td>\n",
       "    </tr>\n",
       "    <tr>\n",
       "      <th>1</th>\n",
       "      <td>b588000b-c32a-442c-8192-a3167c8101a3</td>\n",
       "      <td>2017-12-01</td>\n",
       "      <td>male</td>\n",
       "      <td>5.4</td>\n",
       "    </tr>\n",
       "    <tr>\n",
       "      <th>2</th>\n",
       "      <td>76e614e8-88ac-4e9e-822a-cef168d3af29</td>\n",
       "      <td>2016-11-01</td>\n",
       "      <td>male</td>\n",
       "      <td>6.5</td>\n",
       "    </tr>\n",
       "    <tr>\n",
       "      <th>3</th>\n",
       "      <td>37f6c983-4780-4a20-83e3-09d900d8128d</td>\n",
       "      <td>2021-02-01</td>\n",
       "      <td>male</td>\n",
       "      <td>2.2</td>\n",
       "    </tr>\n",
       "    <tr>\n",
       "      <th>4</th>\n",
       "      <td>93b790c5-9623-41ed-846a-3475464ae2a2</td>\n",
       "      <td>2016-01-01</td>\n",
       "      <td>male</td>\n",
       "      <td>7.3</td>\n",
       "    </tr>\n",
       "  </tbody>\n",
       "</table>\n",
       "</div>"
      ],
      "text/plain": [
       "                                 UserID  ChildBday ChildGender  ChildAge\n",
       "0  e5be1228-cf16-451c-80a5-d1225aa6a230 2016-12-01        male       6.4\n",
       "1  b588000b-c32a-442c-8192-a3167c8101a3 2017-12-01        male       5.4\n",
       "2  76e614e8-88ac-4e9e-822a-cef168d3af29 2016-11-01        male       6.5\n",
       "3  37f6c983-4780-4a20-83e3-09d900d8128d 2021-02-01        male       2.2\n",
       "4  93b790c5-9623-41ed-846a-3475464ae2a2 2016-01-01        male       7.3"
      ]
     },
     "execution_count": 62,
     "metadata": {},
     "output_type": "execute_result"
    }
   ],
   "source": [
    "df.head()"
   ]
  },
  {
   "cell_type": "code",
   "execution_count": 64,
   "id": "a76ea8ee",
   "metadata": {},
   "outputs": [
    {
     "data": {
      "text/plain": [
       "(183582, 4)"
      ]
     },
     "execution_count": 64,
     "metadata": {},
     "output_type": "execute_result"
    }
   ],
   "source": [
    "df.shape"
   ]
  },
  {
   "cell_type": "code",
   "execution_count": 63,
   "id": "50dde348",
   "metadata": {},
   "outputs": [
    {
     "data": {
      "text/html": [
       "<div>\n",
       "<style scoped>\n",
       "    .dataframe tbody tr th:only-of-type {\n",
       "        vertical-align: middle;\n",
       "    }\n",
       "\n",
       "    .dataframe tbody tr th {\n",
       "        vertical-align: top;\n",
       "    }\n",
       "\n",
       "    .dataframe thead th {\n",
       "        text-align: right;\n",
       "    }\n",
       "</style>\n",
       "<table border=\"1\" class=\"dataframe\">\n",
       "  <thead>\n",
       "    <tr style=\"text-align: right;\">\n",
       "      <th></th>\n",
       "      <th>UserID</th>\n",
       "      <th>Brand</th>\n",
       "      <th>Counting</th>\n",
       "    </tr>\n",
       "  </thead>\n",
       "  <tbody>\n",
       "    <tr>\n",
       "      <th>0</th>\n",
       "      <td>98af826b-1133-4b32-a560-bc312e80fd26</td>\n",
       "      <td>apple</td>\n",
       "      <td>1</td>\n",
       "    </tr>\n",
       "    <tr>\n",
       "      <th>1</th>\n",
       "      <td>1359b19f-0ba7-46fa-8477-8ab8ef966f08</td>\n",
       "      <td>samsung</td>\n",
       "      <td>1</td>\n",
       "    </tr>\n",
       "    <tr>\n",
       "      <th>2</th>\n",
       "      <td>14be2879-edf8-4779-a303-9c60034b7dac</td>\n",
       "      <td>apple</td>\n",
       "      <td>1</td>\n",
       "    </tr>\n",
       "    <tr>\n",
       "      <th>3</th>\n",
       "      <td>3edce4a5-cba9-4751-8c9f-cc2f31032141</td>\n",
       "      <td>apple</td>\n",
       "      <td>1</td>\n",
       "    </tr>\n",
       "    <tr>\n",
       "      <th>4</th>\n",
       "      <td>5618ba32-50a5-46f0-a4c0-b2eea3dfd498</td>\n",
       "      <td>oppo</td>\n",
       "      <td>1</td>\n",
       "    </tr>\n",
       "  </tbody>\n",
       "</table>\n",
       "</div>"
      ],
      "text/plain": [
       "                                 UserID    Brand  Counting\n",
       "0  98af826b-1133-4b32-a560-bc312e80fd26    apple         1\n",
       "1  1359b19f-0ba7-46fa-8477-8ab8ef966f08  samsung         1\n",
       "2  14be2879-edf8-4779-a303-9c60034b7dac    apple         1\n",
       "3  3edce4a5-cba9-4751-8c9f-cc2f31032141    apple         1\n",
       "4  5618ba32-50a5-46f0-a4c0-b2eea3dfd498     oppo         1"
      ]
     },
     "execution_count": 63,
     "metadata": {},
     "output_type": "execute_result"
    }
   ],
   "source": [
    "devices.head()"
   ]
  },
  {
   "cell_type": "code",
   "execution_count": 65,
   "id": "ecf22316",
   "metadata": {},
   "outputs": [
    {
     "data": {
      "text/plain": [
       "(231765, 3)"
      ]
     },
     "execution_count": 65,
     "metadata": {},
     "output_type": "execute_result"
    }
   ],
   "source": [
    "devices.shape"
   ]
  },
  {
   "cell_type": "code",
   "execution_count": 113,
   "id": "42505643",
   "metadata": {},
   "outputs": [
    {
     "data": {
      "text/plain": [
       "(183108, 6)"
      ]
     },
     "execution_count": 113,
     "metadata": {},
     "output_type": "execute_result"
    }
   ],
   "source": [
    "df_merge = pd.merge(df, devices)\n",
    "df_merge.shape"
   ]
  },
  {
   "cell_type": "code",
   "execution_count": 105,
   "id": "24dde123",
   "metadata": {},
   "outputs": [
    {
     "data": {
      "text/plain": [
       "UserID             0\n",
       "ChildBday          0\n",
       "ChildGender        0\n",
       "ChildAge           0\n",
       "Others         10502\n",
       "apple          10502\n",
       "huawei         10502\n",
       "lenovo         10502\n",
       "lge            10502\n",
       "masstel        10502\n",
       "nokia          10502\n",
       "oppo           10502\n",
       "poco           10502\n",
       "realme         10502\n",
       "redmi          10502\n",
       "samsung        10502\n",
       "sony           10502\n",
       "vivo           10502\n",
       "vsmart         10502\n",
       "xiaomi         10502\n",
       "dtype: int64"
      ]
     },
     "execution_count": 105,
     "metadata": {},
     "output_type": "execute_result"
    }
   ],
   "source": [
    "df_merge.isnull().sum()"
   ]
  },
  {
   "cell_type": "code",
   "execution_count": 102,
   "id": "593c42fc",
   "metadata": {},
   "outputs": [
    {
     "data": {
      "text/plain": [
       "173080"
      ]
     },
     "execution_count": 102,
     "metadata": {},
     "output_type": "execute_result"
    }
   ],
   "source": [
    "234528 - 61448"
   ]
  },
  {
   "cell_type": "code",
   "execution_count": 97,
   "id": "7df89fb9",
   "metadata": {},
   "outputs": [
    {
     "data": {
      "text/html": [
       "<div>\n",
       "<style scoped>\n",
       "    .dataframe tbody tr th:only-of-type {\n",
       "        vertical-align: middle;\n",
       "    }\n",
       "\n",
       "    .dataframe tbody tr th {\n",
       "        vertical-align: top;\n",
       "    }\n",
       "\n",
       "    .dataframe thead th {\n",
       "        text-align: right;\n",
       "    }\n",
       "</style>\n",
       "<table border=\"1\" class=\"dataframe\">\n",
       "  <thead>\n",
       "    <tr style=\"text-align: right;\">\n",
       "      <th></th>\n",
       "      <th>UserID</th>\n",
       "      <th>ChildBday</th>\n",
       "      <th>ChildGender</th>\n",
       "      <th>ChildAge</th>\n",
       "      <th>Others</th>\n",
       "      <th>apple</th>\n",
       "      <th>huawei</th>\n",
       "      <th>lenovo</th>\n",
       "      <th>lge</th>\n",
       "      <th>masstel</th>\n",
       "      <th>nokia</th>\n",
       "      <th>oppo</th>\n",
       "      <th>poco</th>\n",
       "      <th>realme</th>\n",
       "      <th>redmi</th>\n",
       "      <th>samsung</th>\n",
       "      <th>sony</th>\n",
       "      <th>vivo</th>\n",
       "      <th>vsmart</th>\n",
       "      <th>xiaomi</th>\n",
       "    </tr>\n",
       "  </thead>\n",
       "  <tbody>\n",
       "    <tr>\n",
       "      <th>43</th>\n",
       "      <td>ca7d42f4-3db6-4623-962c-2a29f8cb8ead</td>\n",
       "      <td>2020-05-01</td>\n",
       "      <td>male</td>\n",
       "      <td>3.0</td>\n",
       "      <td>NaN</td>\n",
       "      <td>NaN</td>\n",
       "      <td>NaN</td>\n",
       "      <td>NaN</td>\n",
       "      <td>NaN</td>\n",
       "      <td>NaN</td>\n",
       "      <td>NaN</td>\n",
       "      <td>NaN</td>\n",
       "      <td>NaN</td>\n",
       "      <td>NaN</td>\n",
       "      <td>NaN</td>\n",
       "      <td>NaN</td>\n",
       "      <td>NaN</td>\n",
       "      <td>NaN</td>\n",
       "      <td>NaN</td>\n",
       "      <td>NaN</td>\n",
       "    </tr>\n",
       "    <tr>\n",
       "      <th>66</th>\n",
       "      <td>c4a2c2b8-a0c5-4491-a0f9-b64f8e290f82</td>\n",
       "      <td>2018-04-01</td>\n",
       "      <td>male</td>\n",
       "      <td>5.1</td>\n",
       "      <td>NaN</td>\n",
       "      <td>NaN</td>\n",
       "      <td>NaN</td>\n",
       "      <td>NaN</td>\n",
       "      <td>NaN</td>\n",
       "      <td>NaN</td>\n",
       "      <td>NaN</td>\n",
       "      <td>NaN</td>\n",
       "      <td>NaN</td>\n",
       "      <td>NaN</td>\n",
       "      <td>NaN</td>\n",
       "      <td>NaN</td>\n",
       "      <td>NaN</td>\n",
       "      <td>NaN</td>\n",
       "      <td>NaN</td>\n",
       "      <td>NaN</td>\n",
       "    </tr>\n",
       "    <tr>\n",
       "      <th>906</th>\n",
       "      <td>9c2b70f0-a8bd-4a8b-81fa-d403994d4f00</td>\n",
       "      <td>2019-12-01</td>\n",
       "      <td>male</td>\n",
       "      <td>3.4</td>\n",
       "      <td>NaN</td>\n",
       "      <td>NaN</td>\n",
       "      <td>NaN</td>\n",
       "      <td>NaN</td>\n",
       "      <td>NaN</td>\n",
       "      <td>NaN</td>\n",
       "      <td>NaN</td>\n",
       "      <td>NaN</td>\n",
       "      <td>NaN</td>\n",
       "      <td>NaN</td>\n",
       "      <td>NaN</td>\n",
       "      <td>NaN</td>\n",
       "      <td>NaN</td>\n",
       "      <td>NaN</td>\n",
       "      <td>NaN</td>\n",
       "      <td>NaN</td>\n",
       "    </tr>\n",
       "    <tr>\n",
       "      <th>2707</th>\n",
       "      <td>0e471346-794d-4a4f-86e1-9a08c3a8b030</td>\n",
       "      <td>2020-05-01</td>\n",
       "      <td>male</td>\n",
       "      <td>3.0</td>\n",
       "      <td>NaN</td>\n",
       "      <td>NaN</td>\n",
       "      <td>NaN</td>\n",
       "      <td>NaN</td>\n",
       "      <td>NaN</td>\n",
       "      <td>NaN</td>\n",
       "      <td>NaN</td>\n",
       "      <td>NaN</td>\n",
       "      <td>NaN</td>\n",
       "      <td>NaN</td>\n",
       "      <td>NaN</td>\n",
       "      <td>NaN</td>\n",
       "      <td>NaN</td>\n",
       "      <td>NaN</td>\n",
       "      <td>NaN</td>\n",
       "      <td>NaN</td>\n",
       "    </tr>\n",
       "    <tr>\n",
       "      <th>5212</th>\n",
       "      <td>9f2bf03b-80de-4712-8d67-69935083468c</td>\n",
       "      <td>2012-01-01</td>\n",
       "      <td>female</td>\n",
       "      <td>11.3</td>\n",
       "      <td>NaN</td>\n",
       "      <td>NaN</td>\n",
       "      <td>NaN</td>\n",
       "      <td>NaN</td>\n",
       "      <td>NaN</td>\n",
       "      <td>NaN</td>\n",
       "      <td>NaN</td>\n",
       "      <td>NaN</td>\n",
       "      <td>NaN</td>\n",
       "      <td>NaN</td>\n",
       "      <td>NaN</td>\n",
       "      <td>NaN</td>\n",
       "      <td>NaN</td>\n",
       "      <td>NaN</td>\n",
       "      <td>NaN</td>\n",
       "      <td>NaN</td>\n",
       "    </tr>\n",
       "    <tr>\n",
       "      <th>...</th>\n",
       "      <td>...</td>\n",
       "      <td>...</td>\n",
       "      <td>...</td>\n",
       "      <td>...</td>\n",
       "      <td>...</td>\n",
       "      <td>...</td>\n",
       "      <td>...</td>\n",
       "      <td>...</td>\n",
       "      <td>...</td>\n",
       "      <td>...</td>\n",
       "      <td>...</td>\n",
       "      <td>...</td>\n",
       "      <td>...</td>\n",
       "      <td>...</td>\n",
       "      <td>...</td>\n",
       "      <td>...</td>\n",
       "      <td>...</td>\n",
       "      <td>...</td>\n",
       "      <td>...</td>\n",
       "      <td>...</td>\n",
       "    </tr>\n",
       "    <tr>\n",
       "      <th>181358</th>\n",
       "      <td>4619e4c3-a968-4dfb-aa02-4a2d4a15f635</td>\n",
       "      <td>2020-03-01</td>\n",
       "      <td>male</td>\n",
       "      <td>3.1</td>\n",
       "      <td>NaN</td>\n",
       "      <td>NaN</td>\n",
       "      <td>NaN</td>\n",
       "      <td>NaN</td>\n",
       "      <td>NaN</td>\n",
       "      <td>NaN</td>\n",
       "      <td>NaN</td>\n",
       "      <td>NaN</td>\n",
       "      <td>NaN</td>\n",
       "      <td>NaN</td>\n",
       "      <td>NaN</td>\n",
       "      <td>NaN</td>\n",
       "      <td>NaN</td>\n",
       "      <td>NaN</td>\n",
       "      <td>NaN</td>\n",
       "      <td>NaN</td>\n",
       "    </tr>\n",
       "    <tr>\n",
       "      <th>181663</th>\n",
       "      <td>649fb0c5-506b-422f-ad13-83493fea16d6</td>\n",
       "      <td>2018-02-01</td>\n",
       "      <td>male</td>\n",
       "      <td>5.2</td>\n",
       "      <td>NaN</td>\n",
       "      <td>NaN</td>\n",
       "      <td>NaN</td>\n",
       "      <td>NaN</td>\n",
       "      <td>NaN</td>\n",
       "      <td>NaN</td>\n",
       "      <td>NaN</td>\n",
       "      <td>NaN</td>\n",
       "      <td>NaN</td>\n",
       "      <td>NaN</td>\n",
       "      <td>NaN</td>\n",
       "      <td>NaN</td>\n",
       "      <td>NaN</td>\n",
       "      <td>NaN</td>\n",
       "      <td>NaN</td>\n",
       "      <td>NaN</td>\n",
       "    </tr>\n",
       "    <tr>\n",
       "      <th>182414</th>\n",
       "      <td>15c00a9e-5bb1-4059-b58c-1540869a1a86</td>\n",
       "      <td>2018-05-01</td>\n",
       "      <td>male</td>\n",
       "      <td>5.0</td>\n",
       "      <td>NaN</td>\n",
       "      <td>NaN</td>\n",
       "      <td>NaN</td>\n",
       "      <td>NaN</td>\n",
       "      <td>NaN</td>\n",
       "      <td>NaN</td>\n",
       "      <td>NaN</td>\n",
       "      <td>NaN</td>\n",
       "      <td>NaN</td>\n",
       "      <td>NaN</td>\n",
       "      <td>NaN</td>\n",
       "      <td>NaN</td>\n",
       "      <td>NaN</td>\n",
       "      <td>NaN</td>\n",
       "      <td>NaN</td>\n",
       "      <td>NaN</td>\n",
       "    </tr>\n",
       "    <tr>\n",
       "      <th>182640</th>\n",
       "      <td>518493ab-7d5a-4f64-b831-5d6029401c90</td>\n",
       "      <td>2019-01-01</td>\n",
       "      <td>male</td>\n",
       "      <td>4.3</td>\n",
       "      <td>NaN</td>\n",
       "      <td>NaN</td>\n",
       "      <td>NaN</td>\n",
       "      <td>NaN</td>\n",
       "      <td>NaN</td>\n",
       "      <td>NaN</td>\n",
       "      <td>NaN</td>\n",
       "      <td>NaN</td>\n",
       "      <td>NaN</td>\n",
       "      <td>NaN</td>\n",
       "      <td>NaN</td>\n",
       "      <td>NaN</td>\n",
       "      <td>NaN</td>\n",
       "      <td>NaN</td>\n",
       "      <td>NaN</td>\n",
       "      <td>NaN</td>\n",
       "    </tr>\n",
       "    <tr>\n",
       "      <th>182871</th>\n",
       "      <td>b7ebfe38-b5f3-443f-ba9f-f8574b8e5a90</td>\n",
       "      <td>2016-06-01</td>\n",
       "      <td>male</td>\n",
       "      <td>6.9</td>\n",
       "      <td>NaN</td>\n",
       "      <td>NaN</td>\n",
       "      <td>NaN</td>\n",
       "      <td>NaN</td>\n",
       "      <td>NaN</td>\n",
       "      <td>NaN</td>\n",
       "      <td>NaN</td>\n",
       "      <td>NaN</td>\n",
       "      <td>NaN</td>\n",
       "      <td>NaN</td>\n",
       "      <td>NaN</td>\n",
       "      <td>NaN</td>\n",
       "      <td>NaN</td>\n",
       "      <td>NaN</td>\n",
       "      <td>NaN</td>\n",
       "      <td>NaN</td>\n",
       "    </tr>\n",
       "  </tbody>\n",
       "</table>\n",
       "<p>10502 rows × 20 columns</p>\n",
       "</div>"
      ],
      "text/plain": [
       "                                      UserID  ChildBday ChildGender  ChildAge  \\\n",
       "43      ca7d42f4-3db6-4623-962c-2a29f8cb8ead 2020-05-01        male       3.0   \n",
       "66      c4a2c2b8-a0c5-4491-a0f9-b64f8e290f82 2018-04-01        male       5.1   \n",
       "906     9c2b70f0-a8bd-4a8b-81fa-d403994d4f00 2019-12-01        male       3.4   \n",
       "2707    0e471346-794d-4a4f-86e1-9a08c3a8b030 2020-05-01        male       3.0   \n",
       "5212    9f2bf03b-80de-4712-8d67-69935083468c 2012-01-01      female      11.3   \n",
       "...                                      ...        ...         ...       ...   \n",
       "181358  4619e4c3-a968-4dfb-aa02-4a2d4a15f635 2020-03-01        male       3.1   \n",
       "181663  649fb0c5-506b-422f-ad13-83493fea16d6 2018-02-01        male       5.2   \n",
       "182414  15c00a9e-5bb1-4059-b58c-1540869a1a86 2018-05-01        male       5.0   \n",
       "182640  518493ab-7d5a-4f64-b831-5d6029401c90 2019-01-01        male       4.3   \n",
       "182871  b7ebfe38-b5f3-443f-ba9f-f8574b8e5a90 2016-06-01        male       6.9   \n",
       "\n",
       "        Others  apple  huawei  lenovo  lge  masstel  nokia  oppo  poco  \\\n",
       "43         NaN    NaN     NaN     NaN  NaN      NaN    NaN   NaN   NaN   \n",
       "66         NaN    NaN     NaN     NaN  NaN      NaN    NaN   NaN   NaN   \n",
       "906        NaN    NaN     NaN     NaN  NaN      NaN    NaN   NaN   NaN   \n",
       "2707       NaN    NaN     NaN     NaN  NaN      NaN    NaN   NaN   NaN   \n",
       "5212       NaN    NaN     NaN     NaN  NaN      NaN    NaN   NaN   NaN   \n",
       "...        ...    ...     ...     ...  ...      ...    ...   ...   ...   \n",
       "181358     NaN    NaN     NaN     NaN  NaN      NaN    NaN   NaN   NaN   \n",
       "181663     NaN    NaN     NaN     NaN  NaN      NaN    NaN   NaN   NaN   \n",
       "182414     NaN    NaN     NaN     NaN  NaN      NaN    NaN   NaN   NaN   \n",
       "182640     NaN    NaN     NaN     NaN  NaN      NaN    NaN   NaN   NaN   \n",
       "182871     NaN    NaN     NaN     NaN  NaN      NaN    NaN   NaN   NaN   \n",
       "\n",
       "        realme  redmi  samsung  sony  vivo  vsmart  xiaomi  \n",
       "43         NaN    NaN      NaN   NaN   NaN     NaN     NaN  \n",
       "66         NaN    NaN      NaN   NaN   NaN     NaN     NaN  \n",
       "906        NaN    NaN      NaN   NaN   NaN     NaN     NaN  \n",
       "2707       NaN    NaN      NaN   NaN   NaN     NaN     NaN  \n",
       "5212       NaN    NaN      NaN   NaN   NaN     NaN     NaN  \n",
       "...        ...    ...      ...   ...   ...     ...     ...  \n",
       "181358     NaN    NaN      NaN   NaN   NaN     NaN     NaN  \n",
       "181663     NaN    NaN      NaN   NaN   NaN     NaN     NaN  \n",
       "182414     NaN    NaN      NaN   NaN   NaN     NaN     NaN  \n",
       "182640     NaN    NaN      NaN   NaN   NaN     NaN     NaN  \n",
       "182871     NaN    NaN      NaN   NaN   NaN     NaN     NaN  \n",
       "\n",
       "[10502 rows x 20 columns]"
      ]
     },
     "execution_count": 97,
     "metadata": {},
     "output_type": "execute_result"
    }
   ],
   "source": [
    "df_merge.loc[df_merge['Others'].isnull()]"
   ]
  },
  {
   "cell_type": "code",
   "execution_count": 75,
   "id": "7235ffc8",
   "metadata": {},
   "outputs": [
    {
     "data": {
      "text/plain": [
       "183108"
      ]
     },
     "execution_count": 75,
     "metadata": {},
     "output_type": "execute_result"
    }
   ],
   "source": [
    "df_merge.shape[0] - 10502"
   ]
  },
  {
   "cell_type": "code",
   "execution_count": 73,
   "id": "51bb799c",
   "metadata": {},
   "outputs": [
    {
     "data": {
      "text/plain": [
       "183582"
      ]
     },
     "execution_count": 73,
     "metadata": {},
     "output_type": "execute_result"
    }
   ],
   "source": [
    "df.shape[0]"
   ]
  },
  {
   "cell_type": "code",
   "execution_count": 86,
   "id": "ba6eed7a",
   "metadata": {},
   "outputs": [
    {
     "data": {
      "text/plain": [
       "173193"
      ]
     },
     "execution_count": 86,
     "metadata": {},
     "output_type": "execute_result"
    }
   ],
   "source": [
    "df['UserID'].unique().size"
   ]
  },
  {
   "cell_type": "code",
   "execution_count": 89,
   "id": "6a6d6f79",
   "metadata": {},
   "outputs": [
    {
     "data": {
      "text/plain": [
       "224440"
      ]
     },
     "execution_count": 89,
     "metadata": {},
     "output_type": "execute_result"
    }
   ],
   "source": [
    "devices_pivot['UserID'].unique().size"
   ]
  },
  {
   "cell_type": "code",
   "execution_count": 98,
   "id": "f0910f6d",
   "metadata": {},
   "outputs": [
    {
     "data": {
      "text/html": [
       "<div>\n",
       "<style scoped>\n",
       "    .dataframe tbody tr th:only-of-type {\n",
       "        vertical-align: middle;\n",
       "    }\n",
       "\n",
       "    .dataframe tbody tr th {\n",
       "        vertical-align: top;\n",
       "    }\n",
       "\n",
       "    .dataframe thead th {\n",
       "        text-align: right;\n",
       "    }\n",
       "</style>\n",
       "<table border=\"1\" class=\"dataframe\">\n",
       "  <thead>\n",
       "    <tr style=\"text-align: right;\">\n",
       "      <th></th>\n",
       "      <th>UserID</th>\n",
       "      <th>ChildBday</th>\n",
       "      <th>ChildGender</th>\n",
       "      <th>ChildAge</th>\n",
       "    </tr>\n",
       "  </thead>\n",
       "  <tbody>\n",
       "    <tr>\n",
       "      <th>0</th>\n",
       "      <td>e5be1228-cf16-451c-80a5-d1225aa6a230</td>\n",
       "      <td>2016-12-01</td>\n",
       "      <td>male</td>\n",
       "      <td>6.4</td>\n",
       "    </tr>\n",
       "    <tr>\n",
       "      <th>1</th>\n",
       "      <td>b588000b-c32a-442c-8192-a3167c8101a3</td>\n",
       "      <td>2017-12-01</td>\n",
       "      <td>male</td>\n",
       "      <td>5.4</td>\n",
       "    </tr>\n",
       "    <tr>\n",
       "      <th>2</th>\n",
       "      <td>76e614e8-88ac-4e9e-822a-cef168d3af29</td>\n",
       "      <td>2016-11-01</td>\n",
       "      <td>male</td>\n",
       "      <td>6.5</td>\n",
       "    </tr>\n",
       "    <tr>\n",
       "      <th>3</th>\n",
       "      <td>37f6c983-4780-4a20-83e3-09d900d8128d</td>\n",
       "      <td>2021-02-01</td>\n",
       "      <td>male</td>\n",
       "      <td>2.2</td>\n",
       "    </tr>\n",
       "    <tr>\n",
       "      <th>4</th>\n",
       "      <td>93b790c5-9623-41ed-846a-3475464ae2a2</td>\n",
       "      <td>2016-01-01</td>\n",
       "      <td>male</td>\n",
       "      <td>7.3</td>\n",
       "    </tr>\n",
       "  </tbody>\n",
       "</table>\n",
       "</div>"
      ],
      "text/plain": [
       "                                 UserID  ChildBday ChildGender  ChildAge\n",
       "0  e5be1228-cf16-451c-80a5-d1225aa6a230 2016-12-01        male       6.4\n",
       "1  b588000b-c32a-442c-8192-a3167c8101a3 2017-12-01        male       5.4\n",
       "2  76e614e8-88ac-4e9e-822a-cef168d3af29 2016-11-01        male       6.5\n",
       "3  37f6c983-4780-4a20-83e3-09d900d8128d 2021-02-01        male       2.2\n",
       "4  93b790c5-9623-41ed-846a-3475464ae2a2 2016-01-01        male       7.3"
      ]
     },
     "execution_count": 98,
     "metadata": {},
     "output_type": "execute_result"
    }
   ],
   "source": [
    "df.head()"
   ]
  },
  {
   "cell_type": "code",
   "execution_count": 107,
   "id": "7d98d409",
   "metadata": {},
   "outputs": [
    {
     "data": {
      "text/plain": [
       "11600"
      ]
     },
     "execution_count": 107,
     "metadata": {},
     "output_type": "execute_result"
    }
   ],
   "source": [
    "195182-183582"
   ]
  },
  {
   "cell_type": "code",
   "execution_count": 108,
   "id": "932b8866",
   "metadata": {},
   "outputs": [
    {
     "data": {
      "text/html": [
       "<div>\n",
       "<style scoped>\n",
       "    .dataframe tbody tr th:only-of-type {\n",
       "        vertical-align: middle;\n",
       "    }\n",
       "\n",
       "    .dataframe tbody tr th {\n",
       "        vertical-align: top;\n",
       "    }\n",
       "\n",
       "    .dataframe thead th {\n",
       "        text-align: right;\n",
       "    }\n",
       "</style>\n",
       "<table border=\"1\" class=\"dataframe\">\n",
       "  <thead>\n",
       "    <tr style=\"text-align: right;\">\n",
       "      <th></th>\n",
       "      <th>UserID</th>\n",
       "      <th>ChildBday</th>\n",
       "      <th>ChildGender</th>\n",
       "      <th>ChildAge</th>\n",
       "    </tr>\n",
       "  </thead>\n",
       "  <tbody>\n",
       "    <tr>\n",
       "      <th>0</th>\n",
       "      <td>e5be1228-cf16-451c-80a5-d1225aa6a230</td>\n",
       "      <td>2016-12-01</td>\n",
       "      <td>male</td>\n",
       "      <td>6.4</td>\n",
       "    </tr>\n",
       "    <tr>\n",
       "      <th>1</th>\n",
       "      <td>b588000b-c32a-442c-8192-a3167c8101a3</td>\n",
       "      <td>2017-12-01</td>\n",
       "      <td>male</td>\n",
       "      <td>5.4</td>\n",
       "    </tr>\n",
       "    <tr>\n",
       "      <th>2</th>\n",
       "      <td>76e614e8-88ac-4e9e-822a-cef168d3af29</td>\n",
       "      <td>2016-11-01</td>\n",
       "      <td>male</td>\n",
       "      <td>6.5</td>\n",
       "    </tr>\n",
       "    <tr>\n",
       "      <th>3</th>\n",
       "      <td>37f6c983-4780-4a20-83e3-09d900d8128d</td>\n",
       "      <td>2021-02-01</td>\n",
       "      <td>male</td>\n",
       "      <td>2.2</td>\n",
       "    </tr>\n",
       "    <tr>\n",
       "      <th>4</th>\n",
       "      <td>93b790c5-9623-41ed-846a-3475464ae2a2</td>\n",
       "      <td>2016-01-01</td>\n",
       "      <td>male</td>\n",
       "      <td>7.3</td>\n",
       "    </tr>\n",
       "    <tr>\n",
       "      <th>...</th>\n",
       "      <td>...</td>\n",
       "      <td>...</td>\n",
       "      <td>...</td>\n",
       "      <td>...</td>\n",
       "    </tr>\n",
       "    <tr>\n",
       "      <th>187237</th>\n",
       "      <td>42d95ee2-fbe7-4492-be5a-6b505269adc8</td>\n",
       "      <td>2019-09-23</td>\n",
       "      <td>male</td>\n",
       "      <td>3.6</td>\n",
       "    </tr>\n",
       "    <tr>\n",
       "      <th>187238</th>\n",
       "      <td>122ccaf6-2d2d-400e-bedd-41543b85b0b9</td>\n",
       "      <td>2018-06-05</td>\n",
       "      <td>female</td>\n",
       "      <td>4.9</td>\n",
       "    </tr>\n",
       "    <tr>\n",
       "      <th>187239</th>\n",
       "      <td>8917e237-3f0c-4d6d-beeb-73eb1cdd2aca</td>\n",
       "      <td>2019-08-22</td>\n",
       "      <td>male</td>\n",
       "      <td>3.7</td>\n",
       "    </tr>\n",
       "    <tr>\n",
       "      <th>187240</th>\n",
       "      <td>e3733f67-ede5-41d4-beef-884b2dd3b89a</td>\n",
       "      <td>2020-07-28</td>\n",
       "      <td>male</td>\n",
       "      <td>2.7</td>\n",
       "    </tr>\n",
       "    <tr>\n",
       "      <th>187241</th>\n",
       "      <td>1ed4bc18-6ea9-4d57-bf9e-12f40ae71cee</td>\n",
       "      <td>2017-12-31</td>\n",
       "      <td>female</td>\n",
       "      <td>5.3</td>\n",
       "    </tr>\n",
       "  </tbody>\n",
       "</table>\n",
       "<p>183582 rows × 4 columns</p>\n",
       "</div>"
      ],
      "text/plain": [
       "                                      UserID  ChildBday ChildGender  ChildAge\n",
       "0       e5be1228-cf16-451c-80a5-d1225aa6a230 2016-12-01        male       6.4\n",
       "1       b588000b-c32a-442c-8192-a3167c8101a3 2017-12-01        male       5.4\n",
       "2       76e614e8-88ac-4e9e-822a-cef168d3af29 2016-11-01        male       6.5\n",
       "3       37f6c983-4780-4a20-83e3-09d900d8128d 2021-02-01        male       2.2\n",
       "4       93b790c5-9623-41ed-846a-3475464ae2a2 2016-01-01        male       7.3\n",
       "...                                      ...        ...         ...       ...\n",
       "187237  42d95ee2-fbe7-4492-be5a-6b505269adc8 2019-09-23        male       3.6\n",
       "187238  122ccaf6-2d2d-400e-bedd-41543b85b0b9 2018-06-05      female       4.9\n",
       "187239  8917e237-3f0c-4d6d-beeb-73eb1cdd2aca 2019-08-22        male       3.7\n",
       "187240  e3733f67-ede5-41d4-beef-884b2dd3b89a 2020-07-28        male       2.7\n",
       "187241  1ed4bc18-6ea9-4d57-bf9e-12f40ae71cee 2017-12-31      female       5.3\n",
       "\n",
       "[183582 rows x 4 columns]"
      ]
     },
     "execution_count": 108,
     "metadata": {},
     "output_type": "execute_result"
    }
   ],
   "source": [
    "df"
   ]
  },
  {
   "cell_type": "code",
   "execution_count": null,
   "id": "e1471707",
   "metadata": {},
   "outputs": [],
   "source": []
  }
 ],
 "metadata": {
  "kernelspec": {
   "display_name": "Python 3 (ipykernel)",
   "language": "python",
   "name": "python3"
  },
  "language_info": {
   "codemirror_mode": {
    "name": "ipython",
    "version": 3
   },
   "file_extension": ".py",
   "mimetype": "text/x-python",
   "name": "python",
   "nbconvert_exporter": "python",
   "pygments_lexer": "ipython3",
   "version": "3.8.10"
  }
 },
 "nbformat": 4,
 "nbformat_minor": 5
}
