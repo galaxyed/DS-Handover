{
 "cells": [
  {
   "cell_type": "code",
   "execution_count": 1,
   "metadata": {},
   "outputs": [],
   "source": [
    "import pandas as pd\n",
    "pd.set_option(\"display.max_columns\", None)\n",
    "import numpy as np\n",
    "import os\n",
    "from datetime import datetime, date\n",
    "\n",
    "from plotly.subplots import make_subplots\n",
    "import plotly.graph_objects as go\n",
    "import plotly.express as px\n",
    "import plotly.figure_factory as ff\n",
    "import seaborn as sns\n",
    "import matplotlib.pyplot as plt\n",
    "from tqdm import tqdm\n",
    "tqdm.pandas()\n",
    "\n",
    "chart_color = px.colors.qualitative.Plotly"
   ]
  },
  {
   "cell_type": "code",
   "execution_count": 2,
   "metadata": {},
   "outputs": [],
   "source": [
    "if os.name =='nt':\n",
    "    df_path = r'D:\\Coding_pratice\\_Data\\GalaxyEducation\\ICK'\n",
    "else:\n",
    "    df_path = '/Users/admin/_Work/Data/icanKID'\n",
    "\n",
    "# df_User = pd.read_csv(\n",
    "#     os.path.join(df_path,'df_User.csv')\n",
    "#     )\n",
    "df_User = pd.read_csv(\n",
    "    os.path.join(df_path,'df_User_Child_DeviceBrand.csv')\n",
    "    )\n",
    "df_Engagement = pd.read_csv(\n",
    "    os.path.join(df_path, 'df_Engagement.csv')\n",
    "    )\n",
    "df_Engagement_updated = pd.read_csv(\n",
    "os.path.join(df_path, 'df_Engagement_updated.csv')\n",
    "    )\n",
    "df_Payment = pd.read_csv(\n",
    "    os.path.join(df_path, 'df_Payment.csv')\n",
    "    )\n",
    "df_fake_user = pd.read_csv(\n",
    "    os.path.join(df_path, 'df_fake_paid_users.csv')\n",
    "    )\n",
    "# df_DeviceBrand = pd.read_csv('/Users/admin/_Work/Data/icanKID/df_DeviceBrand.csv')"
   ]
  },
  {
   "cell_type": "code",
   "execution_count": 3,
   "metadata": {},
   "outputs": [],
   "source": [
    "# Discard fake user\n",
    "df_User = df_User[~df_User['UserID'].isin(df_fake_user['UserID'])]\n",
    "df_Engagement = df_Engagement[~df_Engagement['UserID'].isin(df_fake_user['UserID'])]\n",
    "df_Payment = df_Payment[~df_Payment['UserID'].isin(df_fake_user['UserID'])]"
   ]
  },
  {
   "cell_type": "code",
   "execution_count": 4,
   "metadata": {},
   "outputs": [],
   "source": [
    "# Get user's Age\n",
    "df_User['monthBday'] = pd.to_datetime(df_User.ChildBday).dt.month\n",
    "df_User['Age'] = (pd.to_datetime(date.today()) - pd.to_datetime(df_User.ChildBday)).astype('<m8[Y]').astype('int')"
   ]
  },
  {
   "cell_type": "code",
   "execution_count": 5,
   "metadata": {},
   "outputs": [],
   "source": [
    "def day_of_week_func(x):\n",
    "    \"\"\"\n",
    "        Input: Normal date\n",
    "\n",
    "        Return: Day in week\n",
    "    \"\"\"\n",
    "    # Why don't need .dt if apply to Series\n",
    "    # https://stackoverflow.com/questions/62803633/timestamp-object-has-no-attribute-dt#_=_\n",
    "    x = pd.to_datetime(x).dayofweek\n",
    "    day_of_week = ['Mon', 'Tue', 'Wed', 'Thu', 'Fri', 'Sat', 'Sun']\n",
    "    dict_dayofweek = {i:v for i,v in enumerate(day_of_week)}\n",
    "\n",
    "    return dict_dayofweek[x]\n",
    "\n",
    "def slope_function(x, y):\n",
    "    # x: Timeseries\n",
    "    # y: Datapoint\n",
    "    n = len(x)\n",
    "    x_sum = np.sum(x)\n",
    "    y_sum = np.sum(y)\n",
    "    xy_sum = np.sum(x*y)\n",
    "    x2_sum = np.sum(x**2)\n",
    "\n",
    "    denominator = n * x2_sum - x_sum**2\n",
    "    if denominator == 0:\n",
    "        return 0\n",
    "    \n",
    "    else:\n",
    "        return (n * xy_sum - x_sum * y_sum) / (n * x2_sum - x_sum**2)\n",
    "\n",
    "def slope_function_2(x, y):\n",
    "    x_mean = np.mean(x)\n",
    "    y_mean = np.mean(y)\n",
    "    sx = np.std(x, ddof=1)\n",
    "    sy = np.std(y, ddof=1)\n",
    "    denominator = (len(x) * sx * sy)\n",
    "    if denominator == 0:\n",
    "        return 0\n",
    "    else:\n",
    "        r = np.sum((x - x_mean) * (y - y_mean)) / (len(x) * sx * sy)\n",
    "        m = r * (sy / sx)\n",
    "        return m\n",
    "\n",
    "def accumulate_func(Series_values:pd.Series, take_abs:int):\n",
    "    if take_abs:\n",
    "        accumulate = lambda x,y: np.abs(x-y)\n",
    "    else:\n",
    "        accumulate = lambda x,y: x-y\n",
    "\n",
    "    return ([\n",
    "        accumulate(Series_values.iloc[i], Series_values.iloc[i-1]) for i in range(1, len(Series_values))\n",
    "        ] if len(Series_values) > 1 else [0])\n",
    "\n",
    "def interest_rate(Engagement, userID):\n",
    "    usedDay_column = 'usedDays'\n",
    "    if usedDay_column in Engagement.columns:\n",
    "        pass\n",
    "    else:\n",
    "        usedDay_column = 'nth_day_from_registration'\n",
    "\n",
    "    temp = Engagement[Engagement.UserID == userID].sort_values(by=usedDay_column)\n",
    "    UserID_df = temp[['UserID']].head(1).reset_index(drop=True)\n",
    "    temp['interest'] = temp['UsageTime'] * temp['Records']\n",
    "\n",
    "    temp_check = temp.groupby('ActionType')['interest'].agg(\n",
    "        total_interest=lambda x: sum(x),\n",
    "        average_interest=lambda x: np.mean(x),\n",
    "        # accumulate_inc_avg=lambda x: np.mean([\n",
    "        #     x.iloc[i] - x.iloc[i-1] if (i != 0) and (x.iloc[i] - x.iloc[i-1]) > 0 else 0 for i in range(1, len(x))]),\n",
    "        # accumulate_dec=lambda x: sum([\n",
    "        #     x.iloc[i] - x.iloc[i-1] if (i != 0) and (x.iloc[i] - x.iloc[i-1]) < 0 else 0 for i in range(len(x))]),\n",
    "        # total_accumulate_avg=lambda x: np.mean(accumulate_func(x, True)),\n",
    "        accumulate=lambda x: np.sum(accumulate_func(x, False)),\n",
    "\n",
    "    ).reset_index()\n",
    "\n",
    "    grouped = temp.groupby('ActionType')\n",
    "    # temp_check_2 = grouped.agg(\n",
    "    #     Slope=pd.NamedAgg(\n",
    "    #         column='interest', \n",
    "    #         aggfunc=lambda x: slope_function(\n",
    "    #             grouped[usedDay_column].get_group(x.name),\n",
    "    #             x       \n",
    "    # ))).reset_index()\n",
    "\n",
    "    temp_check_3 = grouped.agg(\n",
    "        Slope_2=pd.NamedAgg(\n",
    "            column='interest', \n",
    "            aggfunc=lambda x: slope_function_2(\n",
    "                grouped[usedDay_column].get_group(x.name),\n",
    "                x       \n",
    "    ))).reset_index()\n",
    "\n",
    "    # temp_check = pd.merge(temp_check, temp_check_2, on='ActionType')\n",
    "    temp_check = pd.merge(temp_check, temp_check_3, on='ActionType')\n",
    "\n",
    "    # To tell if the recent activity increase or decrease throughout the span of 't' days\n",
    "    # Value range between [-1,1], with 0 as no trend (only 1 day of active)\n",
    "    temp_check.reset_index(inplace=True, drop=True)\n",
    "    temp_check['Slope_norm'] = temp_check['Slope_2'] / temp_check['average_interest']\n",
    "    # display(temp_check)\n",
    "\n",
    "    temp_check.drop(\n",
    "        columns=['Slope_2'], \n",
    "        inplace=True)\n",
    "\n",
    "    most_active = temp_check.iloc[[temp_check['total_interest'].idxmax()]].reset_index(drop=True)\n",
    "    most_accumulate = temp_check.iloc[[temp_check['accumulate'].idxmax()]].reset_index(drop=True)\n",
    "    \n",
    "    most_active.fillna(0, inplace=True)\n",
    "    most_active.drop(columns=['accumulate','average_interest'], inplace=True)\n",
    "    most_accumulate.fillna(0, inplace=True)\n",
    "    most_accumulate.drop(columns=['total_interest', 'average_interest'], inplace=True)\n",
    "\n",
    "    most_active.rename(columns={\n",
    "        \"ActionType\": \"MostInterest\",\n",
    "        \"total_interest\": \"TotalInterestRatio\",\n",
    "        \"Slope_norm\": \"InterestTrend\"\n",
    "    },inplace=True)\n",
    "\n",
    "    most_accumulate.rename(columns={\n",
    "        \"ActionType\": \"MostAccumulate\",\n",
    "        \"accumulate\": \"TotalAccuRatio\",\n",
    "        \"Slope_norm\": \"AccuTrend\"\n",
    "    }, inplace=True)\n",
    "    total_interest = temp_check['total_interest'].sum()\n",
    "    total_accumulate = np.sum(np.abs(temp_check['accumulate']))\n",
    "\n",
    "    most_active['TotalInterestRatio'] = most_active['TotalInterestRatio'] / total_interest\n",
    "    if total_accumulate == 0:\n",
    "        most_accumulate['TotalAccuRatio'] = 0\n",
    "    else:\n",
    "        most_accumulate['TotalAccuRatio'] = most_accumulate['TotalAccuRatio'] / total_accumulate\n",
    "   \n",
    "    return pd.concat([UserID_df, most_active, most_accumulate], axis=1)\n",
    "\n",
    "def getEvent_before_cutoff(df_events, cutOffDay=3):\n",
    "    days_from_regis = df_events.groupby('UserID')[['nth_day_from_registration']].min().reset_index()\n",
    "    days_from_regis.rename(\n",
    "        columns={\n",
    "            \"nth_day_from_registration\": \"MinFirstDay\"\n",
    "        },inplace=True\n",
    "    )\n",
    "    days_from_regis['cutoffDay'] = days_from_regis.MinFirstDay + cutOffDay\n",
    "    days_from_regis['lateUser'] = (days_from_regis['MinFirstDay'] > 0).astype(int)\n",
    "\n",
    "    Engagement = df_events.merge(days_from_regis, on='UserID',how='left')\n",
    "    Engagement = Engagement[\n",
    "        (Engagement['cutoffDay'] - Engagement['nth_day_from_registration']) > 0\n",
    "        ].reset_index(drop=True)\n",
    "    Engagement['usedDays'] = Engagement['nth_day_from_registration'] - Engagement['MinFirstDay']\n",
    "    return Engagement\n",
    "\n",
    "def setLabel(df_events, df_Payment, markDay=30):\n",
    "    df_events = df_events.merge(df_Payment[['UserID','gapday']], how='left', on='UserID')\n",
    "    \"\"\"\n",
    "        If label = True -> User paid before markDay\n",
    "        else -> Free user\n",
    "    \"\"\"\n",
    "    df_events['Label'] = ((df_events['gapday'] - df_events['MinFirstDay']) <= markDay).astype(int)\n",
    "\n",
    "    return df_events\n",
    "\n",
    "def create_dataframe(dataframes):\n",
    "    df_User, df_Engagement, df_Payment = dataframes\n",
    "\n",
    "    # Rebrand rarely used brand\n",
    "    rep_brand = df_User['DeviceBrand'].value_counts()[\n",
    "    df_User['DeviceBrand'].value_counts() < df_User['DeviceBrand'].value_counts().mean()].index.values\n",
    "    df_User['DeviceBrand'] = df_User['DeviceBrand'].apply(lambda x: 'Other brand' if x in rep_brand else x)\n",
    "\n",
    "    device_brand_df = pd.get_dummies(\n",
    "            df_User[['UserID', 'DeviceBrand']],\n",
    "            columns=['DeviceBrand'], prefix= '', prefix_sep=''\n",
    "        )\n",
    "\n",
    "    # Get total child\n",
    "    print(\"Counting total children\")\n",
    "    total_child = df_User.groupby(by='UserID')[['ChildID']].nunique().reset_index()\n",
    "    total_child.rename(\n",
    "        columns={\n",
    "            'ChildID':'TotalChild'\n",
    "        }, inplace=True\n",
    "    )\n",
    "\n",
    "    # Get number of female and male children for each user\n",
    "    print(\"Counting number of boy and girl seperate\")\n",
    "    no_fe_n_ma = df_User.pivot_table(index='UserID', columns='ChildGender', values='ChildID', aggfunc='count').reset_index()\n",
    "    no_fe_n_ma.rename(\n",
    "        columns={\n",
    "            'female':'No.Female',\n",
    "            'male': 'No.Male'\n",
    "        }, inplace=True\n",
    "    )\n",
    "    no_fe_n_ma.fillna(0, inplace=True)\n",
    "\n",
    "    # Get median age children\n",
    "    print(\"Get median children age\")\n",
    "    age_child = df_User.groupby(by='UserID')[['Age']].median().reset_index()\n",
    "    age_child.rename(\n",
    "        columns={\n",
    "            'Age':'MedianChildAge'\n",
    "        }\n",
    "    )\n",
    "\n",
    "    # Rename certain columns to match with general database\n",
    "    # df_Engagement['lastuse_byhour'] = df_Engagement['lastuse'].apply(lambda x: pd.to_datetime(x).strftime(\"%H:%M:%S\"))\n",
    "    df_Engagement.rename(\n",
    "        columns={\n",
    "            'open_time': 'Opentime',\n",
    "            'payment_screen_time': 'PaymentScreenTime'\n",
    "        }, inplace=True\n",
    "    )\n",
    "\n",
    "    # Acquire dataframe Engagement by condition\n",
    "    # df_Engagement = df_Engagement[df_Engagement.nth_day_from_registration <=7]\n",
    "    # df_Engagement = df_Engagement[condition]\n",
    "    \n",
    "    \"\"\"\n",
    "        Idea fromm: https://stackoverflow.com/questions/47360510/pandas-groupby-and-aggregation-output-should-include-all-the-original-columns-i\n",
    "    \"\"\"\n",
    "    print(\"Obtain Users event base on condition\")\n",
    "    df_merge = df_Engagement.groupby(by=['UserID', 'EventDate', 'ActionType'], as_index=False).progress_apply(\n",
    "        lambda x : x.sum() if ((x.dtypes=='int64') | (x.dtypes=='float64')).any() else x.head(1)\n",
    "        )\n",
    "    print('df_merge: \\n',df_merge)\n",
    "    # Retain labels and important features\n",
    "\n",
    "    labels_df = df_merge[['UserID', 'cutoffDay', 'lateUser', 'Label']]\n",
    "\n",
    "    # Create base df for merge\n",
    "    print(\"Create base column for merge\")\n",
    "    based_df = df_Engagement.groupby('UserID', as_index=False).progress_apply(\n",
    "        lambda x: x.head(1))[['UserID', 'UserJoinedDate']].reset_index(drop=True)\n",
    "    print(\"Unique user: \", based_df.shape[0])\n",
    "\n",
    "    # Total of Action/Events\n",
    "    print(\"Get total Open time/Usage Time/Record/Payment screen time\")\n",
    "    total_merge = df_merge.groupby(by='UserID')[['Opentime', 'UsageTime', 'Records', 'PaymentScreenTime']].progress_apply(sum).reset_index()\n",
    "    total_merge.rename(\n",
    "        columns={'Opentime':'TotalOpentime', 'UsageTime':'TotalUsageTime', \n",
    "                'Records':'TotalRecords', 'PaymentScreenTime': 'TotalPayscreentime'}, inplace=True\n",
    "    )\n",
    "\n",
    "    # Sum activity merge\n",
    "    print('Get Open time/Usage Time/Record/Payment screen time base on Action type')\n",
    "    activity_merge = pd.pivot_table(df_merge, \n",
    "                                index='UserID', \n",
    "                                columns='ActionType', \n",
    "                                values=['Opentime', 'UsageTime', 'Records','PaymentScreenTime'],\n",
    "                                aggfunc=np.sum)\n",
    "\n",
    "    activity_merge.columns = [\"\".join((i,j.title())) for i,j in activity_merge.columns]\n",
    "    activity_merge.reset_index(inplace=True)\n",
    "    activity_merge.fillna(0, inplace=True)\n",
    "\n",
    "    print(\"Get interest...\")\n",
    "    # map_func = np.vectorize(lambda x: interest_rate(df_Engagement, x))\n",
    "    # interest_df = map_func(based_df['UserID'])\n",
    "    interest_df = [interest_rate(df_Engagement, n) for n in tqdm(based_df['UserID'])]\n",
    "    interest_df = pd.concat(interest_df, axis=0, ignore_index=True)\n",
    "    \n",
    "    print(interest_df)\n",
    "    merge_dfs = [\n",
    "        total_child, no_fe_n_ma, age_child, total_merge, activity_merge, interest_df, device_brand_df, labels_df\n",
    "        ]\n",
    "    \n",
    "    print(\"Star merging....\")\n",
    "    for df in merge_dfs:\n",
    "        df.reset_index(inplace=True, drop=True)\n",
    "        based_df = based_df.merge(df, on='UserID', how='left')\n",
    "        based_df.drop_duplicates(subset=['UserID'], keep='first', inplace=True, ignore_index=True)\n",
    "\n",
    "    print(\"Total user with compress events: \", based_df.shape)\n",
    "    return based_df"
   ]
  },
  {
   "cell_type": "code",
   "execution_count": 7,
   "metadata": {},
   "outputs": [
    {
     "name": "stdout",
     "output_type": "stream",
     "text": [
      "Counting total children\n",
      "Counting number of boy and girl seperate\n",
      "Get median children age\n",
      "Obtain Users event base on condition\n"
     ]
    },
    {
     "name": "stderr",
     "output_type": "stream",
     "text": [
      "100%|██████████| 100/100 [00:00<00:00, 496.22it/s]\n"
     ]
    },
    {
     "name": "stdout",
     "output_type": "stream",
     "text": [
      "df_merge: \n",
      "      EventDate                                UserID     ActionType  \\\n",
      "0   2022-07-12  040b1165-f80b-4c2b-8608-af46735e794b  entertainment   \n",
      "1   2022-07-14  0431ddef-cd95-4e95-8c00-8bc4bed18651          learn   \n",
      "2   2022-06-09  05150eaf-4b68-40a0-9893-2a2786bd907e      discovery   \n",
      "3   2023-01-08  0587b7e7-fe50-4e34-92a1-122fd587599b  entertainment   \n",
      "4   2022-10-01  08cb10c2-5970-44ce-9c71-622e868ab485          learn   \n",
      "..         ...                                   ...            ...   \n",
      "95  2023-01-18  f62af61c-2b9e-46b0-b950-c5277306a693          learn   \n",
      "96  2023-02-28  f7735c76-18f5-4a1d-93ca-cddff65f6b89          learn   \n",
      "97  2022-06-05  f961864b-6fa1-48b1-9646-690014a2e7c6          learn   \n",
      "98  2022-07-09  fa4ee85b-4040-4fc7-9397-ca28e01fdcd9          learn   \n",
      "99  2022-09-05  fd7c7b47-b8a1-47fe-b2ab-e6fa3fe8631f          learn   \n",
      "\n",
      "                      UserJoinedDate  nth_day_from_registration  Opentime  \\\n",
      "0   2022-06-26 07:03:27.635000+07:00                         16         1   \n",
      "1   2022-07-13 10:15:42.545000+07:00                          1         1   \n",
      "2   2022-06-01 23:24:06.904000+07:00                          8         1   \n",
      "3   2022-12-25 12:08:01.104000+07:00                         14         3   \n",
      "4   2022-09-17 14:23:43.222000+07:00                         14         1   \n",
      "..                               ...                        ...       ...   \n",
      "95  2022-08-02 20:52:32.705000+07:00                        169         1   \n",
      "96  2022-06-08 19:28:07.646000+07:00                        265         2   \n",
      "97  2022-04-23 15:15:34.592000+07:00                         43         3   \n",
      "98  2022-06-27 19:19:44.694000+07:00                         12         1   \n",
      "99  2022-08-31 21:56:29.099000+07:00                          5         2   \n",
      "\n",
      "    PaymentScreenTime DeviceBrand  UsageTime  Records  \\\n",
      "0                   2       apple      15.28        8   \n",
      "1                   1     samsung       6.43        7   \n",
      "2                   2     samsung      11.45        3   \n",
      "3                   1     samsung       0.40        8   \n",
      "4                   0       apple       7.67       11   \n",
      "..                ...         ...        ...      ...   \n",
      "95                  0     samsung       6.62        9   \n",
      "96                  0       apple       1.38        3   \n",
      "97                  0        oppo      36.58       40   \n",
      "98                  0       nokia       9.33        6   \n",
      "99                  0       apple       6.40        8   \n",
      "\n",
      "                      lastuse  MinFirstDay  cutoffDay  lateUser  usedDays  \\\n",
      "0   2022-07-12 09:01:38+07:00           16         19         1         0   \n",
      "1   2022-07-14 16:36:07+07:00            1          4         1         0   \n",
      "2   2022-06-09 08:04:58+07:00            8         11         1         0   \n",
      "3   2023-01-08 07:42:31+07:00           14         17         1         0   \n",
      "4   2022-10-01 22:18:06+07:00           14         17         1         0   \n",
      "..                        ...          ...        ...       ...       ...   \n",
      "95  2023-01-18 13:16:44+07:00          169        172         1         0   \n",
      "96  2023-02-28 22:18:13+07:00          265        268         1         0   \n",
      "97  2022-06-05 21:42:46+07:00           43         46         1         0   \n",
      "98  2022-07-09 10:17:45+07:00           12         15         1         0   \n",
      "99  2022-09-05 21:25:35+07:00            5          8         1         0   \n",
      "\n",
      "    gapday  Label  \n",
      "0      0.0      0  \n",
      "1      0.0      0  \n",
      "2      0.0      0  \n",
      "3      0.0      0  \n",
      "4      9.0      1  \n",
      "..     ...    ...  \n",
      "95     0.0      0  \n",
      "96     1.0      1  \n",
      "97    14.0      1  \n",
      "98     1.0      1  \n",
      "99     0.0      1  \n",
      "\n",
      "[100 rows x 17 columns]\n",
      "Create base column for merge\n"
     ]
    },
    {
     "name": "stderr",
     "output_type": "stream",
     "text": [
      "100%|██████████| 100/100 [00:00<00:00, 1917.00it/s]\n"
     ]
    },
    {
     "name": "stdout",
     "output_type": "stream",
     "text": [
      "Unique user:  100\n",
      "Get total Open time/Usage Time/Record/Payment screen time\n"
     ]
    },
    {
     "name": "stderr",
     "output_type": "stream",
     "text": [
      "100%|██████████| 100/100 [00:00<00:00, 619.95it/s]\n"
     ]
    },
    {
     "name": "stdout",
     "output_type": "stream",
     "text": [
      "Get Open time/Usage Time/Record/Payment screen time base on Action type\n",
      "Get interest...\n"
     ]
    },
    {
     "name": "stderr",
     "output_type": "stream",
     "text": [
      "100%|██████████| 100/100 [00:01<00:00, 62.55it/s]\n"
     ]
    },
    {
     "name": "stdout",
     "output_type": "stream",
     "text": [
      "                                  UserID   MostInterest  TotalInterestRatio  \\\n",
      "0   c65f5b3f-e220-4c2a-a94e-74c4749f0783          learn                 1.0   \n",
      "1   66fd7717-ee82-4f85-8702-3111f0179d4d          learn                 1.0   \n",
      "2   c19e1a88-5ff6-464d-9bf3-62d8f3ba806c  entertainment                 1.0   \n",
      "3   fd7c7b47-b8a1-47fe-b2ab-e6fa3fe8631f          learn                 1.0   \n",
      "4   98e54195-30a2-4cb3-b286-2bed25b10ba0      discovery                 1.0   \n",
      "..                                   ...            ...                 ...   \n",
      "95  3dfeb07a-911f-411e-b519-0180f3069895          learn                 1.0   \n",
      "96  a264d35d-5ef1-46a7-b2c8-56f9a38a6fc7  entertainment                 1.0   \n",
      "97  d931fe64-ea79-4f3b-b37a-840fe2d05427          learn                 1.0   \n",
      "98  35aa2bba-9dc6-4bb1-a31c-559be4408ea6  entertainment                 1.0   \n",
      "99  d05d62e6-16e5-4e6c-8ed3-92dd12e9f35e  entertainment                 1.0   \n",
      "\n",
      "    InterestTrend MostAccumulate  TotalAccuRatio  AccuTrend  \n",
      "0             0.0          learn               0        0.0  \n",
      "1             0.0          learn               0        0.0  \n",
      "2             0.0  entertainment               0        0.0  \n",
      "3             0.0          learn               0        0.0  \n",
      "4             0.0      discovery               0        0.0  \n",
      "..            ...            ...             ...        ...  \n",
      "95            0.0          learn               0        0.0  \n",
      "96            0.0  entertainment               0        0.0  \n",
      "97            0.0          learn               0        0.0  \n",
      "98            0.0  entertainment               0        0.0  \n",
      "99            0.0  entertainment               0        0.0  \n",
      "\n",
      "[100 rows x 7 columns]\n",
      "Star merging....\n",
      "Total user with compress events:  (100, 35)\n"
     ]
    },
    {
     "data": {
      "text/html": [
       "<div>\n",
       "<style scoped>\n",
       "    .dataframe tbody tr th:only-of-type {\n",
       "        vertical-align: middle;\n",
       "    }\n",
       "\n",
       "    .dataframe tbody tr th {\n",
       "        vertical-align: top;\n",
       "    }\n",
       "\n",
       "    .dataframe thead th {\n",
       "        text-align: right;\n",
       "    }\n",
       "</style>\n",
       "<table border=\"1\" class=\"dataframe\">\n",
       "  <thead>\n",
       "    <tr style=\"text-align: right;\">\n",
       "      <th></th>\n",
       "      <th>UserID</th>\n",
       "      <th>UserJoinedDate</th>\n",
       "      <th>TotalChild</th>\n",
       "      <th>No.Female</th>\n",
       "      <th>No.Male</th>\n",
       "      <th>Age</th>\n",
       "      <th>TotalOpentime</th>\n",
       "      <th>TotalUsageTime</th>\n",
       "      <th>TotalRecords</th>\n",
       "      <th>TotalPayscreentime</th>\n",
       "      <th>OpentimeDiscovery</th>\n",
       "      <th>OpentimeEntertainment</th>\n",
       "      <th>OpentimeLearn</th>\n",
       "      <th>PaymentScreenTimeDiscovery</th>\n",
       "      <th>PaymentScreenTimeEntertainment</th>\n",
       "      <th>PaymentScreenTimeLearn</th>\n",
       "      <th>RecordsDiscovery</th>\n",
       "      <th>RecordsEntertainment</th>\n",
       "      <th>RecordsLearn</th>\n",
       "      <th>UsageTimeDiscovery</th>\n",
       "      <th>UsageTimeEntertainment</th>\n",
       "      <th>UsageTimeLearn</th>\n",
       "      <th>MostInterest</th>\n",
       "      <th>TotalInterestRatio</th>\n",
       "      <th>InterestTrend</th>\n",
       "      <th>MostAccumulate</th>\n",
       "      <th>TotalAccuRatio</th>\n",
       "      <th>AccuTrend</th>\n",
       "      <th>Other brand</th>\n",
       "      <th>apple</th>\n",
       "      <th>oppo</th>\n",
       "      <th>samsung</th>\n",
       "      <th>cutoffDay</th>\n",
       "      <th>lateUser</th>\n",
       "      <th>Label</th>\n",
       "    </tr>\n",
       "  </thead>\n",
       "  <tbody>\n",
       "    <tr>\n",
       "      <th>0</th>\n",
       "      <td>c65f5b3f-e220-4c2a-a94e-74c4749f0783</td>\n",
       "      <td>2022-05-28 09:11:16.181000+07:00</td>\n",
       "      <td>1</td>\n",
       "      <td>0.0</td>\n",
       "      <td>2.0</td>\n",
       "      <td>5.0</td>\n",
       "      <td>1.0</td>\n",
       "      <td>33.80</td>\n",
       "      <td>26.0</td>\n",
       "      <td>0.0</td>\n",
       "      <td>0.0</td>\n",
       "      <td>0.0</td>\n",
       "      <td>1.0</td>\n",
       "      <td>0.0</td>\n",
       "      <td>0.0</td>\n",
       "      <td>0.0</td>\n",
       "      <td>0.0</td>\n",
       "      <td>0.0</td>\n",
       "      <td>26.0</td>\n",
       "      <td>0.00</td>\n",
       "      <td>0.00</td>\n",
       "      <td>33.80</td>\n",
       "      <td>learn</td>\n",
       "      <td>1.0</td>\n",
       "      <td>0.0</td>\n",
       "      <td>learn</td>\n",
       "      <td>0</td>\n",
       "      <td>0.0</td>\n",
       "      <td>0</td>\n",
       "      <td>0</td>\n",
       "      <td>0</td>\n",
       "      <td>1</td>\n",
       "      <td>5</td>\n",
       "      <td>1</td>\n",
       "      <td>1</td>\n",
       "    </tr>\n",
       "    <tr>\n",
       "      <th>1</th>\n",
       "      <td>66fd7717-ee82-4f85-8702-3111f0179d4d</td>\n",
       "      <td>2023-01-16 20:51:29.481000+07:00</td>\n",
       "      <td>1</td>\n",
       "      <td>0.0</td>\n",
       "      <td>1.0</td>\n",
       "      <td>4.0</td>\n",
       "      <td>2.0</td>\n",
       "      <td>5.75</td>\n",
       "      <td>8.0</td>\n",
       "      <td>1.0</td>\n",
       "      <td>0.0</td>\n",
       "      <td>0.0</td>\n",
       "      <td>2.0</td>\n",
       "      <td>0.0</td>\n",
       "      <td>0.0</td>\n",
       "      <td>1.0</td>\n",
       "      <td>0.0</td>\n",
       "      <td>0.0</td>\n",
       "      <td>8.0</td>\n",
       "      <td>0.00</td>\n",
       "      <td>0.00</td>\n",
       "      <td>5.75</td>\n",
       "      <td>learn</td>\n",
       "      <td>1.0</td>\n",
       "      <td>0.0</td>\n",
       "      <td>learn</td>\n",
       "      <td>0</td>\n",
       "      <td>0.0</td>\n",
       "      <td>1</td>\n",
       "      <td>0</td>\n",
       "      <td>0</td>\n",
       "      <td>0</td>\n",
       "      <td>23</td>\n",
       "      <td>1</td>\n",
       "      <td>0</td>\n",
       "    </tr>\n",
       "    <tr>\n",
       "      <th>2</th>\n",
       "      <td>c19e1a88-5ff6-464d-9bf3-62d8f3ba806c</td>\n",
       "      <td>2022-07-04 17:02:56.496000+07:00</td>\n",
       "      <td>2</td>\n",
       "      <td>2.0</td>\n",
       "      <td>2.0</td>\n",
       "      <td>5.5</td>\n",
       "      <td>1.0</td>\n",
       "      <td>9.57</td>\n",
       "      <td>7.0</td>\n",
       "      <td>0.0</td>\n",
       "      <td>0.0</td>\n",
       "      <td>1.0</td>\n",
       "      <td>0.0</td>\n",
       "      <td>0.0</td>\n",
       "      <td>0.0</td>\n",
       "      <td>0.0</td>\n",
       "      <td>0.0</td>\n",
       "      <td>7.0</td>\n",
       "      <td>0.0</td>\n",
       "      <td>0.00</td>\n",
       "      <td>9.57</td>\n",
       "      <td>0.00</td>\n",
       "      <td>entertainment</td>\n",
       "      <td>1.0</td>\n",
       "      <td>0.0</td>\n",
       "      <td>entertainment</td>\n",
       "      <td>0</td>\n",
       "      <td>0.0</td>\n",
       "      <td>0</td>\n",
       "      <td>0</td>\n",
       "      <td>0</td>\n",
       "      <td>1</td>\n",
       "      <td>150</td>\n",
       "      <td>1</td>\n",
       "      <td>1</td>\n",
       "    </tr>\n",
       "    <tr>\n",
       "      <th>3</th>\n",
       "      <td>fd7c7b47-b8a1-47fe-b2ab-e6fa3fe8631f</td>\n",
       "      <td>2022-08-31 21:56:29.099000+07:00</td>\n",
       "      <td>1</td>\n",
       "      <td>0.0</td>\n",
       "      <td>2.0</td>\n",
       "      <td>6.0</td>\n",
       "      <td>2.0</td>\n",
       "      <td>6.40</td>\n",
       "      <td>8.0</td>\n",
       "      <td>0.0</td>\n",
       "      <td>0.0</td>\n",
       "      <td>0.0</td>\n",
       "      <td>2.0</td>\n",
       "      <td>0.0</td>\n",
       "      <td>0.0</td>\n",
       "      <td>0.0</td>\n",
       "      <td>0.0</td>\n",
       "      <td>0.0</td>\n",
       "      <td>8.0</td>\n",
       "      <td>0.00</td>\n",
       "      <td>0.00</td>\n",
       "      <td>6.40</td>\n",
       "      <td>learn</td>\n",
       "      <td>1.0</td>\n",
       "      <td>0.0</td>\n",
       "      <td>learn</td>\n",
       "      <td>0</td>\n",
       "      <td>0.0</td>\n",
       "      <td>0</td>\n",
       "      <td>1</td>\n",
       "      <td>0</td>\n",
       "      <td>0</td>\n",
       "      <td>8</td>\n",
       "      <td>1</td>\n",
       "      <td>1</td>\n",
       "    </tr>\n",
       "    <tr>\n",
       "      <th>4</th>\n",
       "      <td>98e54195-30a2-4cb3-b286-2bed25b10ba0</td>\n",
       "      <td>2022-07-11 17:24:30.188000+07:00</td>\n",
       "      <td>1</td>\n",
       "      <td>1.0</td>\n",
       "      <td>0.0</td>\n",
       "      <td>3.0</td>\n",
       "      <td>1.0</td>\n",
       "      <td>4.58</td>\n",
       "      <td>2.0</td>\n",
       "      <td>0.0</td>\n",
       "      <td>1.0</td>\n",
       "      <td>0.0</td>\n",
       "      <td>0.0</td>\n",
       "      <td>0.0</td>\n",
       "      <td>0.0</td>\n",
       "      <td>0.0</td>\n",
       "      <td>2.0</td>\n",
       "      <td>0.0</td>\n",
       "      <td>0.0</td>\n",
       "      <td>4.58</td>\n",
       "      <td>0.00</td>\n",
       "      <td>0.00</td>\n",
       "      <td>discovery</td>\n",
       "      <td>1.0</td>\n",
       "      <td>0.0</td>\n",
       "      <td>discovery</td>\n",
       "      <td>0</td>\n",
       "      <td>0.0</td>\n",
       "      <td>0</td>\n",
       "      <td>1</td>\n",
       "      <td>0</td>\n",
       "      <td>0</td>\n",
       "      <td>53</td>\n",
       "      <td>1</td>\n",
       "      <td>0</td>\n",
       "    </tr>\n",
       "    <tr>\n",
       "      <th>...</th>\n",
       "      <td>...</td>\n",
       "      <td>...</td>\n",
       "      <td>...</td>\n",
       "      <td>...</td>\n",
       "      <td>...</td>\n",
       "      <td>...</td>\n",
       "      <td>...</td>\n",
       "      <td>...</td>\n",
       "      <td>...</td>\n",
       "      <td>...</td>\n",
       "      <td>...</td>\n",
       "      <td>...</td>\n",
       "      <td>...</td>\n",
       "      <td>...</td>\n",
       "      <td>...</td>\n",
       "      <td>...</td>\n",
       "      <td>...</td>\n",
       "      <td>...</td>\n",
       "      <td>...</td>\n",
       "      <td>...</td>\n",
       "      <td>...</td>\n",
       "      <td>...</td>\n",
       "      <td>...</td>\n",
       "      <td>...</td>\n",
       "      <td>...</td>\n",
       "      <td>...</td>\n",
       "      <td>...</td>\n",
       "      <td>...</td>\n",
       "      <td>...</td>\n",
       "      <td>...</td>\n",
       "      <td>...</td>\n",
       "      <td>...</td>\n",
       "      <td>...</td>\n",
       "      <td>...</td>\n",
       "      <td>...</td>\n",
       "    </tr>\n",
       "    <tr>\n",
       "      <th>95</th>\n",
       "      <td>3dfeb07a-911f-411e-b519-0180f3069895</td>\n",
       "      <td>2022-05-03 21:22:50.628000+07:00</td>\n",
       "      <td>1</td>\n",
       "      <td>1.0</td>\n",
       "      <td>0.0</td>\n",
       "      <td>8.0</td>\n",
       "      <td>0.0</td>\n",
       "      <td>5.58</td>\n",
       "      <td>11.0</td>\n",
       "      <td>0.0</td>\n",
       "      <td>0.0</td>\n",
       "      <td>0.0</td>\n",
       "      <td>0.0</td>\n",
       "      <td>0.0</td>\n",
       "      <td>0.0</td>\n",
       "      <td>0.0</td>\n",
       "      <td>0.0</td>\n",
       "      <td>0.0</td>\n",
       "      <td>11.0</td>\n",
       "      <td>0.00</td>\n",
       "      <td>0.00</td>\n",
       "      <td>5.58</td>\n",
       "      <td>learn</td>\n",
       "      <td>1.0</td>\n",
       "      <td>0.0</td>\n",
       "      <td>learn</td>\n",
       "      <td>0</td>\n",
       "      <td>0.0</td>\n",
       "      <td>0</td>\n",
       "      <td>1</td>\n",
       "      <td>0</td>\n",
       "      <td>0</td>\n",
       "      <td>3</td>\n",
       "      <td>0</td>\n",
       "      <td>0</td>\n",
       "    </tr>\n",
       "    <tr>\n",
       "      <th>96</th>\n",
       "      <td>a264d35d-5ef1-46a7-b2c8-56f9a38a6fc7</td>\n",
       "      <td>2023-01-31 13:44:36.745000+07:00</td>\n",
       "      <td>1</td>\n",
       "      <td>2.0</td>\n",
       "      <td>0.0</td>\n",
       "      <td>5.0</td>\n",
       "      <td>1.0</td>\n",
       "      <td>35.57</td>\n",
       "      <td>7.0</td>\n",
       "      <td>0.0</td>\n",
       "      <td>0.0</td>\n",
       "      <td>1.0</td>\n",
       "      <td>0.0</td>\n",
       "      <td>0.0</td>\n",
       "      <td>0.0</td>\n",
       "      <td>0.0</td>\n",
       "      <td>0.0</td>\n",
       "      <td>7.0</td>\n",
       "      <td>0.0</td>\n",
       "      <td>0.00</td>\n",
       "      <td>35.57</td>\n",
       "      <td>0.00</td>\n",
       "      <td>entertainment</td>\n",
       "      <td>1.0</td>\n",
       "      <td>0.0</td>\n",
       "      <td>entertainment</td>\n",
       "      <td>0</td>\n",
       "      <td>0.0</td>\n",
       "      <td>0</td>\n",
       "      <td>0</td>\n",
       "      <td>0</td>\n",
       "      <td>1</td>\n",
       "      <td>79</td>\n",
       "      <td>1</td>\n",
       "      <td>1</td>\n",
       "    </tr>\n",
       "    <tr>\n",
       "      <th>97</th>\n",
       "      <td>d931fe64-ea79-4f3b-b37a-840fe2d05427</td>\n",
       "      <td>2023-04-12 10:08:24.062000+07:00</td>\n",
       "      <td>1</td>\n",
       "      <td>0.0</td>\n",
       "      <td>1.0</td>\n",
       "      <td>2.0</td>\n",
       "      <td>1.0</td>\n",
       "      <td>1.20</td>\n",
       "      <td>1.0</td>\n",
       "      <td>0.0</td>\n",
       "      <td>0.0</td>\n",
       "      <td>0.0</td>\n",
       "      <td>1.0</td>\n",
       "      <td>0.0</td>\n",
       "      <td>0.0</td>\n",
       "      <td>0.0</td>\n",
       "      <td>0.0</td>\n",
       "      <td>0.0</td>\n",
       "      <td>1.0</td>\n",
       "      <td>0.00</td>\n",
       "      <td>0.00</td>\n",
       "      <td>1.20</td>\n",
       "      <td>learn</td>\n",
       "      <td>1.0</td>\n",
       "      <td>0.0</td>\n",
       "      <td>learn</td>\n",
       "      <td>0</td>\n",
       "      <td>0.0</td>\n",
       "      <td>0</td>\n",
       "      <td>1</td>\n",
       "      <td>0</td>\n",
       "      <td>0</td>\n",
       "      <td>10</td>\n",
       "      <td>1</td>\n",
       "      <td>0</td>\n",
       "    </tr>\n",
       "    <tr>\n",
       "      <th>98</th>\n",
       "      <td>35aa2bba-9dc6-4bb1-a31c-559be4408ea6</td>\n",
       "      <td>2022-06-22 16:32:31.975000+07:00</td>\n",
       "      <td>1</td>\n",
       "      <td>0.0</td>\n",
       "      <td>1.0</td>\n",
       "      <td>4.0</td>\n",
       "      <td>3.0</td>\n",
       "      <td>12.45</td>\n",
       "      <td>7.0</td>\n",
       "      <td>3.0</td>\n",
       "      <td>0.0</td>\n",
       "      <td>3.0</td>\n",
       "      <td>0.0</td>\n",
       "      <td>0.0</td>\n",
       "      <td>3.0</td>\n",
       "      <td>0.0</td>\n",
       "      <td>0.0</td>\n",
       "      <td>7.0</td>\n",
       "      <td>0.0</td>\n",
       "      <td>0.00</td>\n",
       "      <td>12.45</td>\n",
       "      <td>0.00</td>\n",
       "      <td>entertainment</td>\n",
       "      <td>1.0</td>\n",
       "      <td>0.0</td>\n",
       "      <td>entertainment</td>\n",
       "      <td>0</td>\n",
       "      <td>0.0</td>\n",
       "      <td>0</td>\n",
       "      <td>0</td>\n",
       "      <td>0</td>\n",
       "      <td>1</td>\n",
       "      <td>32</td>\n",
       "      <td>1</td>\n",
       "      <td>1</td>\n",
       "    </tr>\n",
       "    <tr>\n",
       "      <th>99</th>\n",
       "      <td>d05d62e6-16e5-4e6c-8ed3-92dd12e9f35e</td>\n",
       "      <td>2022-08-20 12:16:03.388000+07:00</td>\n",
       "      <td>1</td>\n",
       "      <td>0.0</td>\n",
       "      <td>1.0</td>\n",
       "      <td>8.0</td>\n",
       "      <td>3.0</td>\n",
       "      <td>0.80</td>\n",
       "      <td>6.0</td>\n",
       "      <td>6.0</td>\n",
       "      <td>0.0</td>\n",
       "      <td>3.0</td>\n",
       "      <td>0.0</td>\n",
       "      <td>0.0</td>\n",
       "      <td>6.0</td>\n",
       "      <td>0.0</td>\n",
       "      <td>0.0</td>\n",
       "      <td>6.0</td>\n",
       "      <td>0.0</td>\n",
       "      <td>0.00</td>\n",
       "      <td>0.80</td>\n",
       "      <td>0.00</td>\n",
       "      <td>entertainment</td>\n",
       "      <td>1.0</td>\n",
       "      <td>0.0</td>\n",
       "      <td>entertainment</td>\n",
       "      <td>0</td>\n",
       "      <td>0.0</td>\n",
       "      <td>0</td>\n",
       "      <td>0</td>\n",
       "      <td>0</td>\n",
       "      <td>1</td>\n",
       "      <td>45</td>\n",
       "      <td>1</td>\n",
       "      <td>0</td>\n",
       "    </tr>\n",
       "  </tbody>\n",
       "</table>\n",
       "<p>100 rows × 35 columns</p>\n",
       "</div>"
      ],
      "text/plain": [
       "                                  UserID                    UserJoinedDate  \\\n",
       "0   c65f5b3f-e220-4c2a-a94e-74c4749f0783  2022-05-28 09:11:16.181000+07:00   \n",
       "1   66fd7717-ee82-4f85-8702-3111f0179d4d  2023-01-16 20:51:29.481000+07:00   \n",
       "2   c19e1a88-5ff6-464d-9bf3-62d8f3ba806c  2022-07-04 17:02:56.496000+07:00   \n",
       "3   fd7c7b47-b8a1-47fe-b2ab-e6fa3fe8631f  2022-08-31 21:56:29.099000+07:00   \n",
       "4   98e54195-30a2-4cb3-b286-2bed25b10ba0  2022-07-11 17:24:30.188000+07:00   \n",
       "..                                   ...                               ...   \n",
       "95  3dfeb07a-911f-411e-b519-0180f3069895  2022-05-03 21:22:50.628000+07:00   \n",
       "96  a264d35d-5ef1-46a7-b2c8-56f9a38a6fc7  2023-01-31 13:44:36.745000+07:00   \n",
       "97  d931fe64-ea79-4f3b-b37a-840fe2d05427  2023-04-12 10:08:24.062000+07:00   \n",
       "98  35aa2bba-9dc6-4bb1-a31c-559be4408ea6  2022-06-22 16:32:31.975000+07:00   \n",
       "99  d05d62e6-16e5-4e6c-8ed3-92dd12e9f35e  2022-08-20 12:16:03.388000+07:00   \n",
       "\n",
       "    TotalChild  No.Female  No.Male  Age  TotalOpentime  TotalUsageTime  \\\n",
       "0            1        0.0      2.0  5.0            1.0           33.80   \n",
       "1            1        0.0      1.0  4.0            2.0            5.75   \n",
       "2            2        2.0      2.0  5.5            1.0            9.57   \n",
       "3            1        0.0      2.0  6.0            2.0            6.40   \n",
       "4            1        1.0      0.0  3.0            1.0            4.58   \n",
       "..         ...        ...      ...  ...            ...             ...   \n",
       "95           1        1.0      0.0  8.0            0.0            5.58   \n",
       "96           1        2.0      0.0  5.0            1.0           35.57   \n",
       "97           1        0.0      1.0  2.0            1.0            1.20   \n",
       "98           1        0.0      1.0  4.0            3.0           12.45   \n",
       "99           1        0.0      1.0  8.0            3.0            0.80   \n",
       "\n",
       "    TotalRecords  TotalPayscreentime  OpentimeDiscovery  \\\n",
       "0           26.0                 0.0                0.0   \n",
       "1            8.0                 1.0                0.0   \n",
       "2            7.0                 0.0                0.0   \n",
       "3            8.0                 0.0                0.0   \n",
       "4            2.0                 0.0                1.0   \n",
       "..           ...                 ...                ...   \n",
       "95          11.0                 0.0                0.0   \n",
       "96           7.0                 0.0                0.0   \n",
       "97           1.0                 0.0                0.0   \n",
       "98           7.0                 3.0                0.0   \n",
       "99           6.0                 6.0                0.0   \n",
       "\n",
       "    OpentimeEntertainment  OpentimeLearn  PaymentScreenTimeDiscovery  \\\n",
       "0                     0.0            1.0                         0.0   \n",
       "1                     0.0            2.0                         0.0   \n",
       "2                     1.0            0.0                         0.0   \n",
       "3                     0.0            2.0                         0.0   \n",
       "4                     0.0            0.0                         0.0   \n",
       "..                    ...            ...                         ...   \n",
       "95                    0.0            0.0                         0.0   \n",
       "96                    1.0            0.0                         0.0   \n",
       "97                    0.0            1.0                         0.0   \n",
       "98                    3.0            0.0                         0.0   \n",
       "99                    3.0            0.0                         0.0   \n",
       "\n",
       "    PaymentScreenTimeEntertainment  PaymentScreenTimeLearn  RecordsDiscovery  \\\n",
       "0                              0.0                     0.0               0.0   \n",
       "1                              0.0                     1.0               0.0   \n",
       "2                              0.0                     0.0               0.0   \n",
       "3                              0.0                     0.0               0.0   \n",
       "4                              0.0                     0.0               2.0   \n",
       "..                             ...                     ...               ...   \n",
       "95                             0.0                     0.0               0.0   \n",
       "96                             0.0                     0.0               0.0   \n",
       "97                             0.0                     0.0               0.0   \n",
       "98                             3.0                     0.0               0.0   \n",
       "99                             6.0                     0.0               0.0   \n",
       "\n",
       "    RecordsEntertainment  RecordsLearn  UsageTimeDiscovery  \\\n",
       "0                    0.0          26.0                0.00   \n",
       "1                    0.0           8.0                0.00   \n",
       "2                    7.0           0.0                0.00   \n",
       "3                    0.0           8.0                0.00   \n",
       "4                    0.0           0.0                4.58   \n",
       "..                   ...           ...                 ...   \n",
       "95                   0.0          11.0                0.00   \n",
       "96                   7.0           0.0                0.00   \n",
       "97                   0.0           1.0                0.00   \n",
       "98                   7.0           0.0                0.00   \n",
       "99                   6.0           0.0                0.00   \n",
       "\n",
       "    UsageTimeEntertainment  UsageTimeLearn   MostInterest  TotalInterestRatio  \\\n",
       "0                     0.00           33.80          learn                 1.0   \n",
       "1                     0.00            5.75          learn                 1.0   \n",
       "2                     9.57            0.00  entertainment                 1.0   \n",
       "3                     0.00            6.40          learn                 1.0   \n",
       "4                     0.00            0.00      discovery                 1.0   \n",
       "..                     ...             ...            ...                 ...   \n",
       "95                    0.00            5.58          learn                 1.0   \n",
       "96                   35.57            0.00  entertainment                 1.0   \n",
       "97                    0.00            1.20          learn                 1.0   \n",
       "98                   12.45            0.00  entertainment                 1.0   \n",
       "99                    0.80            0.00  entertainment                 1.0   \n",
       "\n",
       "    InterestTrend MostAccumulate  TotalAccuRatio  AccuTrend  Other brand  \\\n",
       "0             0.0          learn               0        0.0            0   \n",
       "1             0.0          learn               0        0.0            1   \n",
       "2             0.0  entertainment               0        0.0            0   \n",
       "3             0.0          learn               0        0.0            0   \n",
       "4             0.0      discovery               0        0.0            0   \n",
       "..            ...            ...             ...        ...          ...   \n",
       "95            0.0          learn               0        0.0            0   \n",
       "96            0.0  entertainment               0        0.0            0   \n",
       "97            0.0          learn               0        0.0            0   \n",
       "98            0.0  entertainment               0        0.0            0   \n",
       "99            0.0  entertainment               0        0.0            0   \n",
       "\n",
       "    apple  oppo  samsung  cutoffDay  lateUser  Label  \n",
       "0       0     0        1          5         1      1  \n",
       "1       0     0        0         23         1      0  \n",
       "2       0     0        1        150         1      1  \n",
       "3       1     0        0          8         1      1  \n",
       "4       1     0        0         53         1      0  \n",
       "..    ...   ...      ...        ...       ...    ...  \n",
       "95      1     0        0          3         0      0  \n",
       "96      0     0        1         79         1      1  \n",
       "97      1     0        0         10         1      0  \n",
       "98      0     0        1         32         1      1  \n",
       "99      0     0        1         45         1      0  \n",
       "\n",
       "[100 rows x 35 columns]"
      ]
     },
     "execution_count": 7,
     "metadata": {},
     "output_type": "execute_result"
    }
   ],
   "source": [
    "Engagements = getEvent_before_cutoff(df_Engagement.iloc[:100], cutOffDay=3)\n",
    "Engagements = setLabel(Engagements, df_Payment, markDay=30)\n",
    "list_dataframes =[\n",
    "    df_User,\n",
    "    Engagements,\n",
    "    df_Payment\n",
    "]\n",
    "condition_df = create_dataframe(list_dataframes)\n",
    "condition_df"
   ]
  },
  {
   "cell_type": "code",
   "execution_count": 45,
   "metadata": {},
   "outputs": [
    {
     "data": {
      "text/plain": [
       "'00002520-3fe9-4d4b-9e1f-e4a72386bf47'"
      ]
     },
     "metadata": {},
     "output_type": "display_data"
    },
    {
     "data": {
      "application/vnd.plotly.v1+json": {
       "config": {
        "plotlyServerURL": "https://plot.ly"
       },
       "data": [
        {
         "hovertemplate": "ActionType=learn<br>nth_day_from_registration=%{x}<br>interest=%{y}<extra></extra>",
         "legendgroup": "learn",
         "line": {
          "color": "#636efa",
          "dash": "solid"
         },
         "marker": {
          "symbol": "circle"
         },
         "mode": "lines+markers",
         "name": "learn",
         "orientation": "v",
         "showlegend": true,
         "type": "scatter",
         "x": [
          0
         ],
         "xaxis": "x",
         "y": [
          318.24
         ],
         "yaxis": "y"
        }
       ],
       "layout": {
        "legend": {
         "title": {
          "text": "ActionType"
         },
         "tracegroupgap": 0
        },
        "margin": {
         "t": 60
        },
        "template": {
         "data": {
          "bar": [
           {
            "error_x": {
             "color": "#2a3f5f"
            },
            "error_y": {
             "color": "#2a3f5f"
            },
            "marker": {
             "line": {
              "color": "#E5ECF6",
              "width": 0.5
             },
             "pattern": {
              "fillmode": "overlay",
              "size": 10,
              "solidity": 0.2
             }
            },
            "type": "bar"
           }
          ],
          "barpolar": [
           {
            "marker": {
             "line": {
              "color": "#E5ECF6",
              "width": 0.5
             },
             "pattern": {
              "fillmode": "overlay",
              "size": 10,
              "solidity": 0.2
             }
            },
            "type": "barpolar"
           }
          ],
          "carpet": [
           {
            "aaxis": {
             "endlinecolor": "#2a3f5f",
             "gridcolor": "white",
             "linecolor": "white",
             "minorgridcolor": "white",
             "startlinecolor": "#2a3f5f"
            },
            "baxis": {
             "endlinecolor": "#2a3f5f",
             "gridcolor": "white",
             "linecolor": "white",
             "minorgridcolor": "white",
             "startlinecolor": "#2a3f5f"
            },
            "type": "carpet"
           }
          ],
          "choropleth": [
           {
            "colorbar": {
             "outlinewidth": 0,
             "ticks": ""
            },
            "type": "choropleth"
           }
          ],
          "contour": [
           {
            "colorbar": {
             "outlinewidth": 0,
             "ticks": ""
            },
            "colorscale": [
             [
              0,
              "#0d0887"
             ],
             [
              0.1111111111111111,
              "#46039f"
             ],
             [
              0.2222222222222222,
              "#7201a8"
             ],
             [
              0.3333333333333333,
              "#9c179e"
             ],
             [
              0.4444444444444444,
              "#bd3786"
             ],
             [
              0.5555555555555556,
              "#d8576b"
             ],
             [
              0.6666666666666666,
              "#ed7953"
             ],
             [
              0.7777777777777778,
              "#fb9f3a"
             ],
             [
              0.8888888888888888,
              "#fdca26"
             ],
             [
              1,
              "#f0f921"
             ]
            ],
            "type": "contour"
           }
          ],
          "contourcarpet": [
           {
            "colorbar": {
             "outlinewidth": 0,
             "ticks": ""
            },
            "type": "contourcarpet"
           }
          ],
          "heatmap": [
           {
            "colorbar": {
             "outlinewidth": 0,
             "ticks": ""
            },
            "colorscale": [
             [
              0,
              "#0d0887"
             ],
             [
              0.1111111111111111,
              "#46039f"
             ],
             [
              0.2222222222222222,
              "#7201a8"
             ],
             [
              0.3333333333333333,
              "#9c179e"
             ],
             [
              0.4444444444444444,
              "#bd3786"
             ],
             [
              0.5555555555555556,
              "#d8576b"
             ],
             [
              0.6666666666666666,
              "#ed7953"
             ],
             [
              0.7777777777777778,
              "#fb9f3a"
             ],
             [
              0.8888888888888888,
              "#fdca26"
             ],
             [
              1,
              "#f0f921"
             ]
            ],
            "type": "heatmap"
           }
          ],
          "heatmapgl": [
           {
            "colorbar": {
             "outlinewidth": 0,
             "ticks": ""
            },
            "colorscale": [
             [
              0,
              "#0d0887"
             ],
             [
              0.1111111111111111,
              "#46039f"
             ],
             [
              0.2222222222222222,
              "#7201a8"
             ],
             [
              0.3333333333333333,
              "#9c179e"
             ],
             [
              0.4444444444444444,
              "#bd3786"
             ],
             [
              0.5555555555555556,
              "#d8576b"
             ],
             [
              0.6666666666666666,
              "#ed7953"
             ],
             [
              0.7777777777777778,
              "#fb9f3a"
             ],
             [
              0.8888888888888888,
              "#fdca26"
             ],
             [
              1,
              "#f0f921"
             ]
            ],
            "type": "heatmapgl"
           }
          ],
          "histogram": [
           {
            "marker": {
             "pattern": {
              "fillmode": "overlay",
              "size": 10,
              "solidity": 0.2
             }
            },
            "type": "histogram"
           }
          ],
          "histogram2d": [
           {
            "colorbar": {
             "outlinewidth": 0,
             "ticks": ""
            },
            "colorscale": [
             [
              0,
              "#0d0887"
             ],
             [
              0.1111111111111111,
              "#46039f"
             ],
             [
              0.2222222222222222,
              "#7201a8"
             ],
             [
              0.3333333333333333,
              "#9c179e"
             ],
             [
              0.4444444444444444,
              "#bd3786"
             ],
             [
              0.5555555555555556,
              "#d8576b"
             ],
             [
              0.6666666666666666,
              "#ed7953"
             ],
             [
              0.7777777777777778,
              "#fb9f3a"
             ],
             [
              0.8888888888888888,
              "#fdca26"
             ],
             [
              1,
              "#f0f921"
             ]
            ],
            "type": "histogram2d"
           }
          ],
          "histogram2dcontour": [
           {
            "colorbar": {
             "outlinewidth": 0,
             "ticks": ""
            },
            "colorscale": [
             [
              0,
              "#0d0887"
             ],
             [
              0.1111111111111111,
              "#46039f"
             ],
             [
              0.2222222222222222,
              "#7201a8"
             ],
             [
              0.3333333333333333,
              "#9c179e"
             ],
             [
              0.4444444444444444,
              "#bd3786"
             ],
             [
              0.5555555555555556,
              "#d8576b"
             ],
             [
              0.6666666666666666,
              "#ed7953"
             ],
             [
              0.7777777777777778,
              "#fb9f3a"
             ],
             [
              0.8888888888888888,
              "#fdca26"
             ],
             [
              1,
              "#f0f921"
             ]
            ],
            "type": "histogram2dcontour"
           }
          ],
          "mesh3d": [
           {
            "colorbar": {
             "outlinewidth": 0,
             "ticks": ""
            },
            "type": "mesh3d"
           }
          ],
          "parcoords": [
           {
            "line": {
             "colorbar": {
              "outlinewidth": 0,
              "ticks": ""
             }
            },
            "type": "parcoords"
           }
          ],
          "pie": [
           {
            "automargin": true,
            "type": "pie"
           }
          ],
          "scatter": [
           {
            "marker": {
             "colorbar": {
              "outlinewidth": 0,
              "ticks": ""
             }
            },
            "type": "scatter"
           }
          ],
          "scatter3d": [
           {
            "line": {
             "colorbar": {
              "outlinewidth": 0,
              "ticks": ""
             }
            },
            "marker": {
             "colorbar": {
              "outlinewidth": 0,
              "ticks": ""
             }
            },
            "type": "scatter3d"
           }
          ],
          "scattercarpet": [
           {
            "marker": {
             "colorbar": {
              "outlinewidth": 0,
              "ticks": ""
             }
            },
            "type": "scattercarpet"
           }
          ],
          "scattergeo": [
           {
            "marker": {
             "colorbar": {
              "outlinewidth": 0,
              "ticks": ""
             }
            },
            "type": "scattergeo"
           }
          ],
          "scattergl": [
           {
            "marker": {
             "colorbar": {
              "outlinewidth": 0,
              "ticks": ""
             }
            },
            "type": "scattergl"
           }
          ],
          "scattermapbox": [
           {
            "marker": {
             "colorbar": {
              "outlinewidth": 0,
              "ticks": ""
             }
            },
            "type": "scattermapbox"
           }
          ],
          "scatterpolar": [
           {
            "marker": {
             "colorbar": {
              "outlinewidth": 0,
              "ticks": ""
             }
            },
            "type": "scatterpolar"
           }
          ],
          "scatterpolargl": [
           {
            "marker": {
             "colorbar": {
              "outlinewidth": 0,
              "ticks": ""
             }
            },
            "type": "scatterpolargl"
           }
          ],
          "scatterternary": [
           {
            "marker": {
             "colorbar": {
              "outlinewidth": 0,
              "ticks": ""
             }
            },
            "type": "scatterternary"
           }
          ],
          "surface": [
           {
            "colorbar": {
             "outlinewidth": 0,
             "ticks": ""
            },
            "colorscale": [
             [
              0,
              "#0d0887"
             ],
             [
              0.1111111111111111,
              "#46039f"
             ],
             [
              0.2222222222222222,
              "#7201a8"
             ],
             [
              0.3333333333333333,
              "#9c179e"
             ],
             [
              0.4444444444444444,
              "#bd3786"
             ],
             [
              0.5555555555555556,
              "#d8576b"
             ],
             [
              0.6666666666666666,
              "#ed7953"
             ],
             [
              0.7777777777777778,
              "#fb9f3a"
             ],
             [
              0.8888888888888888,
              "#fdca26"
             ],
             [
              1,
              "#f0f921"
             ]
            ],
            "type": "surface"
           }
          ],
          "table": [
           {
            "cells": {
             "fill": {
              "color": "#EBF0F8"
             },
             "line": {
              "color": "white"
             }
            },
            "header": {
             "fill": {
              "color": "#C8D4E3"
             },
             "line": {
              "color": "white"
             }
            },
            "type": "table"
           }
          ]
         },
         "layout": {
          "annotationdefaults": {
           "arrowcolor": "#2a3f5f",
           "arrowhead": 0,
           "arrowwidth": 1
          },
          "autotypenumbers": "strict",
          "coloraxis": {
           "colorbar": {
            "outlinewidth": 0,
            "ticks": ""
           }
          },
          "colorscale": {
           "diverging": [
            [
             0,
             "#8e0152"
            ],
            [
             0.1,
             "#c51b7d"
            ],
            [
             0.2,
             "#de77ae"
            ],
            [
             0.3,
             "#f1b6da"
            ],
            [
             0.4,
             "#fde0ef"
            ],
            [
             0.5,
             "#f7f7f7"
            ],
            [
             0.6,
             "#e6f5d0"
            ],
            [
             0.7,
             "#b8e186"
            ],
            [
             0.8,
             "#7fbc41"
            ],
            [
             0.9,
             "#4d9221"
            ],
            [
             1,
             "#276419"
            ]
           ],
           "sequential": [
            [
             0,
             "#0d0887"
            ],
            [
             0.1111111111111111,
             "#46039f"
            ],
            [
             0.2222222222222222,
             "#7201a8"
            ],
            [
             0.3333333333333333,
             "#9c179e"
            ],
            [
             0.4444444444444444,
             "#bd3786"
            ],
            [
             0.5555555555555556,
             "#d8576b"
            ],
            [
             0.6666666666666666,
             "#ed7953"
            ],
            [
             0.7777777777777778,
             "#fb9f3a"
            ],
            [
             0.8888888888888888,
             "#fdca26"
            ],
            [
             1,
             "#f0f921"
            ]
           ],
           "sequentialminus": [
            [
             0,
             "#0d0887"
            ],
            [
             0.1111111111111111,
             "#46039f"
            ],
            [
             0.2222222222222222,
             "#7201a8"
            ],
            [
             0.3333333333333333,
             "#9c179e"
            ],
            [
             0.4444444444444444,
             "#bd3786"
            ],
            [
             0.5555555555555556,
             "#d8576b"
            ],
            [
             0.6666666666666666,
             "#ed7953"
            ],
            [
             0.7777777777777778,
             "#fb9f3a"
            ],
            [
             0.8888888888888888,
             "#fdca26"
            ],
            [
             1,
             "#f0f921"
            ]
           ]
          },
          "colorway": [
           "#636efa",
           "#EF553B",
           "#00cc96",
           "#ab63fa",
           "#FFA15A",
           "#19d3f3",
           "#FF6692",
           "#B6E880",
           "#FF97FF",
           "#FECB52"
          ],
          "font": {
           "color": "#2a3f5f"
          },
          "geo": {
           "bgcolor": "white",
           "lakecolor": "white",
           "landcolor": "#E5ECF6",
           "showlakes": true,
           "showland": true,
           "subunitcolor": "white"
          },
          "hoverlabel": {
           "align": "left"
          },
          "hovermode": "closest",
          "mapbox": {
           "style": "light"
          },
          "paper_bgcolor": "white",
          "plot_bgcolor": "#E5ECF6",
          "polar": {
           "angularaxis": {
            "gridcolor": "white",
            "linecolor": "white",
            "ticks": ""
           },
           "bgcolor": "#E5ECF6",
           "radialaxis": {
            "gridcolor": "white",
            "linecolor": "white",
            "ticks": ""
           }
          },
          "scene": {
           "xaxis": {
            "backgroundcolor": "#E5ECF6",
            "gridcolor": "white",
            "gridwidth": 2,
            "linecolor": "white",
            "showbackground": true,
            "ticks": "",
            "zerolinecolor": "white"
           },
           "yaxis": {
            "backgroundcolor": "#E5ECF6",
            "gridcolor": "white",
            "gridwidth": 2,
            "linecolor": "white",
            "showbackground": true,
            "ticks": "",
            "zerolinecolor": "white"
           },
           "zaxis": {
            "backgroundcolor": "#E5ECF6",
            "gridcolor": "white",
            "gridwidth": 2,
            "linecolor": "white",
            "showbackground": true,
            "ticks": "",
            "zerolinecolor": "white"
           }
          },
          "shapedefaults": {
           "line": {
            "color": "#2a3f5f"
           }
          },
          "ternary": {
           "aaxis": {
            "gridcolor": "white",
            "linecolor": "white",
            "ticks": ""
           },
           "baxis": {
            "gridcolor": "white",
            "linecolor": "white",
            "ticks": ""
           },
           "bgcolor": "#E5ECF6",
           "caxis": {
            "gridcolor": "white",
            "linecolor": "white",
            "ticks": ""
           }
          },
          "title": {
           "x": 0.05
          },
          "xaxis": {
           "automargin": true,
           "gridcolor": "white",
           "linecolor": "white",
           "ticks": "",
           "title": {
            "standoff": 15
           },
           "zerolinecolor": "white",
           "zerolinewidth": 2
          },
          "yaxis": {
           "automargin": true,
           "gridcolor": "white",
           "linecolor": "white",
           "ticks": "",
           "title": {
            "standoff": 15
           },
           "zerolinecolor": "white",
           "zerolinewidth": 2
          }
         }
        },
        "xaxis": {
         "anchor": "y",
         "domain": [
          0,
          1
         ],
         "title": {
          "text": "nth_day_from_registration"
         }
        },
        "yaxis": {
         "anchor": "x",
         "domain": [
          0,
          1
         ],
         "title": {
          "text": "interest"
         }
        }
       }
      }
     },
     "metadata": {},
     "output_type": "display_data"
    }
   ],
   "source": [
    "# 00015787-1ed9-45b9-9c5f-2613e2ca8409\n",
    "# 00125ee4-9a93-465e-8e7a-556d1d6ca10e\n",
    "# fffb6dfa-af6a-4e9e-93a7-4851632e43cd\n",
    "# 0004052d-a54c-49cf-bb66-7747371304e8\n",
    "\n",
    "# sample_ID = Engagements[Engagements['Label']==1].UserID.sample(1).values[0]\n",
    "sample_ID = '00002520-3fe9-4d4b-9e1f-e4a72386bf47'\n",
    "\n",
    "display(sample_ID)\n",
    "temp = Engagements[Engagements.UserID ==sample_ID].sort_values(by='nth_day_from_registration')\n",
    "temp['interest'] = temp['UsageTime'] * temp['Records']\n",
    "\n",
    "fig = px.line(\n",
    "    temp, \n",
    "    x='nth_day_from_registration',\n",
    "    y='interest',\n",
    "    color='ActionType',\n",
    "    markers=True\n",
    ")\n",
    "fig.show()"
   ]
  },
  {
   "cell_type": "code",
   "execution_count": 48,
   "metadata": {},
   "outputs": [
    {
     "data": {
      "text/plain": [
       "0.072276"
      ]
     },
     "metadata": {},
     "output_type": "display_data"
    },
    {
     "data": {
      "text/html": [
       "<div>\n",
       "<style scoped>\n",
       "    .dataframe tbody tr th:only-of-type {\n",
       "        vertical-align: middle;\n",
       "    }\n",
       "\n",
       "    .dataframe tbody tr th {\n",
       "        vertical-align: top;\n",
       "    }\n",
       "\n",
       "    .dataframe thead th {\n",
       "        text-align: right;\n",
       "    }\n",
       "</style>\n",
       "<table border=\"1\" class=\"dataframe\">\n",
       "  <thead>\n",
       "    <tr style=\"text-align: right;\">\n",
       "      <th></th>\n",
       "      <th>UserID</th>\n",
       "      <th>MostInterest</th>\n",
       "      <th>TotalInterestRatio</th>\n",
       "      <th>InterestTrend</th>\n",
       "      <th>MostAccumulate</th>\n",
       "      <th>TotalAccuRatio</th>\n",
       "      <th>AccuTrend</th>\n",
       "    </tr>\n",
       "  </thead>\n",
       "  <tbody>\n",
       "    <tr>\n",
       "      <th>0</th>\n",
       "      <td>00002520-3fe9-4d4b-9e1f-e4a72386bf47</td>\n",
       "      <td>learn</td>\n",
       "      <td>1.0</td>\n",
       "      <td>0.0</td>\n",
       "      <td>learn</td>\n",
       "      <td>NaN</td>\n",
       "      <td>0.0</td>\n",
       "    </tr>\n",
       "  </tbody>\n",
       "</table>\n",
       "</div>"
      ],
      "text/plain": [
       "                                 UserID MostInterest  TotalInterestRatio  \\\n",
       "0  00002520-3fe9-4d4b-9e1f-e4a72386bf47        learn                 1.0   \n",
       "\n",
       "   InterestTrend MostAccumulate  TotalAccuRatio  AccuTrend  \n",
       "0            0.0          learn             NaN        0.0  "
      ]
     },
     "execution_count": 48,
     "metadata": {},
     "output_type": "execute_result"
    }
   ],
   "source": [
    "start_time=datetime.now()\n",
    "temp_check = interest_rate(Engagements, sample_ID)\n",
    "display((datetime.now()- start_time).total_seconds())\n",
    "temp_check"
   ]
  }
 ],
 "metadata": {
  "kernelspec": {
   "display_name": "_work",
   "language": "python",
   "name": "python3"
  },
  "language_info": {
   "codemirror_mode": {
    "name": "ipython",
    "version": 3
   },
   "file_extension": ".py",
   "mimetype": "text/x-python",
   "name": "python",
   "nbconvert_exporter": "python",
   "pygments_lexer": "ipython3",
   "version": "3.8.13"
  },
  "orig_nbformat": 4
 },
 "nbformat": 4,
 "nbformat_minor": 2
}
