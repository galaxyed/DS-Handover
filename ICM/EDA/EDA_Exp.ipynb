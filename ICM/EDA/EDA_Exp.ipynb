{
 "cells": [
  {
   "cell_type": "code",
   "execution_count": 1,
   "id": "47e849b2",
   "metadata": {},
   "outputs": [],
   "source": [
    "import re\n",
    "import math\n",
    "import pickle\n",
    "import requests\n",
    "import warnings\n",
    "import numpy as np\n",
    "import pandas as pd\n",
    "import matplotlib.pyplot as plt\n",
    "import seaborn as sb\n",
    "from time import time\n",
    "import IPython.display as Disp\n",
    "from wordcloud import WordCloud\n",
    "from pylatexenc.latex2text import LatexNodes2Text\n",
    "from sklearn.metrics.pairwise import cosine_similarity\n",
    "from gensim import corpora, models, similarities\n",
    "from sklearn.feature_extraction.text import TfidfVectorizer, ENGLISH_STOP_WORDS\n",
    "from sklearn.neighbors import NearestNeighbors\n",
    "from sklearn.decomposition import PCA\n",
    "from sklearn.metrics import mean_squared_error\n",
    "from underthesea import word_tokenize\n",
    "from operator import itemgetter\n",
    "warnings.filterwarnings('ignore')\n",
    "pd.set_option('display.max_colwidth', None)"
   ]
  },
  {
   "cell_type": "code",
   "execution_count": 2,
   "id": "8aa82686",
   "metadata": {},
   "outputs": [
    {
     "data": {
      "text/plain": [
       "(2000, 8)"
      ]
     },
     "execution_count": 2,
     "metadata": {},
     "output_type": "execute_result"
    }
   ],
   "source": [
    "df_org = pd.read_csv('2k_data_Sep.csv')\n",
    "df = df_org.copy()\n",
    "df.shape"
   ]
  },
  {
   "cell_type": "code",
   "execution_count": 3,
   "id": "a4ab9428",
   "metadata": {},
   "outputs": [],
   "source": [
    "def clean_function(text):  \n",
    "    #lowercase\n",
    "    text = text.lower()\n",
    "    \n",
    "#     #xoá ký tự đặc biệt, ký tự không phải alphanumeric \n",
    "#     text = re.sub(\"[^a-z0-9àáạảãâầấậẩẫăằắặẳẵèéẹẻẽêềếệểễòóọỏõôồốộổỗơờớợởỡìíịỉĩùúụủũưừứựửữỳýỵỷỹđ]\",' ', text)\n",
    "    text = re.sub(\"[àáạảãâầấậẩẫăằắặẳẵèéẹẻẽêềếệểễòóọỏõôồốộổỗơờớợởỡìíịỉĩùúụủũưừứựửữỳýỵỷỹđ]\",'', text)    \n",
    "#     #xoá leading zero\n",
    "#     text = [e.lstrip('0') for e in text.split(' ')]\n",
    "#     text = (' ').join(text)\n",
    "    \n",
    "    #replace extra spaces with single space\n",
    "    text = re.sub(' +',' ',text)\n",
    "    \n",
    "    #xoá khoảng trắng ở đầu và cuối mỗi câu\n",
    "    text = text.strip()\n",
    "    \n",
    "    #word tokenzie\n",
    "    text = word_tokenize(text, format='text')\n",
    "    return text"
   ]
  },
  {
   "cell_type": "code",
   "execution_count": 4,
   "id": "e51dc24d",
   "metadata": {},
   "outputs": [
    {
     "data": {
      "text/plain": [
       "(1962, 8)"
      ]
     },
     "execution_count": 4,
     "metadata": {},
     "output_type": "execute_result"
    }
   ],
   "source": [
    "check_dup = df[['Lookup Text', 'Question Text']][df[['Lookup Text', 'Question Text']].duplicated()]\n",
    "df = df.drop(check_dup.index)\n",
    "df = df.reset_index(drop = True)\n",
    "df.shape"
   ]
  },
  {
   "cell_type": "code",
   "execution_count": 5,
   "id": "d3c72f86",
   "metadata": {},
   "outputs": [],
   "source": [
    "df['index_org'] = df.index\n",
    "\n",
    "df['lookup_plain'] = df['Lookup Text'].map(lambda x: LatexNodes2Text().latex_to_text(x))\n",
    "df['question_plain'] = df['Question Text'].map(lambda x: LatexNodes2Text().latex_to_text(x))\n",
    "\n",
    "df['clean_lookup'] = df['lookup_plain'].map(lambda x: clean_function(x))\n",
    "df['clean_question'] = df['question_plain'].map(lambda x: clean_function(x))\n",
    "\n",
    "df['char_count_lookup'] = df['clean_lookup'].str.len()\n",
    "df['word_count_lookup'] = df['clean_lookup'].str.split().str.len()\n",
    "df['average_word_length_lookup'] = df['char_count_lookup'] / df['word_count_lookup']\n",
    "\n",
    "df['char_count_question'] = df['clean_question'].str.len()\n",
    "df['word_count_question'] = df['clean_question'].str.split().str.len()\n",
    "df['average_word_length_question'] = df['char_count_question'] / df['word_count_question']"
   ]
  },
  {
   "cell_type": "code",
   "execution_count": 6,
   "id": "108e4a37",
   "metadata": {},
   "outputs": [],
   "source": [
    "with open('vietnamese-stopwords.txt', 'r', encoding='utf-8') as file:\n",
    "    vn_stop_words = file.read()\n",
    "vn_stop_words = vn_stop_words.split('\\n') \n",
    "\n",
    "# combine Vietnamese stopwords and English stopwords\n",
    "stop_words = ENGLISH_STOP_WORDS.union(vn_stop_words)"
   ]
  },
  {
   "cell_type": "code",
   "execution_count": 7,
   "id": "b41648d7",
   "metadata": {},
   "outputs": [
    {
     "name": "stdout",
     "output_type": "stream",
     "text": [
      "(966, 19)\n",
      "(996, 19)\n"
     ]
    }
   ],
   "source": [
    "mask1 = df['Human Feedback'] == 'NOT MATCH'\n",
    "mask2 = df['Human Feedback'] == 'MATCH'\n",
    "\n",
    "df_neg = df[mask1].reset_index(drop = True)\n",
    "df_pos = df[mask2].reset_index(drop = True)\n",
    "\n",
    "print(df_neg.shape)\n",
    "print(df_pos.shape)"
   ]
  },
  {
   "cell_type": "code",
   "execution_count": 8,
   "id": "cb34ed91",
   "metadata": {},
   "outputs": [],
   "source": [
    "df['diff_word'] = abs(df['word_count_question'] - df['word_count_lookup'])\n",
    "df_neg['diff_word'] = abs(df_neg['word_count_question'] - df_neg['word_count_lookup'])\n",
    "df_pos['diff_word'] = abs(df_pos['word_count_question'] - df_pos['word_count_lookup'])\n",
    "\n",
    "my_bins = [-np.inf, 5, 10, 15, 20, np.inf]\n",
    "my_labels = ['Very low', 'Low', 'Medium', 'High', 'Very high']\n",
    "\n",
    "df['diff_bin'] = pd.cut(df['diff_word'], bins=my_bins, labels=my_labels)\n",
    "df_neg['diff_bin'] = pd.cut(df_neg['diff_word'], bins=my_bins, labels=my_labels)\n",
    "df_pos['diff_bin'] = pd.cut(df_pos['diff_word'], bins=my_bins, labels=my_labels)"
   ]
  },
  {
   "cell_type": "code",
   "execution_count": 9,
   "id": "dad65b4c",
   "metadata": {},
   "outputs": [
    {
     "data": {
      "text/plain": [
       "(996, 1805)"
      ]
     },
     "execution_count": 9,
     "metadata": {},
     "output_type": "execute_result"
    }
   ],
   "source": [
    "tf = TfidfVectorizer(analyzer = 'word', stop_words = stop_words, min_df=0)\n",
    "tfidf_matrix = tf.fit_transform(df_pos['clean_question'])\n",
    "tfidf_matrix = pd.DataFrame(tfidf_matrix.toarray(),\n",
    "                                columns = tf.get_feature_names())\n",
    "tfidf_matrix.head()\n",
    "tfidf_matrix.shape"
   ]
  },
  {
   "cell_type": "code",
   "execution_count": 10,
   "id": "605764db",
   "metadata": {},
   "outputs": [],
   "source": [
    "pca = PCA(n_components = 600, random_state=42)\n",
    "question_pca = pca.fit_transform(tfidf_matrix)"
   ]
  },
  {
   "cell_type": "code",
   "execution_count": 11,
   "id": "ff5fc97d",
   "metadata": {},
   "outputs": [
    {
     "name": "stdout",
     "output_type": "stream",
     "text": [
      "Sum of variance: 0.9850469946412763\n",
      "\n"
     ]
    },
    {
     "data": {
      "image/png": "[encoded data removed]",
      "text/plain": [
       "<Figure size 720x432 with 1 Axes>"
      ]
     },
     "metadata": {
      "needs_background": "light"
     },
     "output_type": "display_data"
    }
   ],
   "source": [
    "print('Sum of variance: {}'.format(pca.explained_variance_ratio_.sum()))\n",
    "print()\n",
    "sb.set_theme()\n",
    "plt.figure(figsize=(10, 6))\n",
    "plt.plot(np.cumsum(pca.explained_variance_ratio_), marker = \"o\")\n",
    "plt.xlabel(\"Number of features\")\n",
    "plt.ylabel(\"Variance (%)\")\n",
    "plt.title(\"Graph showing % of cumulative variance by number of features (k)\")\n",
    "# plt.xlim([0, tfidf_matrix.shape[1] - 1])\n",
    "plt.grid(axis = \"y\")\n",
    "plt.show()"
   ]
  },
  {
   "cell_type": "code",
   "execution_count": 12,
   "id": "a2da67d3",
   "metadata": {},
   "outputs": [],
   "source": [
    "def cosine_search_all_pca(queries, tf, pca_matrix, data, top_result = 5, check_time = True):\n",
    "    t0 = time()\n",
    "    results = pd.DataFrame(columns = ['lookup_text', 'question_text', 'sim_score', \n",
    "                                      'cosine_word_count_question', 'cosine_diff_bin', 'cosine_image'])\n",
    "    for q in queries:\n",
    "        query = clean_function(q)\n",
    "        query_tf = tf.transform([query])\n",
    "        query_tf = pd.DataFrame(query_tf.toarray(),\n",
    "                                columns = tf.get_feature_names())\n",
    "        query_pca = pca.transform(query_tf)\n",
    "        cosine_sim = cosine_similarity(query_pca, pca_matrix).flatten()\n",
    "        related_index = cosine_sim.argsort()[-top_result:][::-1]\n",
    "        cosine_sim = sorted(cosine_sim, reverse = True)\n",
    "        similarities_score = cosine_sim[:top_result]\n",
    "        result = pd.DataFrame({'lookup_text': q,\n",
    "                               'question_text': data.iloc[related_index, :]['question_plain'].values,\n",
    "                               'sim_score': similarities_score,\n",
    "                               'cosine_word_count_question': data.iloc[related_index, :]['word_count_question'].values,\n",
    "                               'cosine_diff_bin': data.iloc[related_index, :]['diff_bin'].values,\n",
    "                               'cosine_image': data.iloc[related_index, :]['Question Image'].values}).head(1)\n",
    "        results = pd.concat([results, result], ignore_index = True)\n",
    "    times = time() - t0\n",
    "    if check_time:\n",
    "        if times < 60:\n",
    "            print('Cosine search took {:.2f}s.'.format(times))\n",
    "        else:\n",
    "            print('Cosine search took {:.2f} minutes.'.format(times / 60))\n",
    "    return results"
   ]
  },
  {
   "cell_type": "code",
   "execution_count": 21,
   "id": "d2399e3f",
   "metadata": {},
   "outputs": [
    {
     "name": "stdout",
     "output_type": "stream",
     "text": [
      "Cosine search took 25.08s.\n"
     ]
    }
   ],
   "source": [
    "results = cosine_search_all_pca(df_pos['lookup_plain'], tf, question_pca, df_pos)"
   ]
  },
  {
   "cell_type": "code",
   "execution_count": 22,
   "id": "259fa267",
   "metadata": {},
   "outputs": [],
   "source": [
    "df_pos['search_result'] = results['question_text']\n",
    "df_pos['score'] = results['sim_score']\n",
    "df_pos['cosine_word_count_question'] = results['cosine_word_count_question']\n",
    "df_pos['cosine_diff_bin'] = results['cosine_diff_bin']\n",
    "df_pos['cosine_image'] = results['cosine_image']"
   ]
  },
  {
   "cell_type": "code",
   "execution_count": 23,
   "id": "0e681a01",
   "metadata": {},
   "outputs": [
    {
     "data": {
      "text/plain": [
       "(111, 26)"
      ]
     },
     "execution_count": 23,
     "metadata": {},
     "output_type": "execute_result"
    }
   ],
   "source": [
    "mask5 = df_pos['question_plain'] != df_pos['search_result']\n",
    "\n",
    "df_check_pos = df_pos[mask5]\n",
    "df_check_pos.shape"
   ]
  },
  {
   "cell_type": "code",
   "execution_count": 24,
   "id": "4a005f67",
   "metadata": {},
   "outputs": [
    {
     "data": {
      "text/plain": [
       "(885, 26)"
      ]
     },
     "execution_count": 24,
     "metadata": {},
     "output_type": "execute_result"
    }
   ],
   "source": [
    "mask6 = df_pos['question_plain'] == df_pos['search_result']\n",
    "\n",
    "df_match_pos = df_pos[mask6]\n",
    "df_match_pos.shape"
   ]
  },
  {
   "cell_type": "code",
   "execution_count": 25,
   "id": "e87af4c9",
   "metadata": {},
   "outputs": [],
   "source": [
    "def cosine_search_all(queries, tf, tfidf_matrix, data, top_result = 5, check_time = True):\n",
    "    t0 = time()\n",
    "    results = pd.DataFrame(columns = ['lookup_text', 'question_text', 'sim_score', \n",
    "                                      'cosine_word_count_question', 'cosine_diff_bin', 'cosine_image'])\n",
    "    for q in queries:\n",
    "        query = clean_function(q)\n",
    "        query_tf = tf.transform([query])\n",
    "        query_tf = pd.DataFrame(query_tf.toarray(),\n",
    "                                columns = tf.get_feature_names())\n",
    "        cosine_sim = cosine_similarity(query_tf, tfidf_matrix).flatten()\n",
    "        related_index = cosine_sim.argsort()[-top_result:][::-1]\n",
    "        cosine_sim = sorted(cosine_sim, reverse = True)\n",
    "        similarities_score = cosine_sim[:top_result]\n",
    "        result = pd.DataFrame({'lookup_text': q,\n",
    "                               'question_text': data.iloc[related_index, :]['question_plain'].values,\n",
    "                               'sim_score': similarities_score,\n",
    "                               'cosine_word_count_question': data.iloc[related_index, :]['word_count_question'].values,\n",
    "                               'cosine_diff_bin': data.iloc[related_index, :]['diff_bin'].values,\n",
    "                               'cosine_image': data.iloc[related_index, :]['Question Image'].values}).head(1)\n",
    "        results = pd.concat([results, result], ignore_index = True)\n",
    "    if check_time:\n",
    "        print('Time:', time() - t0)\n",
    "    return results"
   ]
  },
  {
   "cell_type": "code",
   "execution_count": 26,
   "id": "e228000d",
   "metadata": {},
   "outputs": [
    {
     "name": "stdout",
     "output_type": "stream",
     "text": [
      "Time: 19.747328996658325\n"
     ]
    }
   ],
   "source": [
    "results1 = cosine_search_all(df_pos['lookup_plain'], tf, tfidf_matrix, df_pos)"
   ]
  },
  {
   "cell_type": "code",
   "execution_count": 27,
   "id": "43bde553",
   "metadata": {},
   "outputs": [],
   "source": [
    "df_pos['search_result'] = results1['question_text']\n",
    "df_pos['score'] = results1['sim_score']\n",
    "df_pos['cosine_word_count_question'] = results1['cosine_word_count_question']\n",
    "df_pos['cosine_diff_bin'] = results1['cosine_diff_bin']\n",
    "df_pos['cosine_image'] = results1['cosine_image']"
   ]
  },
  {
   "cell_type": "code",
   "execution_count": 28,
   "id": "a2bf92f1",
   "metadata": {},
   "outputs": [
    {
     "data": {
      "text/plain": [
       "(112, 26)"
      ]
     },
     "execution_count": 28,
     "metadata": {},
     "output_type": "execute_result"
    }
   ],
   "source": [
    "mask5 = df_pos['question_plain'] != df_pos['search_result']\n",
    "\n",
    "df_check_pos = df_pos[mask5]\n",
    "df_check_pos.shape"
   ]
  },
  {
   "cell_type": "code",
   "execution_count": 29,
   "id": "019d3a31",
   "metadata": {},
   "outputs": [
    {
     "data": {
      "text/plain": [
       "(884, 26)"
      ]
     },
     "execution_count": 29,
     "metadata": {},
     "output_type": "execute_result"
    }
   ],
   "source": [
    "mask6 = df_pos['question_plain'] == df_pos['search_result']\n",
    "\n",
    "df_match_pos = df_pos[mask6]\n",
    "df_match_pos.shape"
   ]
  },
  {
   "cell_type": "code",
   "execution_count": null,
   "id": "550a7b01",
   "metadata": {},
   "outputs": [],
   "source": []
  }
 ],
 "metadata": {
  "kernelspec": {
   "display_name": "Python 3 (ipykernel)",
   "language": "python",
   "name": "python3"
  },
  "language_info": {
   "codemirror_mode": {
    "name": "ipython",
    "version": 3
   },
   "file_extension": ".py",
   "mimetype": "text/x-python",
   "name": "python",
   "nbconvert_exporter": "python",
   "pygments_lexer": "ipython3",
   "version": "3.8.10"
  }
 },
 "nbformat": 4,
 "nbformat_minor": 5
}
