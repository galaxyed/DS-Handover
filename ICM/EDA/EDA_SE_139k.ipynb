{
 "cells": [
  {
   "cell_type": "code",
   "execution_count": 1,
   "id": "0c7b2f37",
   "metadata": {},
   "outputs": [],
   "source": [
    "import numpy as np\n",
    "import pandas as pd\n",
    "import matplotlib.pyplot as plt\n",
    "import seaborn as sb\n",
    "import re\n",
    "import pickle\n",
    "from wordcloud import WordCloud\n",
    "from sklearn.metrics.pairwise import cosine_similarity\n",
    "from gensim import corpora, models, similarities\n",
    "from sklearn.feature_extraction.text import TfidfVectorizer, ENGLISH_STOP_WORDS\n",
    "from sklearn.neighbors import NearestNeighbors\n",
    "from sklearn.decomposition import PCA\n",
    "from sklearn.metrics import mean_squared_error\n",
    "import math\n",
    "from underthesea import word_tokenize\n",
    "from operator import itemgetter\n",
    "from time import time\n",
    "import warnings\n",
    "import enchant\n",
    "warnings.filterwarnings('ignore')"
   ]
  },
  {
   "cell_type": "code",
   "execution_count": 9,
   "id": "6dcec56f",
   "metadata": {},
   "outputs": [
    {
     "name": "stdout",
     "output_type": "stream",
     "text": [
      "<class 'pandas.core.frame.DataFrame'>\n",
      "RangeIndex: 139452 entries, 0 to 139451\n",
      "Data columns (total 3 columns):\n",
      " #   Column      Non-Null Count   Dtype \n",
      "---  ------      --------------   ----- \n",
      " 0   QuestionID  139452 non-null  object\n",
      " 1   ImageURL    139452 non-null  object\n",
      " 2   ImageOCR    139452 non-null  object\n",
      "dtypes: object(3)\n",
      "memory usage: 3.2+ MB\n"
     ]
    }
   ],
   "source": [
    "df = pd.read_csv('ican_se_139k.csv')\n",
    "df.info()"
   ]
  },
  {
   "cell_type": "code",
   "execution_count": 11,
   "id": "1e652626",
   "metadata": {},
   "outputs": [
    {
     "data": {
      "text/html": [
       "<div>\n",
       "<style scoped>\n",
       "    .dataframe tbody tr th:only-of-type {\n",
       "        vertical-align: middle;\n",
       "    }\n",
       "\n",
       "    .dataframe tbody tr th {\n",
       "        vertical-align: top;\n",
       "    }\n",
       "\n",
       "    .dataframe thead th {\n",
       "        text-align: right;\n",
       "    }\n",
       "</style>\n",
       "<table border=\"1\" class=\"dataframe\">\n",
       "  <thead>\n",
       "    <tr style=\"text-align: right;\">\n",
       "      <th></th>\n",
       "      <th>QuestionID</th>\n",
       "      <th>ImageURL</th>\n",
       "      <th>ImageOCR</th>\n",
       "    </tr>\n",
       "  </thead>\n",
       "  <tbody>\n",
       "    <tr>\n",
       "      <th>0</th>\n",
       "      <td>221207ad-45f4-11ed-813f-a6869563e5be</td>\n",
       "      <td>https://s3.icankid.io/uploads/question/20bdf49...</td>\n",
       "      <td>B-TƯLUÂN\\n2.12. Biểu diễn miền nghiệm của bất ...</td>\n",
       "    </tr>\n",
       "    <tr>\n",
       "      <th>1</th>\n",
       "      <td>59318f0d-45f4-11ed-813f-a6869563e5be</td>\n",
       "      <td>https://s3.icankid.io/uploads/question/57781e2...</td>\n",
       "      <td>Câu 1: Học sinh chọn 1 trong 2 chủ đề sau?\\nCh...</td>\n",
       "    </tr>\n",
       "    <tr>\n",
       "      <th>2</th>\n",
       "      <td>662de52e-45f4-11ed-813f-a6869563e5be</td>\n",
       "      <td>https://s3.icankid.io/uploads/question/651bc95...</td>\n",
       "      <td>3. Một cái bục hình lăng trụ đứng có kích thướ...</td>\n",
       "    </tr>\n",
       "    <tr>\n",
       "      <th>3</th>\n",
       "      <td>d94d655d-45f3-11ed-813f-a6869563e5be</td>\n",
       "      <td>https://s3.icankid.io/uploads/question/d80b6bb...</td>\n",
       "      <td>a) \\( A=1+2+2^{2}+\\ldots+2^{4} \\) và \\( B=2^{5...</td>\n",
       "    </tr>\n",
       "    <tr>\n",
       "      <th>4</th>\n",
       "      <td>00c4bb8a-45e5-11ed-8355-e24590ef346b</td>\n",
       "      <td>https://s3.icankid.io/uploads/question/ff999a3...</td>\n",
       "      <td>Trong cà năm, trung binh mói thâng cha hâ đợ s...</td>\n",
       "    </tr>\n",
       "  </tbody>\n",
       "</table>\n",
       "</div>"
      ],
      "text/plain": [
       "                             QuestionID  \\\n",
       "0  221207ad-45f4-11ed-813f-a6869563e5be   \n",
       "1  59318f0d-45f4-11ed-813f-a6869563e5be   \n",
       "2  662de52e-45f4-11ed-813f-a6869563e5be   \n",
       "3  d94d655d-45f3-11ed-813f-a6869563e5be   \n",
       "4  00c4bb8a-45e5-11ed-8355-e24590ef346b   \n",
       "\n",
       "                                            ImageURL  \\\n",
       "0  https://s3.icankid.io/uploads/question/20bdf49...   \n",
       "1  https://s3.icankid.io/uploads/question/57781e2...   \n",
       "2  https://s3.icankid.io/uploads/question/651bc95...   \n",
       "3  https://s3.icankid.io/uploads/question/d80b6bb...   \n",
       "4  https://s3.icankid.io/uploads/question/ff999a3...   \n",
       "\n",
       "                                            ImageOCR  \n",
       "0  B-TƯLUÂN\\n2.12. Biểu diễn miền nghiệm của bất ...  \n",
       "1  Câu 1: Học sinh chọn 1 trong 2 chủ đề sau?\\nCh...  \n",
       "2  3. Một cái bục hình lăng trụ đứng có kích thướ...  \n",
       "3  a) \\( A=1+2+2^{2}+\\ldots+2^{4} \\) và \\( B=2^{5...  \n",
       "4  Trong cà năm, trung binh mói thâng cha hâ đợ s...  "
      ]
     },
     "execution_count": 11,
     "metadata": {},
     "output_type": "execute_result"
    }
   ],
   "source": [
    "df.head()"
   ]
  },
  {
   "cell_type": "code",
   "execution_count": 12,
   "id": "4eeff4fe",
   "metadata": {},
   "outputs": [],
   "source": [
    "def clean_function(text):  \n",
    "    #lowercase\n",
    "    text = text.lower()\n",
    "    \n",
    "#     #xoá ký tự đặc biệt, ký tự không phải alphanumeric \n",
    "#     text = re.sub(\"[^a-z0-9àáạảãâầấậẩẫăằắặẳẵèéẹẻẽêềếệểễòóọỏõôồốộổỗơờớợởỡìíịỉĩùúụủũưừứựửữỳýỵỷỹđ]\",' ', text)\n",
    "    \n",
    "#     #xoá leading zero\n",
    "#     text = [e.lstrip('0') for e in text.split(' ')]\n",
    "#     text = (' ').join(text)\n",
    "    \n",
    "    #replace extra spaces with single space\n",
    "    text = re.sub(' +',' ',text)\n",
    "    \n",
    "    #xoá khoảng trắng ở đầu và cuối mỗi câu\n",
    "    text = text.strip()\n",
    "    \n",
    "    #word tokenzie\n",
    "    text = word_tokenize(text, format='text')\n",
    "    return text"
   ]
  },
  {
   "cell_type": "code",
   "execution_count": 29,
   "id": "adac28e8",
   "metadata": {
    "scrolled": true
   },
   "outputs": [
    {
     "data": {
      "text/plain": [
       "(133888, 3)"
      ]
     },
     "execution_count": 29,
     "metadata": {},
     "output_type": "execute_result"
    }
   ],
   "source": [
    "check_dup = df['ImageOCR'][df['ImageOCR'].duplicated()]\n",
    "\n",
    "df = df.drop(check_dup.index).reset_index(drop = True)\n",
    "df.shape"
   ]
  },
  {
   "cell_type": "code",
   "execution_count": 30,
   "id": "2354466e",
   "metadata": {},
   "outputs": [
    {
     "name": "stdout",
     "output_type": "stream",
     "text": [
      "Cleaning dataset took 18.57 minutes.\n"
     ]
    }
   ],
   "source": [
    "t0 = time()\n",
    "\n",
    "df['clean_question'] = df['ImageOCR'].map(lambda x: clean_function(x))\n",
    "print('Cleaning dataset took {:.2f} minutes.'.format((time() - t0) / 60))"
   ]
  },
  {
   "cell_type": "code",
   "execution_count": 31,
   "id": "c5750e01",
   "metadata": {},
   "outputs": [],
   "source": [
    "df['char_count_question'] = df['clean_question'].str.len()\n",
    "df['word_count_question'] = df['clean_question'].str.split().str.len()\n",
    "df['average_word_length_question'] = df['char_count_question'] / df['word_count_question']"
   ]
  },
  {
   "cell_type": "code",
   "execution_count": 32,
   "id": "231fcef4",
   "metadata": {},
   "outputs": [
    {
     "data": {
      "text/html": [
       "<div>\n",
       "<style scoped>\n",
       "    .dataframe tbody tr th:only-of-type {\n",
       "        vertical-align: middle;\n",
       "    }\n",
       "\n",
       "    .dataframe tbody tr th {\n",
       "        vertical-align: top;\n",
       "    }\n",
       "\n",
       "    .dataframe thead th {\n",
       "        text-align: right;\n",
       "    }\n",
       "</style>\n",
       "<table border=\"1\" class=\"dataframe\">\n",
       "  <thead>\n",
       "    <tr style=\"text-align: right;\">\n",
       "      <th></th>\n",
       "      <th>QuestionID</th>\n",
       "      <th>ImageURL</th>\n",
       "      <th>ImageOCR</th>\n",
       "      <th>clean_question</th>\n",
       "      <th>char_count_question</th>\n",
       "      <th>word_count_question</th>\n",
       "      <th>average_word_length_question</th>\n",
       "    </tr>\n",
       "  </thead>\n",
       "  <tbody>\n",
       "    <tr>\n",
       "      <th>0</th>\n",
       "      <td>221207ad-45f4-11ed-813f-a6869563e5be</td>\n",
       "      <td>https://s3.icankid.io/uploads/question/20bdf49...</td>\n",
       "      <td>B-TƯLUÂN\\n2.12. Biểu diễn miền nghiệm của bất ...</td>\n",
       "      <td>b-tưluân 2.12 . biểu_diễn miền nghiệm của bất_...</td>\n",
       "      <td>142</td>\n",
       "      <td>35</td>\n",
       "      <td>4.057143</td>\n",
       "    </tr>\n",
       "    <tr>\n",
       "      <th>1</th>\n",
       "      <td>59318f0d-45f4-11ed-813f-a6869563e5be</td>\n",
       "      <td>https://s3.icankid.io/uploads/question/57781e2...</td>\n",
       "      <td>Câu 1: Học sinh chọn 1 trong 2 chủ đề sau?\\nCh...</td>\n",
       "      <td>câu 1 : học_sinh chọn 1 trong 2 chủ_đề sau ? c...</td>\n",
       "      <td>338</td>\n",
       "      <td>66</td>\n",
       "      <td>5.121212</td>\n",
       "    </tr>\n",
       "    <tr>\n",
       "      <th>2</th>\n",
       "      <td>662de52e-45f4-11ed-813f-a6869563e5be</td>\n",
       "      <td>https://s3.icankid.io/uploads/question/651bc95...</td>\n",
       "      <td>3. Một cái bục hình lăng trụ đứng có kích thướ...</td>\n",
       "      <td>3 . một cái bục hình_lăng_trụ đứng có kích_thư...</td>\n",
       "      <td>183</td>\n",
       "      <td>39</td>\n",
       "      <td>4.692308</td>\n",
       "    </tr>\n",
       "    <tr>\n",
       "      <th>3</th>\n",
       "      <td>d94d655d-45f3-11ed-813f-a6869563e5be</td>\n",
       "      <td>https://s3.icankid.io/uploads/question/d80b6bb...</td>\n",
       "      <td>a) \\( A=1+2+2^{2}+\\ldots+2^{4} \\) và \\( B=2^{5...</td>\n",
       "      <td>a ) \\ ( a = 1 + 2 + 2 ^ { 2 } + \\ ldots + 2 ^_...</td>\n",
       "      <td>84</td>\n",
       "      <td>37</td>\n",
       "      <td>2.270270</td>\n",
       "    </tr>\n",
       "    <tr>\n",
       "      <th>4</th>\n",
       "      <td>00c4bb8a-45e5-11ed-8355-e24590ef346b</td>\n",
       "      <td>https://s3.icankid.io/uploads/question/ff999a3...</td>\n",
       "      <td>Trong cà năm, trung binh mói thâng cha hâ đợ s...</td>\n",
       "      <td>trong cà năm , trung_binh mói thâng cha hâ đợ ...</td>\n",
       "      <td>77</td>\n",
       "      <td>20</td>\n",
       "      <td>3.850000</td>\n",
       "    </tr>\n",
       "  </tbody>\n",
       "</table>\n",
       "</div>"
      ],
      "text/plain": [
       "                             QuestionID  \\\n",
       "0  221207ad-45f4-11ed-813f-a6869563e5be   \n",
       "1  59318f0d-45f4-11ed-813f-a6869563e5be   \n",
       "2  662de52e-45f4-11ed-813f-a6869563e5be   \n",
       "3  d94d655d-45f3-11ed-813f-a6869563e5be   \n",
       "4  00c4bb8a-45e5-11ed-8355-e24590ef346b   \n",
       "\n",
       "                                            ImageURL  \\\n",
       "0  https://s3.icankid.io/uploads/question/20bdf49...   \n",
       "1  https://s3.icankid.io/uploads/question/57781e2...   \n",
       "2  https://s3.icankid.io/uploads/question/651bc95...   \n",
       "3  https://s3.icankid.io/uploads/question/d80b6bb...   \n",
       "4  https://s3.icankid.io/uploads/question/ff999a3...   \n",
       "\n",
       "                                            ImageOCR  \\\n",
       "0  B-TƯLUÂN\\n2.12. Biểu diễn miền nghiệm của bất ...   \n",
       "1  Câu 1: Học sinh chọn 1 trong 2 chủ đề sau?\\nCh...   \n",
       "2  3. Một cái bục hình lăng trụ đứng có kích thướ...   \n",
       "3  a) \\( A=1+2+2^{2}+\\ldots+2^{4} \\) và \\( B=2^{5...   \n",
       "4  Trong cà năm, trung binh mói thâng cha hâ đợ s...   \n",
       "\n",
       "                                      clean_question  char_count_question  \\\n",
       "0  b-tưluân 2.12 . biểu_diễn miền nghiệm của bất_...                  142   \n",
       "1  câu 1 : học_sinh chọn 1 trong 2 chủ_đề sau ? c...                  338   \n",
       "2  3 . một cái bục hình_lăng_trụ đứng có kích_thư...                  183   \n",
       "3  a ) \\ ( a = 1 + 2 + 2 ^ { 2 } + \\ ldots + 2 ^_...                   84   \n",
       "4  trong cà năm , trung_binh mói thâng cha hâ đợ ...                   77   \n",
       "\n",
       "   word_count_question  average_word_length_question  \n",
       "0                   35                      4.057143  \n",
       "1                   66                      5.121212  \n",
       "2                   39                      4.692308  \n",
       "3                   37                      2.270270  \n",
       "4                   20                      3.850000  "
      ]
     },
     "execution_count": 32,
     "metadata": {},
     "output_type": "execute_result"
    }
   ],
   "source": [
    "df.head()"
   ]
  },
  {
   "cell_type": "code",
   "execution_count": 36,
   "id": "595adb41",
   "metadata": {},
   "outputs": [
    {
     "data": {
      "text/plain": [
       "False"
      ]
     },
     "execution_count": 36,
     "metadata": {},
     "output_type": "execute_result"
    }
   ],
   "source": [
    "d = enchant.Dict('en_US')\n",
    "d.check(df.iloc[1]['ImageOCR'])"
   ]
  },
  {
   "cell_type": "code",
   "execution_count": 39,
   "id": "9cc46dbe",
   "metadata": {},
   "outputs": [],
   "source": [
    "df['en_language'] = df['ImageOCR'].map(lambda x: 1 if d.check(x) == True else 0)"
   ]
  },
  {
   "cell_type": "code",
   "execution_count": 41,
   "id": "0ca3d751",
   "metadata": {},
   "outputs": [
    {
     "data": {
      "text/plain": [
       "0    133883\n",
       "1         5\n",
       "Name: en_language, dtype: int64"
      ]
     },
     "execution_count": 41,
     "metadata": {},
     "output_type": "execute_result"
    }
   ],
   "source": [
    "df['en_language'].value_counts()"
   ]
  },
  {
   "cell_type": "code",
   "execution_count": 42,
   "id": "0dbcd742",
   "metadata": {},
   "outputs": [
    {
     "data": {
      "text/html": [
       "<div>\n",
       "<style scoped>\n",
       "    .dataframe tbody tr th:only-of-type {\n",
       "        vertical-align: middle;\n",
       "    }\n",
       "\n",
       "    .dataframe tbody tr th {\n",
       "        vertical-align: top;\n",
       "    }\n",
       "\n",
       "    .dataframe thead th {\n",
       "        text-align: right;\n",
       "    }\n",
       "</style>\n",
       "<table border=\"1\" class=\"dataframe\">\n",
       "  <thead>\n",
       "    <tr style=\"text-align: right;\">\n",
       "      <th></th>\n",
       "      <th>QuestionID</th>\n",
       "      <th>ImageURL</th>\n",
       "      <th>ImageOCR</th>\n",
       "      <th>clean_question</th>\n",
       "      <th>char_count_question</th>\n",
       "      <th>word_count_question</th>\n",
       "      <th>average_word_length_question</th>\n",
       "      <th>en_language</th>\n",
       "    </tr>\n",
       "  </thead>\n",
       "  <tbody>\n",
       "    <tr>\n",
       "      <th>11220</th>\n",
       "      <td>60cc24ef-d06a-11ec-9ee3-cac24781fafe</td>\n",
       "      <td>https://s3.icankid.io/uploads/question/5fdd1d4...</td>\n",
       "      <td>)</td>\n",
       "      <td>)</td>\n",
       "      <td>1</td>\n",
       "      <td>1</td>\n",
       "      <td>1.0</td>\n",
       "      <td>1</td>\n",
       "    </tr>\n",
       "    <tr>\n",
       "      <th>38890</th>\n",
       "      <td>a5761a1a-b4b6-11ec-89c4-920026c7b18d</td>\n",
       "      <td>https://s3.icankid.io/uploads/question/a49330c...</td>\n",
       "      <td>1</td>\n",
       "      <td>1</td>\n",
       "      <td>1</td>\n",
       "      <td>1</td>\n",
       "      <td>1.0</td>\n",
       "      <td>1</td>\n",
       "    </tr>\n",
       "    <tr>\n",
       "      <th>39030</th>\n",
       "      <td>1bd012b6-b557-11ec-95b4-9ad828188308</td>\n",
       "      <td>https://s3.icankid.io/uploads/question/1b60223...</td>\n",
       "      <td>-</td>\n",
       "      <td>-</td>\n",
       "      <td>1</td>\n",
       "      <td>1</td>\n",
       "      <td>1.0</td>\n",
       "      <td>1</td>\n",
       "    </tr>\n",
       "    <tr>\n",
       "      <th>39883</th>\n",
       "      <td>fb2328cb-b556-11ec-95b4-9ad828188308</td>\n",
       "      <td>https://s3.icankid.io/uploads/question/f9658e4...</td>\n",
       "      <td>8</td>\n",
       "      <td>8</td>\n",
       "      <td>1</td>\n",
       "      <td>1</td>\n",
       "      <td>1.0</td>\n",
       "      <td>1</td>\n",
       "    </tr>\n",
       "    <tr>\n",
       "      <th>41203</th>\n",
       "      <td>c6ec4e2f-c237-11ec-9ee3-cac24781fafe</td>\n",
       "      <td>https://s3.icankid.io/uploads/question/c6551fa...</td>\n",
       "      <td>an</td>\n",
       "      <td>an</td>\n",
       "      <td>2</td>\n",
       "      <td>1</td>\n",
       "      <td>2.0</td>\n",
       "      <td>1</td>\n",
       "    </tr>\n",
       "  </tbody>\n",
       "</table>\n",
       "</div>"
      ],
      "text/plain": [
       "                                 QuestionID  \\\n",
       "11220  60cc24ef-d06a-11ec-9ee3-cac24781fafe   \n",
       "38890  a5761a1a-b4b6-11ec-89c4-920026c7b18d   \n",
       "39030  1bd012b6-b557-11ec-95b4-9ad828188308   \n",
       "39883  fb2328cb-b556-11ec-95b4-9ad828188308   \n",
       "41203  c6ec4e2f-c237-11ec-9ee3-cac24781fafe   \n",
       "\n",
       "                                                ImageURL ImageOCR  \\\n",
       "11220  https://s3.icankid.io/uploads/question/5fdd1d4...        )   \n",
       "38890  https://s3.icankid.io/uploads/question/a49330c...        1   \n",
       "39030  https://s3.icankid.io/uploads/question/1b60223...        -   \n",
       "39883  https://s3.icankid.io/uploads/question/f9658e4...        8   \n",
       "41203  https://s3.icankid.io/uploads/question/c6551fa...       an   \n",
       "\n",
       "      clean_question  char_count_question  word_count_question  \\\n",
       "11220              )                    1                    1   \n",
       "38890              1                    1                    1   \n",
       "39030              -                    1                    1   \n",
       "39883              8                    1                    1   \n",
       "41203             an                    2                    1   \n",
       "\n",
       "       average_word_length_question  en_language  \n",
       "11220                           1.0            1  \n",
       "38890                           1.0            1  \n",
       "39030                           1.0            1  \n",
       "39883                           1.0            1  \n",
       "41203                           2.0            1  "
      ]
     },
     "execution_count": 42,
     "metadata": {},
     "output_type": "execute_result"
    }
   ],
   "source": [
    "df.loc[df['en_language'] == 1]"
   ]
  },
  {
   "cell_type": "code",
   "execution_count": 65,
   "id": "05cd52f9",
   "metadata": {
    "scrolled": true
   },
   "outputs": [
    {
     "data": {
      "text/html": [
       "<div>\n",
       "<style scoped>\n",
       "    .dataframe tbody tr th:only-of-type {\n",
       "        vertical-align: middle;\n",
       "    }\n",
       "\n",
       "    .dataframe tbody tr th {\n",
       "        vertical-align: top;\n",
       "    }\n",
       "\n",
       "    .dataframe thead th {\n",
       "        text-align: right;\n",
       "    }\n",
       "</style>\n",
       "<table border=\"1\" class=\"dataframe\">\n",
       "  <thead>\n",
       "    <tr style=\"text-align: right;\">\n",
       "      <th></th>\n",
       "      <th>QuestionID</th>\n",
       "      <th>ImageURL</th>\n",
       "      <th>ImageOCR</th>\n",
       "      <th>clean_question</th>\n",
       "      <th>char_count_question</th>\n",
       "      <th>word_count_question</th>\n",
       "      <th>average_word_length_question</th>\n",
       "      <th>en_language</th>\n",
       "    </tr>\n",
       "  </thead>\n",
       "  <tbody>\n",
       "    <tr>\n",
       "      <th>57</th>\n",
       "      <td>0ee78878-4577-11ed-8355-e24590ef346b</td>\n",
       "      <td>https://s3.icankid.io/uploads/question/0dcd335...</td>\n",
       "      <td>tHY RN +N</td>\n",
       "      <td>thy rn + n</td>\n",
       "      <td>10</td>\n",
       "      <td>4</td>\n",
       "      <td>2.500000</td>\n",
       "      <td>0</td>\n",
       "    </tr>\n",
       "    <tr>\n",
       "      <th>105</th>\n",
       "      <td>1bcb08a7-454a-11ed-8355-e24590ef346b</td>\n",
       "      <td>https://s3.icankid.io/uploads/question/1b37787...</td>\n",
       "      <td>\\( 25 \\cdot 99 \\)</td>\n",
       "      <td>\\ ( 25_\\_cdot 99_\\ )</td>\n",
       "      <td>20</td>\n",
       "      <td>5</td>\n",
       "      <td>4.000000</td>\n",
       "      <td>0</td>\n",
       "    </tr>\n",
       "    <tr>\n",
       "      <th>232</th>\n",
       "      <td>463a33e1-4546-11ed-8355-e24590ef346b</td>\n",
       "      <td>https://s3.icankid.io/uploads/question/455af6d...</td>\n",
       "      <td>Chobaing s'thas</td>\n",
       "      <td>chobaing s'thas</td>\n",
       "      <td>15</td>\n",
       "      <td>2</td>\n",
       "      <td>7.500000</td>\n",
       "      <td>0</td>\n",
       "    </tr>\n",
       "    <tr>\n",
       "      <th>265</th>\n",
       "      <td>5295ab3e-453c-11ed-8355-e24590ef346b</td>\n",
       "      <td>https://s3.icankid.io/uploads/question/5201fe1...</td>\n",
       "      <td>Bai7: Cho hinh ve</td>\n",
       "      <td>bai7 : cho hinh ve</td>\n",
       "      <td>18</td>\n",
       "      <td>5</td>\n",
       "      <td>3.600000</td>\n",
       "      <td>0</td>\n",
       "    </tr>\n",
       "    <tr>\n",
       "      <th>347</th>\n",
       "      <td>6a873103-4526-11ed-8355-e24590ef346b</td>\n",
       "      <td>https://s3.icankid.io/uploads/question/69b8b5a...</td>\n",
       "      <td>7 futurebook</td>\n",
       "      <td>7 futurebook</td>\n",
       "      <td>12</td>\n",
       "      <td>2</td>\n",
       "      <td>6.000000</td>\n",
       "      <td>0</td>\n",
       "    </tr>\n",
       "    <tr>\n",
       "      <th>...</th>\n",
       "      <td>...</td>\n",
       "      <td>...</td>\n",
       "      <td>...</td>\n",
       "      <td>...</td>\n",
       "      <td>...</td>\n",
       "      <td>...</td>\n",
       "      <td>...</td>\n",
       "      <td>...</td>\n",
       "    </tr>\n",
       "    <tr>\n",
       "      <th>131743</th>\n",
       "      <td>0c19663a-4069-11ed-85e0-dab7ac5017e4</td>\n",
       "      <td>https://s3.icankid.io/uploads/question/0b4071f...</td>\n",
       "      <td>BAI TAP\\n40</td>\n",
       "      <td>bai tap 40</td>\n",
       "      <td>10</td>\n",
       "      <td>3</td>\n",
       "      <td>3.333333</td>\n",
       "      <td>0</td>\n",
       "    </tr>\n",
       "    <tr>\n",
       "      <th>132073</th>\n",
       "      <td>a5178b38-4001-11ed-85e0-dab7ac5017e4</td>\n",
       "      <td>https://s3.icankid.io/uploads/question/a4846b4...</td>\n",
       "      <td>vì KNM .\\nHinh 3</td>\n",
       "      <td>vì knm ._hinh 3</td>\n",
       "      <td>15</td>\n",
       "      <td>4</td>\n",
       "      <td>3.750000</td>\n",
       "      <td>0</td>\n",
       "    </tr>\n",
       "    <tr>\n",
       "      <th>132691</th>\n",
       "      <td>77ac5740-3eb4-11ed-b586-e2500f50eb64</td>\n",
       "      <td>https://s3.icankid.io/uploads/question/76e332f...</td>\n",
       "      <td>mince:</td>\n",
       "      <td>mince :</td>\n",
       "      <td>7</td>\n",
       "      <td>2</td>\n",
       "      <td>3.500000</td>\n",
       "      <td>0</td>\n",
       "    </tr>\n",
       "    <tr>\n",
       "      <th>133179</th>\n",
       "      <td>ae49f80c-3fda-11ed-b857-66683b71fc16</td>\n",
       "      <td>https://s3.icankid.io/uploads/question/ad562dc...</td>\n",
       "      <td>UYTIN-TAANTÅM-CHUYÊN NGMI</td>\n",
       "      <td>uytin-taantåm-chuyên ngmi</td>\n",
       "      <td>25</td>\n",
       "      <td>2</td>\n",
       "      <td>12.500000</td>\n",
       "      <td>0</td>\n",
       "    </tr>\n",
       "    <tr>\n",
       "      <th>133614</th>\n",
       "      <td>7408db95-3fce-11ed-b9f7-dab7ac5017e4</td>\n",
       "      <td>https://s3.icankid.io/uploads/question/73a1313...</td>\n",
       "      <td>Bài 2: Rút gọn</td>\n",
       "      <td>bài 2 : rút gọn</td>\n",
       "      <td>15</td>\n",
       "      <td>5</td>\n",
       "      <td>3.000000</td>\n",
       "      <td>0</td>\n",
       "    </tr>\n",
       "  </tbody>\n",
       "</table>\n",
       "<p>739 rows × 8 columns</p>\n",
       "</div>"
      ],
      "text/plain": [
       "                                  QuestionID  \\\n",
       "57      0ee78878-4577-11ed-8355-e24590ef346b   \n",
       "105     1bcb08a7-454a-11ed-8355-e24590ef346b   \n",
       "232     463a33e1-4546-11ed-8355-e24590ef346b   \n",
       "265     5295ab3e-453c-11ed-8355-e24590ef346b   \n",
       "347     6a873103-4526-11ed-8355-e24590ef346b   \n",
       "...                                      ...   \n",
       "131743  0c19663a-4069-11ed-85e0-dab7ac5017e4   \n",
       "132073  a5178b38-4001-11ed-85e0-dab7ac5017e4   \n",
       "132691  77ac5740-3eb4-11ed-b586-e2500f50eb64   \n",
       "133179  ae49f80c-3fda-11ed-b857-66683b71fc16   \n",
       "133614  7408db95-3fce-11ed-b9f7-dab7ac5017e4   \n",
       "\n",
       "                                                 ImageURL  \\\n",
       "57      https://s3.icankid.io/uploads/question/0dcd335...   \n",
       "105     https://s3.icankid.io/uploads/question/1b37787...   \n",
       "232     https://s3.icankid.io/uploads/question/455af6d...   \n",
       "265     https://s3.icankid.io/uploads/question/5201fe1...   \n",
       "347     https://s3.icankid.io/uploads/question/69b8b5a...   \n",
       "...                                                   ...   \n",
       "131743  https://s3.icankid.io/uploads/question/0b4071f...   \n",
       "132073  https://s3.icankid.io/uploads/question/a4846b4...   \n",
       "132691  https://s3.icankid.io/uploads/question/76e332f...   \n",
       "133179  https://s3.icankid.io/uploads/question/ad562dc...   \n",
       "133614  https://s3.icankid.io/uploads/question/73a1313...   \n",
       "\n",
       "                         ImageOCR             clean_question  \\\n",
       "57                      tHY RN +N                 thy rn + n   \n",
       "105             \\( 25 \\cdot 99 \\)       \\ ( 25_\\_cdot 99_\\ )   \n",
       "232               Chobaing s'thas            chobaing s'thas   \n",
       "265             Bai7: Cho hinh ve         bai7 : cho hinh ve   \n",
       "347                  7 futurebook               7 futurebook   \n",
       "...                           ...                        ...   \n",
       "131743                BAI TAP\\n40                 bai tap 40   \n",
       "132073           vì KNM .\\nHinh 3            vì knm ._hinh 3   \n",
       "132691                     mince:                    mince :   \n",
       "133179  UYTIN-TAANTÅM-CHUYÊN NGMI  uytin-taantåm-chuyên ngmi   \n",
       "133614             Bài 2: Rút gọn            bài 2 : rút gọn   \n",
       "\n",
       "        char_count_question  word_count_question  \\\n",
       "57                       10                    4   \n",
       "105                      20                    5   \n",
       "232                      15                    2   \n",
       "265                      18                    5   \n",
       "347                      12                    2   \n",
       "...                     ...                  ...   \n",
       "131743                   10                    3   \n",
       "132073                   15                    4   \n",
       "132691                    7                    2   \n",
       "133179                   25                    2   \n",
       "133614                   15                    5   \n",
       "\n",
       "        average_word_length_question  en_language  \n",
       "57                          2.500000            0  \n",
       "105                         4.000000            0  \n",
       "232                         7.500000            0  \n",
       "265                         3.600000            0  \n",
       "347                         6.000000            0  \n",
       "...                              ...          ...  \n",
       "131743                      3.333333            0  \n",
       "132073                      3.750000            0  \n",
       "132691                      3.500000            0  \n",
       "133179                     12.500000            0  \n",
       "133614                      3.000000            0  \n",
       "\n",
       "[739 rows x 8 columns]"
      ]
     },
     "execution_count": 65,
     "metadata": {},
     "output_type": "execute_result"
    }
   ],
   "source": [
    "lst1 = df.loc[df['word_count_question'] <= 5]\n",
    "lst1"
   ]
  },
  {
   "cell_type": "code",
   "execution_count": null,
   "id": "800e68fe",
   "metadata": {},
   "outputs": [],
   "source": [
    "# ![alternatvie text](https://s3.icankid.io/uploads/question/0dcd3350-4577-11ed-afcb-abad28552b30)"
   ]
  },
  {
   "cell_type": "code",
   "execution_count": 66,
   "id": "1d3a9dd0",
   "metadata": {},
   "outputs": [],
   "source": [
    "# import webbrowser\n",
    "\n",
    "# for url in lst1['ImageURL'][:3]:\n",
    "#     webbrowser.open(url)"
   ]
  },
  {
   "cell_type": "code",
   "execution_count": 167,
   "id": "6629b970",
   "metadata": {
    "scrolled": false
   },
   "outputs": [
    {
     "data": {
      "image/jpeg": "[encoded data removed]",
      "text/plain": [
       "<IPython.core.display.Image object>"
      ]
     },
     "metadata": {},
     "output_type": "display_data"
    },
    {
     "data": {
      "image/jpeg": "[encoded data removed]",
      "text/plain": [
       "<IPython.core.display.Image object>"
      ]
     },
     "metadata": {},
     "output_type": "display_data"
    },
    {
     "data": {
      "image/jpeg": "[encoded data removed]",
      "text/plain": [
       "<IPython.core.display.Image object>"
      ]
     },
     "metadata": {},
     "output_type": "display_data"
    }
   ],
   "source": [
    "import requests\n",
    "import IPython.display as Disp\n",
    "\n",
    "for url in lst1['ImageURL'].values[0:3]:\n",
    "    img = Disp.Image(requests.get(url).content)\n",
    "    display(img)"
   ]
  },
  {
   "cell_type": "code",
   "execution_count": 165,
   "id": "f723cdb5",
   "metadata": {},
   "outputs": [],
   "source": [
    "from IPython.display import Image, display"
   ]
  },
  {
   "cell_type": "code",
   "execution_count": 168,
   "id": "af31e4a8",
   "metadata": {
    "scrolled": true
   },
   "outputs": [
    {
     "data": {
      "application/vnd.jupyter.widget-view+json": {
       "model_id": "a0ef718c92e94cb5a44611888be697fa",
       "version_major": 2,
       "version_minor": 0
      },
      "text/plain": [
       "Image(value=b'\\xff\\xd8\\xff\\xdb\\x00C\\x00\\x06\\x04\\x05\\x06\\x05\\x04\\x06\\x06\\x05\\x06\\x07\\x07\\x06\\x08\\n\\x10\\n\\n\\t\\t\\…"
      ]
     },
     "metadata": {},
     "output_type": "display_data"
    },
    {
     "data": {
      "application/vnd.jupyter.widget-view+json": {
       "model_id": "2f3ce4cb5c6746a8990bd8c7716b5552",
       "version_major": 2,
       "version_minor": 0
      },
      "text/plain": [
       "Image(value=b'\\xff\\xd8\\xff\\xe0\\x00\\x10JFIF\\x00\\x01\\x01\\x00\\x00\\x01\\x00\\x01\\x00\\x00\\xff\\xdb\\x00C\\x00\\x10\\x0b\\x0…"
      ]
     },
     "metadata": {},
     "output_type": "display_data"
    },
    {
     "data": {
      "application/vnd.jupyter.widget-view+json": {
       "model_id": "2303d4eb136b421f97ca1f410cb08250",
       "version_major": 2,
       "version_minor": 0
      },
      "text/plain": [
       "Image(value=b'\\xff\\xd8\\xff\\xe0\\x00\\x10JFIF\\x00\\x01\\x01\\x00\\x00\\x01\\x00\\x01\\x00\\x00\\xff\\xe2\\x02(ICC_PROFILE\\x00…"
      ]
     },
     "metadata": {},
     "output_type": "display_data"
    },
    {
     "data": {
      "application/vnd.jupyter.widget-view+json": {
       "model_id": "da1a2ce527004266aec1cfbea7c94047",
       "version_major": 2,
       "version_minor": 0
      },
      "text/plain": [
       "Image(value=b'\\xff\\xd8\\xff\\xe0\\x00\\x10JFIF\\x00\\x01\\x01\\x00\\x00H\\x00H\\x00\\x00\\xff\\xe1\\x00XExif\\x00\\x00MM\\x00*\\x…"
      ]
     },
     "metadata": {},
     "output_type": "display_data"
    },
    {
     "data": {
      "application/vnd.jupyter.widget-view+json": {
       "model_id": "33021e1562a041b4b5238ac635495655",
       "version_major": 2,
       "version_minor": 0
      },
      "text/plain": [
       "Image(value=b'\\xff\\xd8\\xff\\xdb\\x00C\\x00\\x06\\x04\\x05\\x06\\x05\\x04\\x06\\x06\\x05\\x06\\x07\\x07\\x06\\x08\\n\\x10\\n\\n\\t\\t\\…"
      ]
     },
     "metadata": {},
     "output_type": "display_data"
    },
    {
     "data": {
      "application/vnd.jupyter.widget-view+json": {
       "model_id": "f182d5a238b24402ace63bbabcb2f660",
       "version_major": 2,
       "version_minor": 0
      },
      "text/plain": [
       "Image(value=b'\\xff\\xd8\\xff\\xe0\\x00\\x10JFIF\\x00\\x01\\x01\\x00\\x00\\x01\\x00\\x01\\x00\\x00\\xff\\xdb\\x00C\\x00\\x10\\x0b\\x0…"
      ]
     },
     "metadata": {},
     "output_type": "display_data"
    },
    {
     "data": {
      "application/vnd.jupyter.widget-view+json": {
       "model_id": "4de0d0aec29c45e38ebe87be092ece60",
       "version_major": 2,
       "version_minor": 0
      },
      "text/plain": [
       "Image(value=b'\\xff\\xd8\\xff\\xe0\\x00\\x10JFIF\\x00\\x01\\x01\\x00\\x00\\x01\\x00\\x01\\x00\\x00\\xff\\xe2\\x02(ICC_PROFILE\\x00…"
      ]
     },
     "metadata": {},
     "output_type": "display_data"
    },
    {
     "data": {
      "application/vnd.jupyter.widget-view+json": {
       "model_id": "ab7400f7ac5c4e16ad183e20e10d7565",
       "version_major": 2,
       "version_minor": 0
      },
      "text/plain": [
       "Image(value=b'\\xff\\xd8\\xff\\xe0\\x00\\x10JFIF\\x00\\x01\\x01\\x00\\x00\\x01\\x00\\x01\\x00\\x00\\xff\\xdb\\x00C\\x00\\x10\\x0b\\x0…"
      ]
     },
     "metadata": {},
     "output_type": "display_data"
    },
    {
     "data": {
      "application/vnd.jupyter.widget-view+json": {
       "model_id": "bf0d98c879ea4f2a858eeee22b2153b5",
       "version_major": 2,
       "version_minor": 0
      },
      "text/plain": [
       "Image(value=b'\\xff\\xd8\\xff\\xdb\\x00C\\x00\\x06\\x04\\x05\\x06\\x05\\x04\\x06\\x06\\x05\\x06\\x07\\x07\\x06\\x08\\n\\x10\\n\\n\\t\\t\\…"
      ]
     },
     "metadata": {},
     "output_type": "display_data"
    },
    {
     "data": {
      "application/vnd.jupyter.widget-view+json": {
       "model_id": "dcebb4442c2645cf9150ae1682c4c55e",
       "version_major": 2,
       "version_minor": 0
      },
      "text/plain": [
       "Image(value=b'\\xff\\xd8\\xff\\xe0\\x00\\x10JFIF\\x00\\x01\\x01\\x00\\x00H\\x00H\\x00\\x00\\xff\\xe1\\x00XExif\\x00\\x00MM\\x00*\\x…"
      ]
     },
     "metadata": {},
     "output_type": "display_data"
    },
    {
     "data": {
      "application/vnd.jupyter.widget-view+json": {
       "model_id": "b230a859da8840328bde354d072c61aa",
       "version_major": 2,
       "version_minor": 0
      },
      "text/plain": [
       "Image(value=b'\\xff\\xd8\\xff\\xe0\\x00\\x10JFIF\\x00\\x01\\x01\\x00\\x00\\x01\\x00\\x01\\x00\\x00\\xff\\xe2\\x02(ICC_PROFILE\\x00…"
      ]
     },
     "metadata": {},
     "output_type": "display_data"
    },
    {
     "data": {
      "application/vnd.jupyter.widget-view+json": {
       "model_id": "077ba83a6b6f429899a12fe855d4fb36",
       "version_major": 2,
       "version_minor": 0
      },
      "text/plain": [
       "Image(value=b'\\xff\\xd8\\xff\\xdb\\x00C\\x00\\x06\\x04\\x05\\x06\\x05\\x04\\x06\\x06\\x05\\x06\\x07\\x07\\x06\\x08\\n\\x10\\n\\n\\t\\t\\…"
      ]
     },
     "metadata": {},
     "output_type": "display_data"
    },
    {
     "data": {
      "application/vnd.jupyter.widget-view+json": {
       "model_id": "b083242699304f5d86c1b894b530a97d",
       "version_major": 2,
       "version_minor": 0
      },
      "text/plain": [
       "Image(value=b'\\xff\\xd8\\xff\\xe0\\x00\\x10JFIF\\x00\\x01\\x01\\x00\\x00H\\x00H\\x00\\x00\\xff\\xe1\\x00XExif\\x00\\x00MM\\x00*\\x…"
      ]
     },
     "metadata": {},
     "output_type": "display_data"
    },
    {
     "data": {
      "application/vnd.jupyter.widget-view+json": {
       "model_id": "d46fb19f515042a088da68fb0b8b489b",
       "version_major": 2,
       "version_minor": 0
      },
      "text/plain": [
       "Image(value=b'\\xff\\xd8\\xff\\xe0\\x00\\x10JFIF\\x00\\x01\\x01\\x00\\x00H\\x00H\\x00\\x00\\xff\\xe1\\x00XExif\\x00\\x00MM\\x00*\\x…"
      ]
     },
     "metadata": {},
     "output_type": "display_data"
    },
    {
     "data": {
      "application/vnd.jupyter.widget-view+json": {
       "model_id": "683d385e536b4a68bae783d262d8b878",
       "version_major": 2,
       "version_minor": 0
      },
      "text/plain": [
       "Image(value=b'\\xff\\xd8\\xff\\xdb\\x00C\\x00\\x06\\x04\\x05\\x06\\x05\\x04\\x06\\x06\\x05\\x06\\x07\\x07\\x06\\x08\\n\\x10\\n\\n\\t\\t\\…"
      ]
     },
     "metadata": {},
     "output_type": "display_data"
    },
    {
     "data": {
      "application/vnd.jupyter.widget-view+json": {
       "model_id": "a728dac7b8cb4ce18400308fc281c91b",
       "version_major": 2,
       "version_minor": 0
      },
      "text/plain": [
       "Image(value=b'\\xff\\xd8\\xff\\xe0\\x00\\x10JFIF\\x00\\x01\\x01\\x00\\x00H\\x00H\\x00\\x00\\xff\\xe1\\x00XExif\\x00\\x00MM\\x00*\\x…"
      ]
     },
     "metadata": {},
     "output_type": "display_data"
    },
    {
     "data": {
      "application/vnd.jupyter.widget-view+json": {
       "model_id": "b045641efd994f0898d449dfa6f712aa",
       "version_major": 2,
       "version_minor": 0
      },
      "text/plain": [
       "Image(value=b'\\xff\\xd8\\xff\\xdb\\x00C\\x00\\x06\\x04\\x05\\x06\\x05\\x04\\x06\\x06\\x05\\x06\\x07\\x07\\x06\\x08\\n\\x10\\n\\n\\t\\t\\…"
      ]
     },
     "metadata": {},
     "output_type": "display_data"
    },
    {
     "data": {
      "application/vnd.jupyter.widget-view+json": {
       "model_id": "f31ed5306ed242c58536596ab9f88dcb",
       "version_major": 2,
       "version_minor": 0
      },
      "text/plain": [
       "Image(value=b'\\xff\\xd8\\xff\\xe0\\x00\\x10JFIF\\x00\\x01\\x01\\x00\\x00\\x01\\x00\\x01\\x00\\x00\\xff\\xe2\\x02(ICC_PROFILE\\x00…"
      ]
     },
     "metadata": {},
     "output_type": "display_data"
    },
    {
     "data": {
      "application/vnd.jupyter.widget-view+json": {
       "model_id": "18b8a9a51ff2442a8a97bc9236e92200",
       "version_major": 2,
       "version_minor": 0
      },
      "text/plain": [
       "Image(value=b'\\xff\\xd8\\xff\\xdb\\x00C\\x00\\x06\\x04\\x05\\x06\\x05\\x04\\x06\\x06\\x05\\x06\\x07\\x07\\x06\\x08\\n\\x10\\n\\n\\t\\t\\…"
      ]
     },
     "metadata": {},
     "output_type": "display_data"
    },
    {
     "data": {
      "application/vnd.jupyter.widget-view+json": {
       "model_id": "6293ea79e6ee46a1a49270135b9fbf79",
       "version_major": 2,
       "version_minor": 0
      },
      "text/plain": [
       "Image(value=b'\\xff\\xd8\\xff\\xe0\\x00\\x10JFIF\\x00\\x01\\x01\\x00\\x00H\\x00H\\x00\\x00\\xff\\xe1\\x00XExif\\x00\\x00MM\\x00*\\x…"
      ]
     },
     "metadata": {},
     "output_type": "display_data"
    }
   ],
   "source": [
    "import requests\n",
    "from ipywidgets import Image\n",
    "\n",
    "for b in lst1['ImageURL'].values[0:20]:\n",
    "    image = Image(value=requests.get(b).content)\n",
    "    display(image)"
   ]
  },
  {
   "cell_type": "code",
   "execution_count": 170,
   "id": "67cba02d",
   "metadata": {},
   "outputs": [
    {
     "data": {
      "text/plain": [
       "0.5519538718929254"
      ]
     },
     "execution_count": 170,
     "metadata": {},
     "output_type": "execute_result"
    }
   ],
   "source": [
    "739/133888 * 100"
   ]
  },
  {
   "cell_type": "code",
   "execution_count": null,
   "id": "df8fc914",
   "metadata": {},
   "outputs": [],
   "source": []
  }
 ],
 "metadata": {
  "kernelspec": {
   "display_name": "Python 3 (ipykernel)",
   "language": "python",
   "name": "python3"
  },
  "language_info": {
   "codemirror_mode": {
    "name": "ipython",
    "version": 3
   },
   "file_extension": ".py",
   "mimetype": "text/x-python",
   "name": "python",
   "nbconvert_exporter": "python",
   "pygments_lexer": "ipython3",
   "version": "3.8.10"
  }
 },
 "nbformat": 4,
 "nbformat_minor": 5
}
