{
 "cells": [
  {
   "cell_type": "markdown",
   "id": "c82a3782",
   "metadata": {},
   "source": [
    "### Date: 8 Apr 2022"
   ]
  },
  {
   "cell_type": "markdown",
   "id": "da9c4707",
   "metadata": {
    "id": "da9c4707"
   },
   "source": [
    "## Home test for Data Scientist\n",
    "- Bạn hãy xây dựng một simple search engine bằng cách chuyển đổi text thành vector sử dụng TF-IDF. Dữ liệu gồm tên của sản phẩm trong file product_names.txt (gồm 50,000 tên của sản phẩm) và 100 query trong file 100_query.txt.\n",
    "- Model của bạn sẽ là một matrix 50,000x10, với 10 ở đây là 10 thành phần có eigenvalues lớn nhất khi sử dụng PCA để reduce số chiều từ product document matrix được xây dựng từ các TF-IDF vector của product names.\n",
    "- Quá trình search sẽ bao gồm 3 bước, biến query thành vector, giảm số chiều của query vector thành 10 và tìm ra các product reduced vector có khoảng cách gần với query reduced vector nhất.\n",
    "- Các yêu cầu:\n",
    "    + Bạn cần chạy model trên 100 query với giới hạn mỗi query là 5 kết quả.\n",
    "    + Bạn có thể tuning tùy ý các hyper parameters để có được kết quả tốt nhất, tuy nhiên bạn theo cách làm trên.\n",
    "    + Bạn cũng có thể đề xuất thêm giải pháp khác và khiển khai nếu có thể.\n",
    "    + Bạn nên viết README, để hướng dẫn việc chạy code đã viết."
   ]
  },
  {
   "cell_type": "markdown",
   "id": "e6d36eef",
   "metadata": {
    "id": "e6d36eef"
   },
   "source": [
    "# 0. Import packages"
   ]
  },
  {
   "cell_type": "code",
   "execution_count": 1,
   "id": "5da4c8b4",
   "metadata": {
    "colab": {
     "base_uri": "https://localhost:8080/",
     "height": 368
    },
    "executionInfo": {
     "elapsed": 1979,
     "status": "error",
     "timestamp": 1646629004964,
     "user": {
      "displayName": "Phuong Dam",
      "photoUrl": "https://lh3.googleusercontent.com/a/default-user=s64",
      "userId": "01072403895711103873"
     },
     "user_tz": -420
    },
    "id": "5da4c8b4",
    "outputId": "bbb67349-c340-4761-fc96-cc229d3064b4"
   },
   "outputs": [
    {
     "name": "stdout",
     "output_type": "stream",
     "text": [
      "importing Jupyter notebook from Lib.ipynb\n"
     ]
    }
   ],
   "source": [
    "import pandas as pd\n",
    "import numpy as np\n",
    "import matplotlib.pyplot as plt\n",
    "import seaborn as sns\n",
    "import import_ipynb\n",
    "import Lib\n",
    "\n",
    "import warnings\n",
    "warnings.filterwarnings('ignore')\n",
    "%matplotlib inline\n",
    "\n",
    "pd.options.display.float_format = '{:,.4f}'.format"
   ]
  },
  {
   "cell_type": "code",
   "execution_count": 2,
   "id": "aafb607b",
   "metadata": {
    "id": "aafb607b"
   },
   "outputs": [],
   "source": [
    "import re\n",
    "import pickle\n",
    "from wordcloud import WordCloud\n",
    "from sklearn.metrics.pairwise import cosine_similarity\n",
    "from gensim import corpora, models, similarities\n",
    "from sklearn.feature_extraction.text import TfidfVectorizer, ENGLISH_STOP_WORDS\n",
    "from sklearn.decomposition import PCA\n",
    "from sklearn.metrics import mean_squared_error\n",
    "import math"
   ]
  },
  {
   "cell_type": "markdown",
   "id": "e5cfd5ea",
   "metadata": {
    "id": "e5cfd5ea"
   },
   "source": [
    "# 1. EDA"
   ]
  },
  {
   "cell_type": "markdown",
   "id": "c8501acd",
   "metadata": {},
   "source": [
    "product_names.txt"
   ]
  },
  {
   "cell_type": "code",
   "execution_count": 3,
   "id": "eea84676",
   "metadata": {
    "scrolled": true
   },
   "outputs": [
    {
     "data": {
      "text/plain": [
       "(49991, 1)"
      ]
     },
     "execution_count": 3,
     "metadata": {},
     "output_type": "execute_result"
    }
   ],
   "source": [
    "# Load 'product_names.txt'\n",
    "product = pd.read_csv('data/product_names.txt', sep='delimiter', header=None, names=['names'])\n",
    "product.shape"
   ]
  },
  {
   "cell_type": "code",
   "execution_count": 4,
   "id": "c737b806",
   "metadata": {},
   "outputs": [
    {
     "data": {
      "text/html": [
       "<div>\n",
       "<style scoped>\n",
       "    .dataframe tbody tr th:only-of-type {\n",
       "        vertical-align: middle;\n",
       "    }\n",
       "\n",
       "    .dataframe tbody tr th {\n",
       "        vertical-align: top;\n",
       "    }\n",
       "\n",
       "    .dataframe thead th {\n",
       "        text-align: right;\n",
       "    }\n",
       "</style>\n",
       "<table border=\"1\" class=\"dataframe\">\n",
       "  <thead>\n",
       "    <tr style=\"text-align: right;\">\n",
       "      <th></th>\n",
       "      <th>names</th>\n",
       "    </tr>\n",
       "  </thead>\n",
       "  <tbody>\n",
       "    <tr>\n",
       "      <th>0</th>\n",
       "      <td>dép quai ngang phối kim tuyến mirabella dep773...</td>\n",
       "    </tr>\n",
       "    <tr>\n",
       "      <th>1</th>\n",
       "      <td>rinne- tập 12</td>\n",
       "    </tr>\n",
       "    <tr>\n",
       "      <th>2</th>\n",
       "      <td>tai nghe day joyroom jr-e203 (xam)</td>\n",
       "    </tr>\n",
       "    <tr>\n",
       "      <th>3</th>\n",
       "      <td>giấy nhắc nhở dán lịch - loại 3</td>\n",
       "    </tr>\n",
       "    <tr>\n",
       "      <th>4</th>\n",
       "      <td>đầm a kiểu croptop phủ voan hàn quốc, đính nơ ...</td>\n",
       "    </tr>\n",
       "    <tr>\n",
       "      <th>5</th>\n",
       "      <td>new headway pronunciation course: student's pr...</td>\n",
       "    </tr>\n",
       "    <tr>\n",
       "      <th>6</th>\n",
       "      <td>adapter sac 3 cong promate 30w ho tro qc 3.0  ...</td>\n",
       "    </tr>\n",
       "    <tr>\n",
       "      <th>7</th>\n",
       "      <td>balo cat cage covers 83112 (42 x 29 cm) - đen</td>\n",
       "    </tr>\n",
       "    <tr>\n",
       "      <th>8</th>\n",
       "      <td>giay tay nam claude aston clarks 26124130 blac...</td>\n",
       "    </tr>\n",
       "    <tr>\n",
       "      <th>9</th>\n",
       "      <td>kem nền serum bobbi brown intensive skin serum...</td>\n",
       "    </tr>\n",
       "  </tbody>\n",
       "</table>\n",
       "</div>"
      ],
      "text/plain": [
       "                                               names\n",
       "0  dép quai ngang phối kim tuyến mirabella dep773...\n",
       "1                                      rinne- tập 12\n",
       "2                 tai nghe day joyroom jr-e203 (xam)\n",
       "3                    giấy nhắc nhở dán lịch - loại 3\n",
       "4  đầm a kiểu croptop phủ voan hàn quốc, đính nơ ...\n",
       "5  new headway pronunciation course: student's pr...\n",
       "6  adapter sac 3 cong promate 30w ho tro qc 3.0  ...\n",
       "7      balo cat cage covers 83112 (42 x 29 cm) - đen\n",
       "8  giay tay nam claude aston clarks 26124130 blac...\n",
       "9  kem nền serum bobbi brown intensive skin serum..."
      ]
     },
     "execution_count": 4,
     "metadata": {},
     "output_type": "execute_result"
    }
   ],
   "source": [
    "product.head(10)"
   ]
  },
  {
   "cell_type": "code",
   "execution_count": 5,
   "id": "8bc3da73",
   "metadata": {},
   "outputs": [
    {
     "data": {
      "text/html": [
       "<div>\n",
       "<style scoped>\n",
       "    .dataframe tbody tr th:only-of-type {\n",
       "        vertical-align: middle;\n",
       "    }\n",
       "\n",
       "    .dataframe tbody tr th {\n",
       "        vertical-align: top;\n",
       "    }\n",
       "\n",
       "    .dataframe thead th {\n",
       "        text-align: right;\n",
       "    }\n",
       "</style>\n",
       "<table border=\"1\" class=\"dataframe\">\n",
       "  <thead>\n",
       "    <tr style=\"text-align: right;\">\n",
       "      <th></th>\n",
       "      <th>names</th>\n",
       "    </tr>\n",
       "  </thead>\n",
       "  <tbody>\n",
       "    <tr>\n",
       "      <th>49981</th>\n",
       "      <td>set do dung cu boi danh cho ca nam va nu mau h...</td>\n",
       "    </tr>\n",
       "    <tr>\n",
       "      <th>49982</th>\n",
       "      <td>áo thun nhộng v for vietnam-xs</td>\n",
       "    </tr>\n",
       "    <tr>\n",
       "      <th>49983</th>\n",
       "      <td>english for life intermediate: workbook with k...</td>\n",
       "    </tr>\n",
       "    <tr>\n",
       "      <th>49984</th>\n",
       "      <td>giày bít mũi nữ phối nơ nados h05009</td>\n",
       "    </tr>\n",
       "    <tr>\n",
       "      <th>49985</th>\n",
       "      <td>kẻ mắt nước không trôi etude house poof 10 liq...</td>\n",
       "    </tr>\n",
       "    <tr>\n",
       "      <th>49986</th>\n",
       "      <td>giày đi bộ đường dài shindo mid gtx w - l40238...</td>\n",
       "    </tr>\n",
       "    <tr>\n",
       "      <th>49987</th>\n",
       "      <td>move ahead level one grammar practice</td>\n",
       "    </tr>\n",
       "    <tr>\n",
       "      <th>49988</th>\n",
       "      <td>bo quan ao mo vai hinh voi truot patin bieber ...</td>\n",
       "    </tr>\n",
       "    <tr>\n",
       "      <th>49989</th>\n",
       "      <td>hop hoa hong 12</td>\n",
       "    </tr>\n",
       "    <tr>\n",
       "      <th>49990</th>\n",
       "      <td>ao ba lo nam f2 fashion f2-bl-08 - trang kem (...</td>\n",
       "    </tr>\n",
       "  </tbody>\n",
       "</table>\n",
       "</div>"
      ],
      "text/plain": [
       "                                                   names\n",
       "49981  set do dung cu boi danh cho ca nam va nu mau h...\n",
       "49982                     áo thun nhộng v for vietnam-xs\n",
       "49983  english for life intermediate: workbook with k...\n",
       "49984               giày bít mũi nữ phối nơ nados h05009\n",
       "49985  kẻ mắt nước không trôi etude house poof 10 liq...\n",
       "49986  giày đi bộ đường dài shindo mid gtx w - l40238...\n",
       "49987              move ahead level one grammar practice\n",
       "49988  bo quan ao mo vai hinh voi truot patin bieber ...\n",
       "49989                                    hop hoa hong 12\n",
       "49990  ao ba lo nam f2 fashion f2-bl-08 - trang kem (..."
      ]
     },
     "execution_count": 5,
     "metadata": {},
     "output_type": "execute_result"
    }
   ],
   "source": [
    "product.tail(10)"
   ]
  },
  {
   "cell_type": "code",
   "execution_count": 6,
   "id": "9bef6118",
   "metadata": {},
   "outputs": [
    {
     "name": "stdout",
     "output_type": "stream",
     "text": [
      "<class 'pandas.core.frame.DataFrame'>\n",
      "RangeIndex: 49991 entries, 0 to 49990\n",
      "Data columns (total 1 columns):\n",
      " #   Column  Non-Null Count  Dtype \n",
      "---  ------  --------------  ----- \n",
      " 0   names   49991 non-null  object\n",
      "dtypes: object(1)\n",
      "memory usage: 390.7+ KB\n"
     ]
    }
   ],
   "source": [
    "product.info()"
   ]
  },
  {
   "cell_type": "code",
   "execution_count": 7,
   "id": "d935716d",
   "metadata": {
    "executionInfo": {
     "elapsed": 27,
     "status": "aborted",
     "timestamp": 1646629004957,
     "user": {
      "displayName": "Phuong Dam",
      "photoUrl": "https://lh3.googleusercontent.com/a/default-user=s64",
      "userId": "01072403895711103873"
     },
     "user_tz": -420
    },
    "id": "d935716d",
    "outputId": "d3d55e18-acff-4372-c407-615d2cfabad7",
    "scrolled": true
   },
   "outputs": [
    {
     "name": "stdout",
     "output_type": "stream",
     "text": [
      "Number of duplicated rows: 629\n"
     ]
    },
    {
     "data": {
      "text/plain": [
       "(49362, 1)"
      ]
     },
     "execution_count": 7,
     "metadata": {},
     "output_type": "execute_result"
    }
   ],
   "source": [
    "# Check & drop duplicated rows\n",
    "print('Number of duplicated rows:',product.duplicated().sum())\n",
    "product = product.drop_duplicates().reset_index(drop=True)\n",
    "product.shape"
   ]
  },
  {
   "cell_type": "code",
   "execution_count": 8,
   "id": "34de9a9f",
   "metadata": {},
   "outputs": [
    {
     "data": {
      "text/plain": [
       "names    False\n",
       "dtype: bool"
      ]
     },
     "execution_count": 8,
     "metadata": {},
     "output_type": "execute_result"
    }
   ],
   "source": [
    "# Check if there is any null value\n",
    "product.isnull().any()"
   ]
  },
  {
   "cell_type": "code",
   "execution_count": 9,
   "id": "2d89a305",
   "metadata": {
    "id": "2d89a305"
   },
   "outputs": [],
   "source": [
    "# Reset index\n",
    "product = product.reset_index(drop=True)"
   ]
  },
  {
   "cell_type": "markdown",
   "id": "083544f5",
   "metadata": {},
   "source": [
    "Write a function <font color='green'>**clean_function**</font> to clean data:\n",
    "- Contents of Product['names'] are in Vietnamese (with marks or without marks), English, and non-alphabet languages (such as: Chinese) => <font color='green'>**Keep only contents in Vietnamese and English**</font>\n",
    "- <font color='green'>**Numberic characters will be kept**</font> as they could be product model.., although <font color='green'>**leading zero characters or zero values ('00','000'..) will be dropped out**</font>.\n",
    "- <font color='green'>**Drop out extra spaces**</font>\n",
    "- <font color='green'>**Drop out spaces**</font> at beginning/ ending of the sentences"
   ]
  },
  {
   "cell_type": "code",
   "execution_count": 10,
   "id": "805b9f98",
   "metadata": {},
   "outputs": [
    {
     "data": {
      "text/html": [
       "<div>\n",
       "<style scoped>\n",
       "    .dataframe tbody tr th:only-of-type {\n",
       "        vertical-align: middle;\n",
       "    }\n",
       "\n",
       "    .dataframe tbody tr th {\n",
       "        vertical-align: top;\n",
       "    }\n",
       "\n",
       "    .dataframe thead th {\n",
       "        text-align: right;\n",
       "    }\n",
       "</style>\n",
       "<table border=\"1\" class=\"dataframe\">\n",
       "  <thead>\n",
       "    <tr style=\"text-align: right;\">\n",
       "      <th></th>\n",
       "      <th>names</th>\n",
       "      <th>clean_names</th>\n",
       "    </tr>\n",
       "  </thead>\n",
       "  <tbody>\n",
       "    <tr>\n",
       "      <th>0</th>\n",
       "      <td>dép quai ngang phối kim tuyến mirabella dep773...</td>\n",
       "      <td>dép_quai_ngang phối kim_tuyến mirabella dep773...</td>\n",
       "    </tr>\n",
       "    <tr>\n",
       "      <th>1</th>\n",
       "      <td>rinne- tập 12</td>\n",
       "      <td>rinne tập 12</td>\n",
       "    </tr>\n",
       "    <tr>\n",
       "      <th>2</th>\n",
       "      <td>tai nghe day joyroom jr-e203 (xam)</td>\n",
       "      <td>tai nghe day joyroom jr e203 xam</td>\n",
       "    </tr>\n",
       "    <tr>\n",
       "      <th>3</th>\n",
       "      <td>giấy nhắc nhở dán lịch - loại 3</td>\n",
       "      <td>giấy nhắc_nhở dán lịch loại 3</td>\n",
       "    </tr>\n",
       "    <tr>\n",
       "      <th>4</th>\n",
       "      <td>đầm a kiểu croptop phủ voan hàn quốc, đính nơ ...</td>\n",
       "      <td>đầm a kiểu croptop phủ voan hàn quốc đính nơ c...</td>\n",
       "    </tr>\n",
       "  </tbody>\n",
       "</table>\n",
       "</div>"
      ],
      "text/plain": [
       "                                               names  \\\n",
       "0  dép quai ngang phối kim tuyến mirabella dep773...   \n",
       "1                                      rinne- tập 12   \n",
       "2                 tai nghe day joyroom jr-e203 (xam)   \n",
       "3                    giấy nhắc nhở dán lịch - loại 3   \n",
       "4  đầm a kiểu croptop phủ voan hàn quốc, đính nơ ...   \n",
       "\n",
       "                                         clean_names  \n",
       "0  dép_quai_ngang phối kim_tuyến mirabella dep773...  \n",
       "1                                       rinne tập 12  \n",
       "2                   tai nghe day joyroom jr e203 xam  \n",
       "3                      giấy nhắc_nhở dán lịch loại 3  \n",
       "4  đầm a kiểu croptop phủ voan hàn quốc đính nơ c...  "
      ]
     },
     "execution_count": 10,
     "metadata": {},
     "output_type": "execute_result"
    }
   ],
   "source": [
    "# apply clean_function to product['names']\n",
    "product['clean_names'] = product['names'].apply(lambda x: Lib.clean_function(x))\n",
    "product.head()"
   ]
  },
  {
   "cell_type": "code",
   "execution_count": 11,
   "id": "3578468d",
   "metadata": {},
   "outputs": [
    {
     "data": {
      "text/html": [
       "<div>\n",
       "<style scoped>\n",
       "    .dataframe tbody tr th:only-of-type {\n",
       "        vertical-align: middle;\n",
       "    }\n",
       "\n",
       "    .dataframe tbody tr th {\n",
       "        vertical-align: top;\n",
       "    }\n",
       "\n",
       "    .dataframe thead th {\n",
       "        text-align: right;\n",
       "    }\n",
       "</style>\n",
       "<table border=\"1\" class=\"dataframe\">\n",
       "  <thead>\n",
       "    <tr style=\"text-align: right;\">\n",
       "      <th></th>\n",
       "      <th>names</th>\n",
       "      <th>clean_names</th>\n",
       "      <th>words</th>\n",
       "    </tr>\n",
       "  </thead>\n",
       "  <tbody>\n",
       "    <tr>\n",
       "      <th>0</th>\n",
       "      <td>dép quai ngang phối kim tuyến mirabella dep773...</td>\n",
       "      <td>dép_quai_ngang phối kim_tuyến mirabella dep773...</td>\n",
       "      <td>6</td>\n",
       "    </tr>\n",
       "    <tr>\n",
       "      <th>1</th>\n",
       "      <td>rinne- tập 12</td>\n",
       "      <td>rinne tập 12</td>\n",
       "      <td>3</td>\n",
       "    </tr>\n",
       "    <tr>\n",
       "      <th>2</th>\n",
       "      <td>tai nghe day joyroom jr-e203 (xam)</td>\n",
       "      <td>tai nghe day joyroom jr e203 xam</td>\n",
       "      <td>7</td>\n",
       "    </tr>\n",
       "    <tr>\n",
       "      <th>3</th>\n",
       "      <td>giấy nhắc nhở dán lịch - loại 3</td>\n",
       "      <td>giấy nhắc_nhở dán lịch loại 3</td>\n",
       "      <td>6</td>\n",
       "    </tr>\n",
       "    <tr>\n",
       "      <th>4</th>\n",
       "      <td>đầm a kiểu croptop phủ voan hàn quốc, đính nơ ...</td>\n",
       "      <td>đầm a kiểu croptop phủ voan hàn quốc đính nơ c...</td>\n",
       "      <td>16</td>\n",
       "    </tr>\n",
       "  </tbody>\n",
       "</table>\n",
       "</div>"
      ],
      "text/plain": [
       "                                               names  \\\n",
       "0  dép quai ngang phối kim tuyến mirabella dep773...   \n",
       "1                                      rinne- tập 12   \n",
       "2                 tai nghe day joyroom jr-e203 (xam)   \n",
       "3                    giấy nhắc nhở dán lịch - loại 3   \n",
       "4  đầm a kiểu croptop phủ voan hàn quốc, đính nơ ...   \n",
       "\n",
       "                                         clean_names  words  \n",
       "0  dép_quai_ngang phối kim_tuyến mirabella dep773...      6  \n",
       "1                                       rinne tập 12      3  \n",
       "2                   tai nghe day joyroom jr e203 xam      7  \n",
       "3                      giấy nhắc_nhở dán lịch loại 3      6  \n",
       "4  đầm a kiểu croptop phủ voan hàn quốc đính nơ c...     16  "
      ]
     },
     "execution_count": 11,
     "metadata": {},
     "output_type": "execute_result"
    }
   ],
   "source": [
    "# calculate number of words of each product_names\n",
    "product['words'] = product['clean_names'].map(lambda x: len(x.split()))\n",
    "product.head()"
   ]
  },
  {
   "cell_type": "code",
   "execution_count": 12,
   "id": "3662be1d",
   "metadata": {},
   "outputs": [],
   "source": [
    "product.to_csv('data/product_names_clean.csv')"
   ]
  },
  {
   "cell_type": "code",
   "execution_count": 13,
   "id": "7396e640",
   "metadata": {},
   "outputs": [
    {
     "data": {
      "text/html": [
       "<div>\n",
       "<style scoped>\n",
       "    .dataframe tbody tr th:only-of-type {\n",
       "        vertical-align: middle;\n",
       "    }\n",
       "\n",
       "    .dataframe tbody tr th {\n",
       "        vertical-align: top;\n",
       "    }\n",
       "\n",
       "    .dataframe thead th {\n",
       "        text-align: right;\n",
       "    }\n",
       "</style>\n",
       "<table border=\"1\" class=\"dataframe\">\n",
       "  <thead>\n",
       "    <tr style=\"text-align: right;\">\n",
       "      <th></th>\n",
       "      <th>count</th>\n",
       "      <th>mean</th>\n",
       "      <th>std</th>\n",
       "      <th>min</th>\n",
       "      <th>25%</th>\n",
       "      <th>50%</th>\n",
       "      <th>75%</th>\n",
       "      <th>max</th>\n",
       "    </tr>\n",
       "  </thead>\n",
       "  <tbody>\n",
       "    <tr>\n",
       "      <th>words</th>\n",
       "      <td>49,362.0000</td>\n",
       "      <td>10.0175</td>\n",
       "      <td>3.9697</td>\n",
       "      <td>1.0000</td>\n",
       "      <td>7.0000</td>\n",
       "      <td>10.0000</td>\n",
       "      <td>12.0000</td>\n",
       "      <td>42.0000</td>\n",
       "    </tr>\n",
       "  </tbody>\n",
       "</table>\n",
       "</div>"
      ],
      "text/plain": [
       "            count    mean    std    min    25%     50%     75%     max\n",
       "words 49,362.0000 10.0175 3.9697 1.0000 7.0000 10.0000 12.0000 42.0000"
      ]
     },
     "execution_count": 13,
     "metadata": {},
     "output_type": "execute_result"
    }
   ],
   "source": [
    "product.describe().T"
   ]
  },
  {
   "cell_type": "code",
   "execution_count": 14,
   "id": "797d4dd2",
   "metadata": {},
   "outputs": [
    {
     "data": {
      "image/png": "[encoded data removed]",
      "text/plain": [
       "<Figure size 720x360 with 2 Axes>"
      ]
     },
     "metadata": {
      "needs_background": "light"
     },
     "output_type": "display_data"
    }
   ],
   "source": [
    "plt.figure(figsize=(10,5))\n",
    "plt.subplot(121)\n",
    "sns.distplot(product.words)\n",
    "plt.subplot(122)\n",
    "plt.boxplot(product.words)\n",
    "plt.suptitle('Distribution of number of words in product_names')\n",
    "plt.show()"
   ]
  },
  {
   "cell_type": "markdown",
   "id": "b252ed87",
   "metadata": {},
   "source": [
    "- Most of Product names are from 5-10 words, the most popular length is 10 (words)"
   ]
  },
  {
   "cell_type": "code",
   "execution_count": 15,
   "id": "33a33a8c",
   "metadata": {},
   "outputs": [
    {
     "data": {
      "image/png": "[encoded data removed]",
      "text/plain": [
       "<Figure size 720x360 with 1 Axes>"
      ]
     },
     "metadata": {
      "needs_background": "light"
     },
     "output_type": "display_data"
    }
   ],
   "source": [
    "# WordCloud\n",
    "wc= WordCloud(background_color='black')\n",
    "wc.generate(str(product['clean_names'].values))\n",
    "plt.figure(figsize=(10, 5))\n",
    "plt.imshow(wc, interpolation='bilinear')\n",
    "plt.title('Product names')\n",
    "plt.axis('off')\n",
    "plt.show()"
   ]
  },
  {
   "cell_type": "markdown",
   "id": "55ac07fb",
   "metadata": {
    "id": "55ac07fb"
   },
   "source": [
    "'100_query.txt'"
   ]
  },
  {
   "cell_type": "code",
   "execution_count": 16,
   "id": "55e33a6c",
   "metadata": {
    "executionInfo": {
     "elapsed": 26,
     "status": "aborted",
     "timestamp": 1646629004957,
     "user": {
      "displayName": "Phuong Dam",
      "photoUrl": "https://lh3.googleusercontent.com/a/default-user=s64",
      "userId": "01072403895711103873"
     },
     "user_tz": -420
    },
    "id": "55e33a6c",
    "outputId": "1bc99288-dcea-422d-8a9e-a84112794f63"
   },
   "outputs": [
    {
     "data": {
      "text/plain": [
       "(100, 1)"
      ]
     },
     "execution_count": 16,
     "metadata": {},
     "output_type": "execute_result"
    }
   ],
   "source": [
    "# Load data 'query.csv'\n",
    "query = pd.read_csv('data/100_query.txt', header=None, names=['query'])\n",
    "query.shape"
   ]
  },
  {
   "cell_type": "code",
   "execution_count": 17,
   "id": "6318c7f3",
   "metadata": {
    "executionInfo": {
     "elapsed": 27,
     "status": "aborted",
     "timestamp": 1646629004958,
     "user": {
      "displayName": "Phuong Dam",
      "photoUrl": "https://lh3.googleusercontent.com/a/default-user=s64",
      "userId": "01072403895711103873"
     },
     "user_tz": -420
    },
    "id": "6318c7f3",
    "outputId": "c4f3b8e8-fd30-4698-8afe-8e23fa94a03b"
   },
   "outputs": [
    {
     "data": {
      "text/html": [
       "<div>\n",
       "<style scoped>\n",
       "    .dataframe tbody tr th:only-of-type {\n",
       "        vertical-align: middle;\n",
       "    }\n",
       "\n",
       "    .dataframe tbody tr th {\n",
       "        vertical-align: top;\n",
       "    }\n",
       "\n",
       "    .dataframe thead th {\n",
       "        text-align: right;\n",
       "    }\n",
       "</style>\n",
       "<table border=\"1\" class=\"dataframe\">\n",
       "  <thead>\n",
       "    <tr style=\"text-align: right;\">\n",
       "      <th></th>\n",
       "      <th>query</th>\n",
       "    </tr>\n",
       "  </thead>\n",
       "  <tbody>\n",
       "    <tr>\n",
       "      <th>0</th>\n",
       "      <td>sách</td>\n",
       "    </tr>\n",
       "    <tr>\n",
       "      <th>1</th>\n",
       "      <td>tai nghe</td>\n",
       "    </tr>\n",
       "    <tr>\n",
       "      <th>2</th>\n",
       "      <td>balo</td>\n",
       "    </tr>\n",
       "    <tr>\n",
       "      <th>3</th>\n",
       "      <td>anker</td>\n",
       "    </tr>\n",
       "    <tr>\n",
       "      <th>4</th>\n",
       "      <td>bitis</td>\n",
       "    </tr>\n",
       "  </tbody>\n",
       "</table>\n",
       "</div>"
      ],
      "text/plain": [
       "      query\n",
       "0      sách\n",
       "1  tai nghe\n",
       "2      balo\n",
       "3     anker\n",
       "4     bitis"
      ]
     },
     "execution_count": 17,
     "metadata": {},
     "output_type": "execute_result"
    }
   ],
   "source": [
    "query.head()"
   ]
  },
  {
   "cell_type": "code",
   "execution_count": 18,
   "id": "6956d434",
   "metadata": {
    "executionInfo": {
     "elapsed": 27,
     "status": "aborted",
     "timestamp": 1646629004958,
     "user": {
      "displayName": "Phuong Dam",
      "photoUrl": "https://lh3.googleusercontent.com/a/default-user=s64",
      "userId": "01072403895711103873"
     },
     "user_tz": -420
    },
    "id": "6956d434",
    "outputId": "b605570e-e60a-46f1-ed6d-dbaf5106e89e"
   },
   "outputs": [
    {
     "name": "stdout",
     "output_type": "stream",
     "text": [
      "<class 'pandas.core.frame.DataFrame'>\n",
      "RangeIndex: 100 entries, 0 to 99\n",
      "Data columns (total 1 columns):\n",
      " #   Column  Non-Null Count  Dtype \n",
      "---  ------  --------------  ----- \n",
      " 0   query   100 non-null    object\n",
      "dtypes: object(1)\n",
      "memory usage: 928.0+ bytes\n"
     ]
    }
   ],
   "source": [
    "query.info()"
   ]
  },
  {
   "cell_type": "code",
   "execution_count": 19,
   "id": "acecb8ee",
   "metadata": {
    "executionInfo": {
     "elapsed": 26,
     "status": "aborted",
     "timestamp": 1646629004958,
     "user": {
      "displayName": "Phuong Dam",
      "photoUrl": "https://lh3.googleusercontent.com/a/default-user=s64",
      "userId": "01072403895711103873"
     },
     "user_tz": -420
    },
    "id": "acecb8ee",
    "outputId": "1fdd3426-27ed-4838-e39b-bd9ae6c93a6c"
   },
   "outputs": [
    {
     "name": "stdout",
     "output_type": "stream",
     "text": [
      "Number of duplicated rows: 0\n"
     ]
    },
    {
     "data": {
      "text/plain": [
       "(100, 1)"
      ]
     },
     "execution_count": 19,
     "metadata": {},
     "output_type": "execute_result"
    }
   ],
   "source": [
    "print('Number of duplicated rows:', query.duplicated().sum())\n",
    "query = query.drop_duplicates().reset_index(drop=True)\n",
    "query.shape"
   ]
  },
  {
   "cell_type": "code",
   "execution_count": 20,
   "id": "23bc7a26",
   "metadata": {},
   "outputs": [
    {
     "data": {
      "text/plain": [
       "query    False\n",
       "dtype: bool"
      ]
     },
     "execution_count": 20,
     "metadata": {},
     "output_type": "execute_result"
    }
   ],
   "source": [
    "# Check if there is any null value\n",
    "query.isnull().any()"
   ]
  },
  {
   "cell_type": "code",
   "execution_count": 21,
   "id": "408fa2e5",
   "metadata": {},
   "outputs": [],
   "source": [
    "# Apply clean_function to query\n",
    "query['clean_query'] = query['query'].apply(lambda x: Lib.clean_function(x))"
   ]
  },
  {
   "cell_type": "code",
   "execution_count": 22,
   "id": "860c8383",
   "metadata": {},
   "outputs": [
    {
     "data": {
      "text/html": [
       "<div>\n",
       "<style scoped>\n",
       "    .dataframe tbody tr th:only-of-type {\n",
       "        vertical-align: middle;\n",
       "    }\n",
       "\n",
       "    .dataframe tbody tr th {\n",
       "        vertical-align: top;\n",
       "    }\n",
       "\n",
       "    .dataframe thead th {\n",
       "        text-align: right;\n",
       "    }\n",
       "</style>\n",
       "<table border=\"1\" class=\"dataframe\">\n",
       "  <thead>\n",
       "    <tr style=\"text-align: right;\">\n",
       "      <th></th>\n",
       "      <th>query</th>\n",
       "      <th>clean_query</th>\n",
       "    </tr>\n",
       "  </thead>\n",
       "  <tbody>\n",
       "    <tr>\n",
       "      <th>0</th>\n",
       "      <td>sách</td>\n",
       "      <td>sách</td>\n",
       "    </tr>\n",
       "    <tr>\n",
       "      <th>1</th>\n",
       "      <td>tai nghe</td>\n",
       "      <td>tai nghe</td>\n",
       "    </tr>\n",
       "    <tr>\n",
       "      <th>2</th>\n",
       "      <td>balo</td>\n",
       "      <td>balo</td>\n",
       "    </tr>\n",
       "    <tr>\n",
       "      <th>3</th>\n",
       "      <td>anker</td>\n",
       "      <td>anker</td>\n",
       "    </tr>\n",
       "    <tr>\n",
       "      <th>4</th>\n",
       "      <td>bitis</td>\n",
       "      <td>bitis</td>\n",
       "    </tr>\n",
       "    <tr>\n",
       "      <th>5</th>\n",
       "      <td>conan</td>\n",
       "      <td>conan</td>\n",
       "    </tr>\n",
       "    <tr>\n",
       "      <th>6</th>\n",
       "      <td>xiaomi</td>\n",
       "      <td>xiaomi</td>\n",
       "    </tr>\n",
       "    <tr>\n",
       "      <th>7</th>\n",
       "      <td>nguyễn nhật ánh</td>\n",
       "      <td>nguyễn_nhật ánh</td>\n",
       "    </tr>\n",
       "    <tr>\n",
       "      <th>8</th>\n",
       "      <td>đắc nhân tâm</td>\n",
       "      <td>đắc_nhân_tâm</td>\n",
       "    </tr>\n",
       "    <tr>\n",
       "      <th>9</th>\n",
       "      <td>harry potter</td>\n",
       "      <td>harry potter</td>\n",
       "    </tr>\n",
       "  </tbody>\n",
       "</table>\n",
       "</div>"
      ],
      "text/plain": [
       "             query      clean_query\n",
       "0             sách             sách\n",
       "1         tai nghe         tai nghe\n",
       "2             balo             balo\n",
       "3            anker            anker\n",
       "4            bitis            bitis\n",
       "5            conan            conan\n",
       "6           xiaomi           xiaomi\n",
       "7  nguyễn nhật ánh  nguyễn_nhật ánh\n",
       "8     đắc nhân tâm     đắc_nhân_tâm\n",
       "9     harry potter     harry potter"
      ]
     },
     "execution_count": 22,
     "metadata": {},
     "output_type": "execute_result"
    }
   ],
   "source": [
    "query.head(10)"
   ]
  },
  {
   "cell_type": "code",
   "execution_count": 23,
   "id": "d0d28742",
   "metadata": {},
   "outputs": [
    {
     "data": {
      "text/html": [
       "<div>\n",
       "<style scoped>\n",
       "    .dataframe tbody tr th:only-of-type {\n",
       "        vertical-align: middle;\n",
       "    }\n",
       "\n",
       "    .dataframe tbody tr th {\n",
       "        vertical-align: top;\n",
       "    }\n",
       "\n",
       "    .dataframe thead th {\n",
       "        text-align: right;\n",
       "    }\n",
       "</style>\n",
       "<table border=\"1\" class=\"dataframe\">\n",
       "  <thead>\n",
       "    <tr style=\"text-align: right;\">\n",
       "      <th></th>\n",
       "      <th>query</th>\n",
       "      <th>clean_query</th>\n",
       "    </tr>\n",
       "  </thead>\n",
       "  <tbody>\n",
       "    <tr>\n",
       "      <th>90</th>\n",
       "      <td>thẻ cào</td>\n",
       "      <td>thẻ cào</td>\n",
       "    </tr>\n",
       "    <tr>\n",
       "      <th>91</th>\n",
       "      <td>nguyen nhat anh</td>\n",
       "      <td>nguyen nhat anh</td>\n",
       "    </tr>\n",
       "    <tr>\n",
       "      <th>92</th>\n",
       "      <td>innisfree</td>\n",
       "      <td>innisfree</td>\n",
       "    </tr>\n",
       "    <tr>\n",
       "      <th>93</th>\n",
       "      <td>giày nữ</td>\n",
       "      <td>giày nữ</td>\n",
       "    </tr>\n",
       "    <tr>\n",
       "      <th>94</th>\n",
       "      <td>ehon</td>\n",
       "      <td>ehon</td>\n",
       "    </tr>\n",
       "    <tr>\n",
       "      <th>95</th>\n",
       "      <td>blockchain</td>\n",
       "      <td>blockchain</td>\n",
       "    </tr>\n",
       "    <tr>\n",
       "      <th>96</th>\n",
       "      <td>za</td>\n",
       "      <td>za</td>\n",
       "    </tr>\n",
       "    <tr>\n",
       "      <th>97</th>\n",
       "      <td>light novel</td>\n",
       "      <td>light novel</td>\n",
       "    </tr>\n",
       "    <tr>\n",
       "      <th>98</th>\n",
       "      <td>máy nghe nhạc</td>\n",
       "      <td>máy nghe nhạc</td>\n",
       "    </tr>\n",
       "    <tr>\n",
       "      <th>99</th>\n",
       "      <td>sổ</td>\n",
       "      <td>sổ</td>\n",
       "    </tr>\n",
       "  </tbody>\n",
       "</table>\n",
       "</div>"
      ],
      "text/plain": [
       "              query      clean_query\n",
       "90          thẻ cào          thẻ cào\n",
       "91  nguyen nhat anh  nguyen nhat anh\n",
       "92        innisfree        innisfree\n",
       "93          giày nữ          giày nữ\n",
       "94             ehon             ehon\n",
       "95       blockchain       blockchain\n",
       "96               za               za\n",
       "97      light novel      light novel\n",
       "98    máy nghe nhạc    máy nghe nhạc\n",
       "99               sổ               sổ"
      ]
     },
     "execution_count": 23,
     "metadata": {},
     "output_type": "execute_result"
    }
   ],
   "source": [
    "query.tail(10)"
   ]
  },
  {
   "cell_type": "code",
   "execution_count": 24,
   "id": "f26df9bf",
   "metadata": {},
   "outputs": [
    {
     "data": {
      "text/html": [
       "<div>\n",
       "<style scoped>\n",
       "    .dataframe tbody tr th:only-of-type {\n",
       "        vertical-align: middle;\n",
       "    }\n",
       "\n",
       "    .dataframe tbody tr th {\n",
       "        vertical-align: top;\n",
       "    }\n",
       "\n",
       "    .dataframe thead th {\n",
       "        text-align: right;\n",
       "    }\n",
       "</style>\n",
       "<table border=\"1\" class=\"dataframe\">\n",
       "  <thead>\n",
       "    <tr style=\"text-align: right;\">\n",
       "      <th></th>\n",
       "      <th>query</th>\n",
       "      <th>clean_query</th>\n",
       "      <th>words</th>\n",
       "    </tr>\n",
       "  </thead>\n",
       "  <tbody>\n",
       "    <tr>\n",
       "      <th>0</th>\n",
       "      <td>sách</td>\n",
       "      <td>sách</td>\n",
       "      <td>1</td>\n",
       "    </tr>\n",
       "    <tr>\n",
       "      <th>1</th>\n",
       "      <td>tai nghe</td>\n",
       "      <td>tai nghe</td>\n",
       "      <td>2</td>\n",
       "    </tr>\n",
       "    <tr>\n",
       "      <th>2</th>\n",
       "      <td>balo</td>\n",
       "      <td>balo</td>\n",
       "      <td>1</td>\n",
       "    </tr>\n",
       "    <tr>\n",
       "      <th>3</th>\n",
       "      <td>anker</td>\n",
       "      <td>anker</td>\n",
       "      <td>1</td>\n",
       "    </tr>\n",
       "    <tr>\n",
       "      <th>4</th>\n",
       "      <td>bitis</td>\n",
       "      <td>bitis</td>\n",
       "      <td>1</td>\n",
       "    </tr>\n",
       "  </tbody>\n",
       "</table>\n",
       "</div>"
      ],
      "text/plain": [
       "      query clean_query  words\n",
       "0      sách        sách      1\n",
       "1  tai nghe    tai nghe      2\n",
       "2      balo        balo      1\n",
       "3     anker       anker      1\n",
       "4     bitis       bitis      1"
      ]
     },
     "execution_count": 24,
     "metadata": {},
     "output_type": "execute_result"
    }
   ],
   "source": [
    "# calculate number of words of each query\n",
    "query['words'] = query['clean_query'].map(lambda x: len(x.split()))\n",
    "query.head()"
   ]
  },
  {
   "cell_type": "code",
   "execution_count": 25,
   "id": "a901eac5",
   "metadata": {},
   "outputs": [],
   "source": [
    "query.to_csv('data/query_clean.csv')"
   ]
  },
  {
   "cell_type": "code",
   "execution_count": 26,
   "id": "b23c34a8",
   "metadata": {},
   "outputs": [
    {
     "data": {
      "text/html": [
       "<div>\n",
       "<style scoped>\n",
       "    .dataframe tbody tr th:only-of-type {\n",
       "        vertical-align: middle;\n",
       "    }\n",
       "\n",
       "    .dataframe tbody tr th {\n",
       "        vertical-align: top;\n",
       "    }\n",
       "\n",
       "    .dataframe thead th {\n",
       "        text-align: right;\n",
       "    }\n",
       "</style>\n",
       "<table border=\"1\" class=\"dataframe\">\n",
       "  <thead>\n",
       "    <tr style=\"text-align: right;\">\n",
       "      <th></th>\n",
       "      <th>count</th>\n",
       "      <th>mean</th>\n",
       "      <th>std</th>\n",
       "      <th>min</th>\n",
       "      <th>25%</th>\n",
       "      <th>50%</th>\n",
       "      <th>75%</th>\n",
       "      <th>max</th>\n",
       "    </tr>\n",
       "  </thead>\n",
       "  <tbody>\n",
       "    <tr>\n",
       "      <th>words</th>\n",
       "      <td>100.0000</td>\n",
       "      <td>1.6700</td>\n",
       "      <td>0.7921</td>\n",
       "      <td>1.0000</td>\n",
       "      <td>1.0000</td>\n",
       "      <td>1.0000</td>\n",
       "      <td>2.0000</td>\n",
       "      <td>4.0000</td>\n",
       "    </tr>\n",
       "  </tbody>\n",
       "</table>\n",
       "</div>"
      ],
      "text/plain": [
       "         count   mean    std    min    25%    50%    75%    max\n",
       "words 100.0000 1.6700 0.7921 1.0000 1.0000 1.0000 2.0000 4.0000"
      ]
     },
     "execution_count": 26,
     "metadata": {},
     "output_type": "execute_result"
    }
   ],
   "source": [
    "query.describe().T"
   ]
  },
  {
   "cell_type": "code",
   "execution_count": 27,
   "id": "aa2bd19c",
   "metadata": {
    "scrolled": false
   },
   "outputs": [
    {
     "data": {
      "image/png": "[encoded data removed]",
      "text/plain": [
       "<Figure size 720x360 with 2 Axes>"
      ]
     },
     "metadata": {
      "needs_background": "light"
     },
     "output_type": "display_data"
    }
   ],
   "source": [
    "plt.figure(figsize=(10,5))\n",
    "plt.subplot(121)\n",
    "sns.distplot(query.words)\n",
    "plt.subplot(122)\n",
    "plt.boxplot(query.words)\n",
    "plt.suptitle('Distribution of number of words in query')\n",
    "plt.show()"
   ]
  },
  {
   "cell_type": "markdown",
   "id": "d44ba4a0",
   "metadata": {},
   "source": [
    "- Most of queries are from 1-3 words, the longest query has 4 words¶"
   ]
  },
  {
   "cell_type": "code",
   "execution_count": 28,
   "id": "0d7772f4",
   "metadata": {},
   "outputs": [
    {
     "data": {
      "image/png": "[encoded data removed]",
      "text/plain": [
       "<Figure size 720x360 with 1 Axes>"
      ]
     },
     "metadata": {
      "needs_background": "light"
     },
     "output_type": "display_data"
    }
   ],
   "source": [
    "# WordCloud\n",
    "wc2= WordCloud(background_color='black')\n",
    "wc2.generate(str(query['clean_query'].values))\n",
    "plt.figure(figsize=(10, 5))\n",
    "plt.imshow(wc2, interpolation='bilinear')\n",
    "plt.title('Product names')\n",
    "plt.axis('off')\n",
    "plt.show()"
   ]
  },
  {
   "cell_type": "markdown",
   "id": "7c804ed8",
   "metadata": {},
   "source": [
    "# 2. Data Preparation"
   ]
  },
  {
   "cell_type": "markdown",
   "id": "862e05e9",
   "metadata": {},
   "source": [
    "Load Vietnamese stopwords and combine with English stopwords"
   ]
  },
  {
   "cell_type": "code",
   "execution_count": 29,
   "id": "2e85da52",
   "metadata": {},
   "outputs": [],
   "source": [
    "# import Vietnamese stopwords\n",
    "with open('data/vietnamese-stopwords.txt', 'r', encoding='utf-8') as file:\n",
    "    vn_stop_words = file.read()\n",
    "vn_stop_words = vn_stop_words.split('\\n') \n",
    "\n",
    "# combine Vietnamese stopwords and English stopwords\n",
    "stop_words = ENGLISH_STOP_WORDS.union(vn_stop_words)"
   ]
  },
  {
   "cell_type": "code",
   "execution_count": 30,
   "id": "8b11567e",
   "metadata": {},
   "outputs": [
    {
     "data": {
      "text/plain": [
       "(49362, 43663)"
      ]
     },
     "execution_count": 30,
     "metadata": {},
     "output_type": "execute_result"
    }
   ],
   "source": [
    "# Vectorize product names using TF-IDF\n",
    "tf = TfidfVectorizer(analyzer='word', stop_words=stop_words, min_df=0)\n",
    "tf = tf.fit(product['clean_names'])\n",
    "tfidf_matrix = tf.transform(product['clean_names'])\n",
    "tfidf_matrix.shape"
   ]
  },
  {
   "cell_type": "code",
   "execution_count": 31,
   "id": "eb53aa7c",
   "metadata": {},
   "outputs": [
    {
     "data": {
      "text/html": [
       "<div>\n",
       "<style scoped>\n",
       "    .dataframe tbody tr th:only-of-type {\n",
       "        vertical-align: middle;\n",
       "    }\n",
       "\n",
       "    .dataframe tbody tr th {\n",
       "        vertical-align: top;\n",
       "    }\n",
       "\n",
       "    .dataframe thead th {\n",
       "        text-align: right;\n",
       "    }\n",
       "</style>\n",
       "<table border=\"1\" class=\"dataframe\">\n",
       "  <thead>\n",
       "    <tr style=\"text-align: right;\">\n",
       "      <th></th>\n",
       "      <th>10</th>\n",
       "      <th>100</th>\n",
       "      <th>1000</th>\n",
       "      <th>10000</th>\n",
       "      <th>10001</th>\n",
       "      <th>10002</th>\n",
       "      <th>1000250</th>\n",
       "      <th>1000257</th>\n",
       "      <th>10003</th>\n",
       "      <th>1000347</th>\n",
       "      <th>...</th>\n",
       "      <th>ớt</th>\n",
       "      <th>ớt_hiểm</th>\n",
       "      <th>ủi</th>\n",
       "      <th>ủy</th>\n",
       "      <th>ủy_quyền</th>\n",
       "      <th>ủy_thác</th>\n",
       "      <th>ứng_dụng</th>\n",
       "      <th>ứng_phó</th>\n",
       "      <th>ứng_xử</th>\n",
       "      <th>ứớt</th>\n",
       "    </tr>\n",
       "  </thead>\n",
       "  <tbody>\n",
       "    <tr>\n",
       "      <th>0</th>\n",
       "      <td>0.0000</td>\n",
       "      <td>0.0000</td>\n",
       "      <td>0.0000</td>\n",
       "      <td>0.0000</td>\n",
       "      <td>0.0000</td>\n",
       "      <td>0.0000</td>\n",
       "      <td>0.0000</td>\n",
       "      <td>0.0000</td>\n",
       "      <td>0.0000</td>\n",
       "      <td>0.0000</td>\n",
       "      <td>...</td>\n",
       "      <td>0.0000</td>\n",
       "      <td>0.0000</td>\n",
       "      <td>0.0000</td>\n",
       "      <td>0.0000</td>\n",
       "      <td>0.0000</td>\n",
       "      <td>0.0000</td>\n",
       "      <td>0.0000</td>\n",
       "      <td>0.0000</td>\n",
       "      <td>0.0000</td>\n",
       "      <td>0.0000</td>\n",
       "    </tr>\n",
       "    <tr>\n",
       "      <th>1</th>\n",
       "      <td>0.0000</td>\n",
       "      <td>0.0000</td>\n",
       "      <td>0.0000</td>\n",
       "      <td>0.0000</td>\n",
       "      <td>0.0000</td>\n",
       "      <td>0.0000</td>\n",
       "      <td>0.0000</td>\n",
       "      <td>0.0000</td>\n",
       "      <td>0.0000</td>\n",
       "      <td>0.0000</td>\n",
       "      <td>...</td>\n",
       "      <td>0.0000</td>\n",
       "      <td>0.0000</td>\n",
       "      <td>0.0000</td>\n",
       "      <td>0.0000</td>\n",
       "      <td>0.0000</td>\n",
       "      <td>0.0000</td>\n",
       "      <td>0.0000</td>\n",
       "      <td>0.0000</td>\n",
       "      <td>0.0000</td>\n",
       "      <td>0.0000</td>\n",
       "    </tr>\n",
       "    <tr>\n",
       "      <th>2</th>\n",
       "      <td>0.0000</td>\n",
       "      <td>0.0000</td>\n",
       "      <td>0.0000</td>\n",
       "      <td>0.0000</td>\n",
       "      <td>0.0000</td>\n",
       "      <td>0.0000</td>\n",
       "      <td>0.0000</td>\n",
       "      <td>0.0000</td>\n",
       "      <td>0.0000</td>\n",
       "      <td>0.0000</td>\n",
       "      <td>...</td>\n",
       "      <td>0.0000</td>\n",
       "      <td>0.0000</td>\n",
       "      <td>0.0000</td>\n",
       "      <td>0.0000</td>\n",
       "      <td>0.0000</td>\n",
       "      <td>0.0000</td>\n",
       "      <td>0.0000</td>\n",
       "      <td>0.0000</td>\n",
       "      <td>0.0000</td>\n",
       "      <td>0.0000</td>\n",
       "    </tr>\n",
       "    <tr>\n",
       "      <th>3</th>\n",
       "      <td>0.0000</td>\n",
       "      <td>0.0000</td>\n",
       "      <td>0.0000</td>\n",
       "      <td>0.0000</td>\n",
       "      <td>0.0000</td>\n",
       "      <td>0.0000</td>\n",
       "      <td>0.0000</td>\n",
       "      <td>0.0000</td>\n",
       "      <td>0.0000</td>\n",
       "      <td>0.0000</td>\n",
       "      <td>...</td>\n",
       "      <td>0.0000</td>\n",
       "      <td>0.0000</td>\n",
       "      <td>0.0000</td>\n",
       "      <td>0.0000</td>\n",
       "      <td>0.0000</td>\n",
       "      <td>0.0000</td>\n",
       "      <td>0.0000</td>\n",
       "      <td>0.0000</td>\n",
       "      <td>0.0000</td>\n",
       "      <td>0.0000</td>\n",
       "    </tr>\n",
       "    <tr>\n",
       "      <th>4</th>\n",
       "      <td>0.0000</td>\n",
       "      <td>0.0000</td>\n",
       "      <td>0.0000</td>\n",
       "      <td>0.0000</td>\n",
       "      <td>0.0000</td>\n",
       "      <td>0.0000</td>\n",
       "      <td>0.0000</td>\n",
       "      <td>0.0000</td>\n",
       "      <td>0.0000</td>\n",
       "      <td>0.0000</td>\n",
       "      <td>...</td>\n",
       "      <td>0.0000</td>\n",
       "      <td>0.0000</td>\n",
       "      <td>0.0000</td>\n",
       "      <td>0.0000</td>\n",
       "      <td>0.0000</td>\n",
       "      <td>0.0000</td>\n",
       "      <td>0.0000</td>\n",
       "      <td>0.0000</td>\n",
       "      <td>0.0000</td>\n",
       "      <td>0.0000</td>\n",
       "    </tr>\n",
       "  </tbody>\n",
       "</table>\n",
       "<p>5 rows × 43663 columns</p>\n",
       "</div>"
      ],
      "text/plain": [
       "      10    100   1000  10000  10001  10002  1000250  1000257  10003  1000347  \\\n",
       "0 0.0000 0.0000 0.0000 0.0000 0.0000 0.0000   0.0000   0.0000 0.0000   0.0000   \n",
       "1 0.0000 0.0000 0.0000 0.0000 0.0000 0.0000   0.0000   0.0000 0.0000   0.0000   \n",
       "2 0.0000 0.0000 0.0000 0.0000 0.0000 0.0000   0.0000   0.0000 0.0000   0.0000   \n",
       "3 0.0000 0.0000 0.0000 0.0000 0.0000 0.0000   0.0000   0.0000 0.0000   0.0000   \n",
       "4 0.0000 0.0000 0.0000 0.0000 0.0000 0.0000   0.0000   0.0000 0.0000   0.0000   \n",
       "\n",
       "   ...     ớt  ớt_hiểm     ủi     ủy  ủy_quyền  ủy_thác  ứng_dụng  ứng_phó  \\\n",
       "0  ... 0.0000   0.0000 0.0000 0.0000    0.0000   0.0000    0.0000   0.0000   \n",
       "1  ... 0.0000   0.0000 0.0000 0.0000    0.0000   0.0000    0.0000   0.0000   \n",
       "2  ... 0.0000   0.0000 0.0000 0.0000    0.0000   0.0000    0.0000   0.0000   \n",
       "3  ... 0.0000   0.0000 0.0000 0.0000    0.0000   0.0000    0.0000   0.0000   \n",
       "4  ... 0.0000   0.0000 0.0000 0.0000    0.0000   0.0000    0.0000   0.0000   \n",
       "\n",
       "   ứng_xử    ứớt  \n",
       "0  0.0000 0.0000  \n",
       "1  0.0000 0.0000  \n",
       "2  0.0000 0.0000  \n",
       "3  0.0000 0.0000  \n",
       "4  0.0000 0.0000  \n",
       "\n",
       "[5 rows x 43663 columns]"
      ]
     },
     "execution_count": 31,
     "metadata": {},
     "output_type": "execute_result"
    }
   ],
   "source": [
    "# Convert tfidf_matrix to dataframe\n",
    "tfidf_matrix = pd.DataFrame(tfidf_matrix.toarray(), \n",
    "                        columns=tf.get_feature_names()\n",
    "                       )\n",
    "tfidf_matrix.head()"
   ]
  },
  {
   "cell_type": "code",
   "execution_count": 32,
   "id": "7c5df7be",
   "metadata": {},
   "outputs": [],
   "source": [
    "# Reduce dimension of tfidf_matrix using Principal component analysis\n",
    "pca = PCA(n_components=10, svd_solver='randomized', random_state=42)\n",
    "pca = pca.fit(tfidf_matrix)\n",
    "names_pca = pca.transform(tfidf_matrix)"
   ]
  },
  {
   "cell_type": "code",
   "execution_count": 33,
   "id": "87c09f0e",
   "metadata": {},
   "outputs": [
    {
     "data": {
      "text/plain": [
       "(49362, 10)"
      ]
     },
     "execution_count": 33,
     "metadata": {},
     "output_type": "execute_result"
    }
   ],
   "source": [
    "names_pca.shape"
   ]
  },
  {
   "cell_type": "code",
   "execution_count": 34,
   "id": "2ee28433",
   "metadata": {},
   "outputs": [],
   "source": [
    "# save tfidf result and pca result to csv\n",
    "pd.DataFrame(names_pca).to_csv(\"data/names_pca.csv\")"
   ]
  },
  {
   "cell_type": "code",
   "execution_count": 35,
   "id": "f0e255e8",
   "metadata": {},
   "outputs": [
    {
     "data": {
      "image/png": "[encoded data removed]",
      "text/plain": [
       "<Figure size 432x288 with 1 Axes>"
      ]
     },
     "metadata": {
      "needs_background": "light"
     },
     "output_type": "display_data"
    }
   ],
   "source": [
    "PC_values = np.arange(pca.n_components_) + 1\n",
    "plt.plot(PC_values, pca.explained_variance_ratio_, 'o-', linewidth=2, color='blue')\n",
    "plt.title('Scree Plot')\n",
    "plt.xlabel('Principal Component')\n",
    "plt.ylabel('Variance Explained')\n",
    "plt.show()"
   ]
  },
  {
   "cell_type": "code",
   "execution_count": 36,
   "id": "dcb8387d",
   "metadata": {},
   "outputs": [
    {
     "name": "stdout",
     "output_type": "stream",
     "text": [
      "[0.00761216 0.00513455 0.00499807 0.00464378 0.00386702 0.00343739\n",
      " 0.00319274 0.00309117 0.0029884  0.00292551]\n"
     ]
    }
   ],
   "source": [
    "print(pca.explained_variance_ratio_)"
   ]
  },
  {
   "cell_type": "code",
   "execution_count": 37,
   "id": "41cf3995",
   "metadata": {},
   "outputs": [
    {
     "name": "stdout",
     "output_type": "stream",
     "text": [
      "0.04189077421163399\n"
     ]
    }
   ],
   "source": [
    "print(pca.explained_variance_ratio_.sum())"
   ]
  },
  {
   "cell_type": "markdown",
   "id": "c91922d8",
   "metadata": {},
   "source": [
    "- Tổng phương sai giữ lại sau khi PCA chỉ còn ~4% - khá là thấp, có thể nhiều thông tin đã bị mất khi PCA.\n",
    "- Để kiểm tra, ta sẽ tiến hành reverse PCA và tính rmse của dữ liệu sau khi reverse với dữ liệu gốc."
   ]
  },
  {
   "cell_type": "code",
   "execution_count": 38,
   "id": "4e68431d",
   "metadata": {},
   "outputs": [
    {
     "data": {
      "text/plain": [
       "array([ 5.69091530e-03, -2.48816695e-04,  7.15434961e-04, ...,\n",
       "        9.52111718e-06,  4.01639497e-05,  1.43810442e-05])"
      ]
     },
     "execution_count": 38,
     "metadata": {},
     "output_type": "execute_result"
    }
   ],
   "source": [
    "# Reverse PCA\n",
    "mu = np.mean(tfidf_matrix, axis=0)\n",
    "nComp = 10\n",
    "rev_names_pca = np.dot(pca.transform(tfidf_matrix)[:,:nComp], pca.components_[:nComp,:])\n",
    "rev_names_pca += mu\n",
    "\n",
    "rev_names_pca[0,]"
   ]
  },
  {
   "cell_type": "code",
   "execution_count": 39,
   "id": "68c63259",
   "metadata": {
    "scrolled": true
   },
   "outputs": [
    {
     "data": {
      "text/plain": [
       "(49362, 43663)"
      ]
     },
     "execution_count": 39,
     "metadata": {},
     "output_type": "execute_result"
    }
   ],
   "source": [
    "#Check the shape of the reversed data\n",
    "rev_names_pca.shape"
   ]
  },
  {
   "cell_type": "code",
   "execution_count": 40,
   "id": "3715a167",
   "metadata": {},
   "outputs": [
    {
     "data": {
      "text/plain": [
       "0.0046691464792278725"
      ]
     },
     "execution_count": 40,
     "metadata": {},
     "output_type": "execute_result"
    }
   ],
   "source": [
    "#Calculate root mean square error\n",
    "mse = mean_squared_error(tfidf_matrix, rev_names_pca)\n",
    "rmse = math.sqrt(mse)\n",
    "rmse"
   ]
  },
  {
   "cell_type": "code",
   "execution_count": 41,
   "id": "9f2edc6b",
   "metadata": {},
   "outputs": [
    {
     "data": {
      "text/plain": [
       "0.0035336455130205494"
      ]
     },
     "execution_count": 41,
     "metadata": {},
     "output_type": "execute_result"
    }
   ],
   "source": [
    "#Calculate standard deviation\n",
    "std = tfidf_matrix.std().mean()\n",
    "std"
   ]
  },
  {
   "cell_type": "markdown",
   "id": "07549a4f",
   "metadata": {},
   "source": [
    "- Ta thấy rằng hai chỉ số RMSE và std không chênh lệch quá nhiều nên ta có thể chấp nhận kết quả PCA này."
   ]
  },
  {
   "cell_type": "code",
   "execution_count": 42,
   "id": "bee8e33a",
   "metadata": {},
   "outputs": [],
   "source": [
    "#Save models\n",
    "with open('tfidf.pkl', 'wb') as file:  \n",
    "    pickle.dump(tf, file)\n",
    "with open('pca.pkl', 'wb') as file:  \n",
    "    pickle.dump(pca, file)"
   ]
  },
  {
   "cell_type": "markdown",
   "id": "b07fd2fb",
   "metadata": {},
   "source": [
    "# 3. Build Search Engine\n",
    "Technique used:\n",
    "1. NearestNeighbors with PCA and with out PCA\n",
    "2. Cosine Similarity with PCA and with out PCA\n",
    "3. Jaccard Similarity (Character Similarity)\n",
    "4. Gensim\n"
   ]
  },
  {
   "cell_type": "markdown",
   "id": "5513d8cb",
   "metadata": {},
   "source": [
    "## 3.1.a NearestNeighbors with PCA \n",
    "Write functions for Search a single query, include below steps:\n",
    "- Load the models (tfidf, pca)\n",
    "- Load the data\n",
    "- Apply clean_funtion to query\n",
    "- Vectorize query\n",
    "- Reduce dimension to 10 components\n",
    "- Fit data and Find 5 nearest neighbors\n",
    "- Return results"
   ]
  },
  {
   "cell_type": "code",
   "execution_count": 43,
   "id": "31a25c6d",
   "metadata": {},
   "outputs": [
    {
     "name": "stdout",
     "output_type": "stream",
     "text": [
      "Time: 0.28931093215942383\n"
     ]
    },
    {
     "data": {
      "text/html": [
       "<div>\n",
       "<style scoped>\n",
       "    .dataframe tbody tr th:only-of-type {\n",
       "        vertical-align: middle;\n",
       "    }\n",
       "\n",
       "    .dataframe tbody tr th {\n",
       "        vertical-align: top;\n",
       "    }\n",
       "\n",
       "    .dataframe thead th {\n",
       "        text-align: right;\n",
       "    }\n",
       "</style>\n",
       "<table border=\"1\" class=\"dataframe\">\n",
       "  <thead>\n",
       "    <tr style=\"text-align: right;\">\n",
       "      <th></th>\n",
       "      <th>product_names</th>\n",
       "      <th>distance</th>\n",
       "    </tr>\n",
       "  </thead>\n",
       "  <tbody>\n",
       "    <tr>\n",
       "      <th>0</th>\n",
       "      <td>bố mẹ yên tâm con làm được - con là điều tuyệt...</td>\n",
       "      <td>0.0004</td>\n",
       "    </tr>\n",
       "    <tr>\n",
       "      <th>1</th>\n",
       "      <td>thông điệp từ gã tư bản ngoan cố</td>\n",
       "      <td>0.0004</td>\n",
       "    </tr>\n",
       "    <tr>\n",
       "      <th>2</th>\n",
       "      <td>nỗi ân hận của cô tiên</td>\n",
       "      <td>0.0004</td>\n",
       "    </tr>\n",
       "    <tr>\n",
       "      <th>3</th>\n",
       "      <td>queen of babble</td>\n",
       "      <td>0.0004</td>\n",
       "    </tr>\n",
       "    <tr>\n",
       "      <th>4</th>\n",
       "      <td>bút dạ quang hl38 - lục</td>\n",
       "      <td>0.0004</td>\n",
       "    </tr>\n",
       "  </tbody>\n",
       "</table>\n",
       "</div>"
      ],
      "text/plain": [
       "                                       product_names distance\n",
       "0  bố mẹ yên tâm con làm được - con là điều tuyệt...   0.0004\n",
       "1                   thông điệp từ gã tư bản ngoan cố   0.0004\n",
       "2                             nỗi ân hận của cô tiên   0.0004\n",
       "3                                    queen of babble   0.0004\n",
       "4                            bút dạ quang hl38 - lục   0.0004"
      ]
     },
     "execution_count": 43,
     "metadata": {},
     "output_type": "execute_result"
    }
   ],
   "source": [
    "# Search a specific query\n",
    "Lib.nearestNeighbors_search('tiểu thuyết')"
   ]
  },
  {
   "cell_type": "code",
   "execution_count": 44,
   "id": "14098e6d",
   "metadata": {},
   "outputs": [
    {
     "name": "stdout",
     "output_type": "stream",
     "text": [
      "Time: 0.22732305526733398\n"
     ]
    },
    {
     "data": {
      "text/html": [
       "<div>\n",
       "<style scoped>\n",
       "    .dataframe tbody tr th:only-of-type {\n",
       "        vertical-align: middle;\n",
       "    }\n",
       "\n",
       "    .dataframe tbody tr th {\n",
       "        vertical-align: top;\n",
       "    }\n",
       "\n",
       "    .dataframe thead th {\n",
       "        text-align: right;\n",
       "    }\n",
       "</style>\n",
       "<table border=\"1\" class=\"dataframe\">\n",
       "  <thead>\n",
       "    <tr style=\"text-align: right;\">\n",
       "      <th></th>\n",
       "      <th>product_names</th>\n",
       "      <th>distance</th>\n",
       "    </tr>\n",
       "  </thead>\n",
       "  <tbody>\n",
       "    <tr>\n",
       "      <th>0</th>\n",
       "      <td>giày thể thao w đen (size 40)</td>\n",
       "      <td>0.1844</td>\n",
       "    </tr>\n",
       "    <tr>\n",
       "      <th>1</th>\n",
       "      <td>giày búp bê chạy chỉ - đen (size 39)</td>\n",
       "      <td>0.2043</td>\n",
       "    </tr>\n",
       "    <tr>\n",
       "      <th>2</th>\n",
       "      <td>giày cao gót công sở nữ - đen (size 38)</td>\n",
       "      <td>0.2166</td>\n",
       "    </tr>\n",
       "    <tr>\n",
       "      <th>3</th>\n",
       "      <td>giày búp bê nhung nơ to - đen (size 37)</td>\n",
       "      <td>0.2228</td>\n",
       "    </tr>\n",
       "    <tr>\n",
       "      <th>4</th>\n",
       "      <td>giày cao gót nữ quai chéo - đen (size 39)</td>\n",
       "      <td>0.2235</td>\n",
       "    </tr>\n",
       "  </tbody>\n",
       "</table>\n",
       "</div>"
      ],
      "text/plain": [
       "                               product_names distance\n",
       "0              giày thể thao w đen (size 40)   0.1844\n",
       "1       giày búp bê chạy chỉ - đen (size 39)   0.2043\n",
       "2    giày cao gót công sở nữ - đen (size 38)   0.2166\n",
       "3    giày búp bê nhung nơ to - đen (size 37)   0.2228\n",
       "4  giày cao gót nữ quai chéo - đen (size 39)   0.2235"
      ]
     },
     "execution_count": 44,
     "metadata": {},
     "output_type": "execute_result"
    }
   ],
   "source": [
    "# Search a specific query\n",
    "Lib.nearestNeighbors_search('giày')"
   ]
  },
  {
   "cell_type": "code",
   "execution_count": 45,
   "id": "6dc48cf6",
   "metadata": {},
   "outputs": [
    {
     "name": "stdout",
     "output_type": "stream",
     "text": [
      "Time: 0.22506403923034668\n"
     ]
    },
    {
     "data": {
      "text/html": [
       "<div>\n",
       "<style scoped>\n",
       "    .dataframe tbody tr th:only-of-type {\n",
       "        vertical-align: middle;\n",
       "    }\n",
       "\n",
       "    .dataframe tbody tr th {\n",
       "        vertical-align: top;\n",
       "    }\n",
       "\n",
       "    .dataframe thead th {\n",
       "        text-align: right;\n",
       "    }\n",
       "</style>\n",
       "<table border=\"1\" class=\"dataframe\">\n",
       "  <thead>\n",
       "    <tr style=\"text-align: right;\">\n",
       "      <th></th>\n",
       "      <th>product_names</th>\n",
       "      <th>distance</th>\n",
       "    </tr>\n",
       "  </thead>\n",
       "  <tbody>\n",
       "    <tr>\n",
       "      <th>0</th>\n",
       "      <td>pin aaa energizer advanced x92 rp4</td>\n",
       "      <td>0.0029</td>\n",
       "    </tr>\n",
       "    <tr>\n",
       "      <th>1</th>\n",
       "      <td>bull (bull) gn-j610type-c anti-break data cabl...</td>\n",
       "      <td>0.0032</td>\n",
       "    </tr>\n",
       "    <tr>\n",
       "      <th>2</th>\n",
       "      <td>loa dalton ksn-412</td>\n",
       "      <td>0.0039</td>\n",
       "    </tr>\n",
       "    <tr>\n",
       "      <th>3</th>\n",
       "      <td>may cao rau pisen shaving power smpw302 (5000mah)</td>\n",
       "      <td>0.0040</td>\n",
       "    </tr>\n",
       "    <tr>\n",
       "      <th>4</th>\n",
       "      <td>loa vi tinh creative sbs a120 2.1 9w</td>\n",
       "      <td>0.0040</td>\n",
       "    </tr>\n",
       "  </tbody>\n",
       "</table>\n",
       "</div>"
      ],
      "text/plain": [
       "                                       product_names distance\n",
       "0                 pin aaa energizer advanced x92 rp4   0.0029\n",
       "1  bull (bull) gn-j610type-c anti-break data cabl...   0.0032\n",
       "2                                 loa dalton ksn-412   0.0039\n",
       "3  may cao rau pisen shaving power smpw302 (5000mah)   0.0040\n",
       "4               loa vi tinh creative sbs a120 2.1 9w   0.0040"
      ]
     },
     "execution_count": 45,
     "metadata": {},
     "output_type": "execute_result"
    }
   ],
   "source": [
    "# Search a specific query\n",
    "Lib.nearestNeighbors_search('anker')"
   ]
  },
  {
   "cell_type": "markdown",
   "id": "1b1f5261",
   "metadata": {},
   "source": [
    "## 3.1.b NearestNeighbors with out PCA \n",
    "Write functions for Search a single query, include below steps:\n",
    "- Load the models (tfidf)\n",
    "- Load the data\n",
    "- Apply clean_funtion to query\n",
    "- Vectorize query\n",
    "- Fit data and Find 5 nearest neighbors\n",
    "- Return results"
   ]
  },
  {
   "cell_type": "code",
   "execution_count": 47,
   "id": "072c6d6e",
   "metadata": {},
   "outputs": [
    {
     "name": "stdout",
     "output_type": "stream",
     "text": [
      "Time: 20.581259965896606\n"
     ]
    },
    {
     "data": {
      "text/html": [
       "<div>\n",
       "<style scoped>\n",
       "    .dataframe tbody tr th:only-of-type {\n",
       "        vertical-align: middle;\n",
       "    }\n",
       "\n",
       "    .dataframe tbody tr th {\n",
       "        vertical-align: top;\n",
       "    }\n",
       "\n",
       "    .dataframe thead th {\n",
       "        text-align: right;\n",
       "    }\n",
       "</style>\n",
       "<table border=\"1\" class=\"dataframe\">\n",
       "  <thead>\n",
       "    <tr style=\"text-align: right;\">\n",
       "      <th></th>\n",
       "      <th>product_names</th>\n",
       "      <th>distance</th>\n",
       "    </tr>\n",
       "  </thead>\n",
       "  <tbody>\n",
       "    <tr>\n",
       "      <th>0</th>\n",
       "      <td>cuốn sổ màu xanh (tiểu thuyết)</td>\n",
       "      <td>0.7597</td>\n",
       "    </tr>\n",
       "    <tr>\n",
       "      <th>1</th>\n",
       "      <td>hùng binh (tiểu thuyết lịch sử)</td>\n",
       "      <td>0.9487</td>\n",
       "    </tr>\n",
       "    <tr>\n",
       "      <th>2</th>\n",
       "      <td>những đứa trẻ chết già (tiểu thuyết)</td>\n",
       "      <td>0.9870</td>\n",
       "    </tr>\n",
       "    <tr>\n",
       "      <th>3</th>\n",
       "      <td>một với một là ba</td>\n",
       "      <td>1.0000</td>\n",
       "    </tr>\n",
       "    <tr>\n",
       "      <th>4</th>\n",
       "      <td>vượt lên chính mình 2</td>\n",
       "      <td>1.0000</td>\n",
       "    </tr>\n",
       "  </tbody>\n",
       "</table>\n",
       "</div>"
      ],
      "text/plain": [
       "                          product_names distance\n",
       "0        cuốn sổ màu xanh (tiểu thuyết)   0.7597\n",
       "1       hùng binh (tiểu thuyết lịch sử)   0.9487\n",
       "2  những đứa trẻ chết già (tiểu thuyết)   0.9870\n",
       "3                     một với một là ba   1.0000\n",
       "4                 vượt lên chính mình 2   1.0000"
      ]
     },
     "execution_count": 47,
     "metadata": {},
     "output_type": "execute_result"
    }
   ],
   "source": [
    "# Search a specific query\n",
    "Lib.nearestNeighbors_search_noPCA('tiểu thuyết', tfidf_matrix)"
   ]
  },
  {
   "cell_type": "code",
   "execution_count": 48,
   "id": "59a58171",
   "metadata": {},
   "outputs": [
    {
     "name": "stdout",
     "output_type": "stream",
     "text": [
      "Time: 19.78966188430786\n"
     ]
    },
    {
     "data": {
      "text/html": [
       "<div>\n",
       "<style scoped>\n",
       "    .dataframe tbody tr th:only-of-type {\n",
       "        vertical-align: middle;\n",
       "    }\n",
       "\n",
       "    .dataframe tbody tr th {\n",
       "        vertical-align: top;\n",
       "    }\n",
       "\n",
       "    .dataframe thead th {\n",
       "        text-align: right;\n",
       "    }\n",
       "</style>\n",
       "<table border=\"1\" class=\"dataframe\">\n",
       "  <thead>\n",
       "    <tr style=\"text-align: right;\">\n",
       "      <th></th>\n",
       "      <th>product_names</th>\n",
       "      <th>distance</th>\n",
       "    </tr>\n",
       "  </thead>\n",
       "  <tbody>\n",
       "    <tr>\n",
       "      <th>0</th>\n",
       "      <td>giày tập đi</td>\n",
       "      <td>0.8731</td>\n",
       "    </tr>\n",
       "    <tr>\n",
       "      <th>1</th>\n",
       "      <td>more of me</td>\n",
       "      <td>1.0000</td>\n",
       "    </tr>\n",
       "    <tr>\n",
       "      <th>2</th>\n",
       "      <td>before after</td>\n",
       "      <td>1.0000</td>\n",
       "    </tr>\n",
       "    <tr>\n",
       "      <th>3</th>\n",
       "      <td>why not me</td>\n",
       "      <td>1.0000</td>\n",
       "    </tr>\n",
       "    <tr>\n",
       "      <th>4</th>\n",
       "      <td>đi đâu cũng nhớ sài gòn và... em.</td>\n",
       "      <td>1.0000</td>\n",
       "    </tr>\n",
       "  </tbody>\n",
       "</table>\n",
       "</div>"
      ],
      "text/plain": [
       "                       product_names distance\n",
       "0                        giày tập đi   0.8731\n",
       "1                         more of me   1.0000\n",
       "2                       before after   1.0000\n",
       "3                         why not me   1.0000\n",
       "4  đi đâu cũng nhớ sài gòn và... em.   1.0000"
      ]
     },
     "execution_count": 48,
     "metadata": {},
     "output_type": "execute_result"
    }
   ],
   "source": [
    "# Search a specific query\n",
    "Lib.nearestNeighbors_search_noPCA('giày', tfidf_matrix)"
   ]
  },
  {
   "cell_type": "code",
   "execution_count": 49,
   "id": "4e6bb539",
   "metadata": {},
   "outputs": [
    {
     "name": "stdout",
     "output_type": "stream",
     "text": [
      "Time: 20.27421283721924\n"
     ]
    },
    {
     "data": {
      "text/html": [
       "<div>\n",
       "<style scoped>\n",
       "    .dataframe tbody tr th:only-of-type {\n",
       "        vertical-align: middle;\n",
       "    }\n",
       "\n",
       "    .dataframe tbody tr th {\n",
       "        vertical-align: top;\n",
       "    }\n",
       "\n",
       "    .dataframe thead th {\n",
       "        text-align: right;\n",
       "    }\n",
       "</style>\n",
       "<table border=\"1\" class=\"dataframe\">\n",
       "  <thead>\n",
       "    <tr style=\"text-align: right;\">\n",
       "      <th></th>\n",
       "      <th>product_names</th>\n",
       "      <th>distance</th>\n",
       "    </tr>\n",
       "  </thead>\n",
       "  <tbody>\n",
       "    <tr>\n",
       "      <th>0</th>\n",
       "      <td>sạc dự phòng anker powercore+ 10050mah đen và ...</td>\n",
       "      <td>0.9981</td>\n",
       "    </tr>\n",
       "    <tr>\n",
       "      <th>1</th>\n",
       "      <td>một với một là ba</td>\n",
       "      <td>1.0000</td>\n",
       "    </tr>\n",
       "    <tr>\n",
       "      <th>2</th>\n",
       "      <td>before after</td>\n",
       "      <td>1.0000</td>\n",
       "    </tr>\n",
       "    <tr>\n",
       "      <th>3</th>\n",
       "      <td>why not me</td>\n",
       "      <td>1.0000</td>\n",
       "    </tr>\n",
       "    <tr>\n",
       "      <th>4</th>\n",
       "      <td>anh sẽ vì em mà ở lại?</td>\n",
       "      <td>1.0000</td>\n",
       "    </tr>\n",
       "  </tbody>\n",
       "</table>\n",
       "</div>"
      ],
      "text/plain": [
       "                                       product_names distance\n",
       "0  sạc dự phòng anker powercore+ 10050mah đen và ...   0.9981\n",
       "1                                  một với một là ba   1.0000\n",
       "2                                       before after   1.0000\n",
       "3                                         why not me   1.0000\n",
       "4                             anh sẽ vì em mà ở lại?   1.0000"
      ]
     },
     "execution_count": 49,
     "metadata": {},
     "output_type": "execute_result"
    }
   ],
   "source": [
    "# Search a specific query\n",
    "Lib.nearestNeighbors_search_noPCA('anker', tfidf_matrix)"
   ]
  },
  {
   "cell_type": "markdown",
   "id": "02f7c310",
   "metadata": {},
   "source": [
    "## 3.2.a Cosine Similarity with PCA"
   ]
  },
  {
   "cell_type": "markdown",
   "id": "e5391045",
   "metadata": {},
   "source": [
    "Write 02 functions for 02 options **Search all 100 provided queries** & **Search a single query**, include below steps:\n",
    "- Load the models (tfidf, pca)\n",
    "- Load the data\n",
    "- Apply clean_funtion to query\n",
    "- Vectorize query\n",
    "- Reduce dimension to 10 components\n",
    "- Create cosine_similarities matrix\n",
    "- Return top 5 products having the highest cosine_similarities"
   ]
  },
  {
   "cell_type": "code",
   "execution_count": 50,
   "id": "5bdeca3d",
   "metadata": {},
   "outputs": [
    {
     "name": "stdout",
     "output_type": "stream",
     "text": [
      "Time: 0.21930170059204102\n"
     ]
    },
    {
     "data": {
      "text/html": [
       "<div>\n",
       "<style scoped>\n",
       "    .dataframe tbody tr th:only-of-type {\n",
       "        vertical-align: middle;\n",
       "    }\n",
       "\n",
       "    .dataframe tbody tr th {\n",
       "        vertical-align: top;\n",
       "    }\n",
       "\n",
       "    .dataframe thead th {\n",
       "        text-align: right;\n",
       "    }\n",
       "</style>\n",
       "<table border=\"1\" class=\"dataframe\">\n",
       "  <thead>\n",
       "    <tr style=\"text-align: right;\">\n",
       "      <th></th>\n",
       "      <th>product_names</th>\n",
       "      <th>sim_score</th>\n",
       "    </tr>\n",
       "  </thead>\n",
       "  <tbody>\n",
       "    <tr>\n",
       "      <th>0</th>\n",
       "      <td>bút dạ quang hl38 - lục</td>\n",
       "      <td>1.0000</td>\n",
       "    </tr>\n",
       "    <tr>\n",
       "      <th>1</th>\n",
       "      <td>nỗi ân hận của cô tiên</td>\n",
       "      <td>1.0000</td>\n",
       "    </tr>\n",
       "    <tr>\n",
       "      <th>2</th>\n",
       "      <td>ba chàng ngốc</td>\n",
       "      <td>1.0000</td>\n",
       "    </tr>\n",
       "    <tr>\n",
       "      <th>3</th>\n",
       "      <td>côn trùng gớm ghiếc</td>\n",
       "      <td>1.0000</td>\n",
       "    </tr>\n",
       "    <tr>\n",
       "      <th>4</th>\n",
       "      <td>bố mẹ yên tâm con làm được - con là điều tuyệt...</td>\n",
       "      <td>1.0000</td>\n",
       "    </tr>\n",
       "  </tbody>\n",
       "</table>\n",
       "</div>"
      ],
      "text/plain": [
       "                                       product_names  sim_score\n",
       "0                            bút dạ quang hl38 - lục     1.0000\n",
       "1                             nỗi ân hận của cô tiên     1.0000\n",
       "2                                      ba chàng ngốc     1.0000\n",
       "3                                côn trùng gớm ghiếc     1.0000\n",
       "4  bố mẹ yên tâm con làm được - con là điều tuyệt...     1.0000"
      ]
     },
     "execution_count": 50,
     "metadata": {},
     "output_type": "execute_result"
    }
   ],
   "source": [
    "# Search a specific query\n",
    "Lib.cosine_search('tiểu thuyết')"
   ]
  },
  {
   "cell_type": "code",
   "execution_count": 51,
   "id": "515273a3",
   "metadata": {},
   "outputs": [
    {
     "name": "stdout",
     "output_type": "stream",
     "text": [
      "Time: 0.21462225914001465\n"
     ]
    },
    {
     "data": {
      "text/html": [
       "<div>\n",
       "<style scoped>\n",
       "    .dataframe tbody tr th:only-of-type {\n",
       "        vertical-align: middle;\n",
       "    }\n",
       "\n",
       "    .dataframe tbody tr th {\n",
       "        vertical-align: top;\n",
       "    }\n",
       "\n",
       "    .dataframe thead th {\n",
       "        text-align: right;\n",
       "    }\n",
       "</style>\n",
       "<table border=\"1\" class=\"dataframe\">\n",
       "  <thead>\n",
       "    <tr style=\"text-align: right;\">\n",
       "      <th></th>\n",
       "      <th>product_names</th>\n",
       "      <th>sim_score</th>\n",
       "    </tr>\n",
       "  </thead>\n",
       "  <tbody>\n",
       "    <tr>\n",
       "      <th>0</th>\n",
       "      <td>giày búp bê domani gb30de - đen-35</td>\n",
       "      <td>0.9909</td>\n",
       "    </tr>\n",
       "    <tr>\n",
       "      <th>1</th>\n",
       "      <td>giày búp bê bb163b đen</td>\n",
       "      <td>0.9909</td>\n",
       "    </tr>\n",
       "    <tr>\n",
       "      <th>2</th>\n",
       "      <td>giày nơ - hmf702 - đen - 37</td>\n",
       "      <td>0.9910</td>\n",
       "    </tr>\n",
       "    <tr>\n",
       "      <th>3</th>\n",
       "      <td>giày búp bê trơn - hmf707 - đen - 38</td>\n",
       "      <td>0.9928</td>\n",
       "    </tr>\n",
       "    <tr>\n",
       "      <th>4</th>\n",
       "      <td>giày búp bê - nơ huy hiệu f - đen - 39</td>\n",
       "      <td>0.9949</td>\n",
       "    </tr>\n",
       "  </tbody>\n",
       "</table>\n",
       "</div>"
      ],
      "text/plain": [
       "                            product_names  sim_score\n",
       "0      giày búp bê domani gb30de - đen-35     0.9909\n",
       "1                  giày búp bê bb163b đen     0.9909\n",
       "2             giày nơ - hmf702 - đen - 37     0.9910\n",
       "3    giày búp bê trơn - hmf707 - đen - 38     0.9928\n",
       "4  giày búp bê - nơ huy hiệu f - đen - 39     0.9949"
      ]
     },
     "execution_count": 51,
     "metadata": {},
     "output_type": "execute_result"
    }
   ],
   "source": [
    "Lib.cosine_search('giày')"
   ]
  },
  {
   "cell_type": "code",
   "execution_count": 52,
   "id": "467b2c29",
   "metadata": {},
   "outputs": [
    {
     "name": "stdout",
     "output_type": "stream",
     "text": [
      "Time: 0.21615099906921387\n"
     ]
    },
    {
     "data": {
      "text/html": [
       "<div>\n",
       "<style scoped>\n",
       "    .dataframe tbody tr th:only-of-type {\n",
       "        vertical-align: middle;\n",
       "    }\n",
       "\n",
       "    .dataframe tbody tr th {\n",
       "        vertical-align: top;\n",
       "    }\n",
       "\n",
       "    .dataframe thead th {\n",
       "        text-align: right;\n",
       "    }\n",
       "</style>\n",
       "<table border=\"1\" class=\"dataframe\">\n",
       "  <thead>\n",
       "    <tr style=\"text-align: right;\">\n",
       "      <th></th>\n",
       "      <th>product_names</th>\n",
       "      <th>sim_score</th>\n",
       "    </tr>\n",
       "  </thead>\n",
       "  <tbody>\n",
       "    <tr>\n",
       "      <th>0</th>\n",
       "      <td>son bam dang li eco soul kiss button lips matt...</td>\n",
       "      <td>0.9985</td>\n",
       "    </tr>\n",
       "    <tr>\n",
       "      <th>1</th>\n",
       "      <td>binh xit phun son a211 - do</td>\n",
       "      <td>0.9987</td>\n",
       "    </tr>\n",
       "    <tr>\n",
       "      <th>2</th>\n",
       "      <td>thời sinh dự đoán tương lai và cách hóa giải</td>\n",
       "      <td>0.9988</td>\n",
       "    </tr>\n",
       "    <tr>\n",
       "      <th>3</th>\n",
       "      <td>torin vertical hydraulic jacks auto repair too...</td>\n",
       "      <td>0.9989</td>\n",
       "    </tr>\n",
       "    <tr>\n",
       "      <th>4</th>\n",
       "      <td>thân nhiệt quyết định sinh lão bệnh tử</td>\n",
       "      <td>0.9990</td>\n",
       "    </tr>\n",
       "  </tbody>\n",
       "</table>\n",
       "</div>"
      ],
      "text/plain": [
       "                                       product_names  sim_score\n",
       "0  son bam dang li eco soul kiss button lips matt...     0.9985\n",
       "1                        binh xit phun son a211 - do     0.9987\n",
       "2       thời sinh dự đoán tương lai và cách hóa giải     0.9988\n",
       "3  torin vertical hydraulic jacks auto repair too...     0.9989\n",
       "4             thân nhiệt quyết định sinh lão bệnh tử     0.9990"
      ]
     },
     "execution_count": 52,
     "metadata": {},
     "output_type": "execute_result"
    }
   ],
   "source": [
    "Lib.cosine_search('son')"
   ]
  },
  {
   "cell_type": "code",
   "execution_count": 53,
   "id": "59c10069",
   "metadata": {},
   "outputs": [
    {
     "name": "stdout",
     "output_type": "stream",
     "text": [
      "Time: 0.21440410614013672\n"
     ]
    },
    {
     "data": {
      "text/html": [
       "<div>\n",
       "<style scoped>\n",
       "    .dataframe tbody tr th:only-of-type {\n",
       "        vertical-align: middle;\n",
       "    }\n",
       "\n",
       "    .dataframe tbody tr th {\n",
       "        vertical-align: top;\n",
       "    }\n",
       "\n",
       "    .dataframe thead th {\n",
       "        text-align: right;\n",
       "    }\n",
       "</style>\n",
       "<table border=\"1\" class=\"dataframe\">\n",
       "  <thead>\n",
       "    <tr style=\"text-align: right;\">\n",
       "      <th></th>\n",
       "      <th>product_names</th>\n",
       "      <th>sim_score</th>\n",
       "    </tr>\n",
       "  </thead>\n",
       "  <tbody>\n",
       "    <tr>\n",
       "      <th>0</th>\n",
       "      <td>pin aaa energizer advanced x92 rp4</td>\n",
       "      <td>0.9992</td>\n",
       "    </tr>\n",
       "    <tr>\n",
       "      <th>1</th>\n",
       "      <td>cáp hdmi ugreen 30192</td>\n",
       "      <td>0.9992</td>\n",
       "    </tr>\n",
       "    <tr>\n",
       "      <th>2</th>\n",
       "      <td>bull (bull) gn-j610type-c anti-break data cabl...</td>\n",
       "      <td>0.9993</td>\n",
       "    </tr>\n",
       "    <tr>\n",
       "      <th>3</th>\n",
       "      <td>đầu đọc thẻ transcend  ts-rdf5k 90/60 mb/s ...</td>\n",
       "      <td>0.9993</td>\n",
       "    </tr>\n",
       "    <tr>\n",
       "      <th>4</th>\n",
       "      <td>green (ugreen) usb data cable 2.0 male to fema...</td>\n",
       "      <td>0.9996</td>\n",
       "    </tr>\n",
       "  </tbody>\n",
       "</table>\n",
       "</div>"
      ],
      "text/plain": [
       "                                       product_names  sim_score\n",
       "0                 pin aaa energizer advanced x92 rp4     0.9992\n",
       "1                              cáp hdmi ugreen 30192     0.9992\n",
       "2  bull (bull) gn-j610type-c anti-break data cabl...     0.9993\n",
       "3  đầu đọc thẻ transcend  ts-rdf5k 90/60 mb/s ...     0.9993\n",
       "4  green (ugreen) usb data cable 2.0 male to fema...     0.9996"
      ]
     },
     "execution_count": 53,
     "metadata": {},
     "output_type": "execute_result"
    }
   ],
   "source": [
    "Lib.cosine_search('anker')"
   ]
  },
  {
   "cell_type": "code",
   "execution_count": 54,
   "id": "76307f72",
   "metadata": {},
   "outputs": [
    {
     "name": "stdout",
     "output_type": "stream",
     "text": [
      "Time: 29.43670392036438\n"
     ]
    }
   ],
   "source": [
    "# Search all provided queries\n",
    "results = Lib.cosine_search_all(query['clean_query'])"
   ]
  },
  {
   "cell_type": "code",
   "execution_count": 55,
   "id": "92cdc9dd",
   "metadata": {},
   "outputs": [
    {
     "data": {
      "text/html": [
       "<div>\n",
       "<style scoped>\n",
       "    .dataframe tbody tr th:only-of-type {\n",
       "        vertical-align: middle;\n",
       "    }\n",
       "\n",
       "    .dataframe tbody tr th {\n",
       "        vertical-align: top;\n",
       "    }\n",
       "\n",
       "    .dataframe thead th {\n",
       "        text-align: right;\n",
       "    }\n",
       "</style>\n",
       "<table border=\"1\" class=\"dataframe\">\n",
       "  <thead>\n",
       "    <tr style=\"text-align: right;\">\n",
       "      <th></th>\n",
       "      <th>query</th>\n",
       "      <th>product_names</th>\n",
       "      <th>sim_score</th>\n",
       "    </tr>\n",
       "  </thead>\n",
       "  <tbody>\n",
       "    <tr>\n",
       "      <th>0</th>\n",
       "      <td>sách</td>\n",
       "      <td>tủ sách sputnik - các bài giảng về toán cho mi...</td>\n",
       "      <td>0.9998</td>\n",
       "    </tr>\n",
       "    <tr>\n",
       "      <th>1</th>\n",
       "      <td>sách</td>\n",
       "      <td>hướng dẫn học ccna routing &amp; switching</td>\n",
       "      <td>0.9998</td>\n",
       "    </tr>\n",
       "    <tr>\n",
       "      <th>2</th>\n",
       "      <td>sách</td>\n",
       "      <td>trọng tâm kiến thức và phương pháp  giải toán ...</td>\n",
       "      <td>0.9999</td>\n",
       "    </tr>\n",
       "    <tr>\n",
       "      <th>3</th>\n",
       "      <td>sách</td>\n",
       "      <td>bài giảng &amp; hướng dẫn chi tiết toán 3/1</td>\n",
       "      <td>0.9999</td>\n",
       "    </tr>\n",
       "    <tr>\n",
       "      <th>4</th>\n",
       "      <td>sách</td>\n",
       "      <td>kỹ năng sống - 101 câu chuyện học sinh cần đọc...</td>\n",
       "      <td>0.9999</td>\n",
       "    </tr>\n",
       "    <tr>\n",
       "      <th>5</th>\n",
       "      <td>tai nghe</td>\n",
       "      <td>tai nghe sennheiser hd 180 chụp tai</td>\n",
       "      <td>0.9846</td>\n",
       "    </tr>\n",
       "    <tr>\n",
       "      <th>6</th>\n",
       "      <td>tai nghe</td>\n",
       "      <td>tai nghe nhét tai philips she7050</td>\n",
       "      <td>0.9850</td>\n",
       "    </tr>\n",
       "    <tr>\n",
       "      <th>7</th>\n",
       "      <td>tai nghe</td>\n",
       "      <td>tai nghe sennheiser pmx 90 trên tai</td>\n",
       "      <td>0.9853</td>\n",
       "    </tr>\n",
       "    <tr>\n",
       "      <th>8</th>\n",
       "      <td>tai nghe</td>\n",
       "      <td>10 sai lam trong quan ly tai chinh (tai ban 2015)</td>\n",
       "      <td>0.9855</td>\n",
       "    </tr>\n",
       "    <tr>\n",
       "      <th>9</th>\n",
       "      <td>tai nghe</td>\n",
       "      <td>tai nghe sennheiser hd 201 chup tai</td>\n",
       "      <td>0.9919</td>\n",
       "    </tr>\n",
       "    <tr>\n",
       "      <th>10</th>\n",
       "      <td>balo</td>\n",
       "      <td>balo kitty đáng yêu</td>\n",
       "      <td>0.9694</td>\n",
       "    </tr>\n",
       "    <tr>\n",
       "      <th>11</th>\n",
       "      <td>balo</td>\n",
       "      <td>balo laptop hasun hs 657 (47 x 33 cm) - n</td>\n",
       "      <td>0.9711</td>\n",
       "    </tr>\n",
       "    <tr>\n",
       "      <th>12</th>\n",
       "      <td>balo</td>\n",
       "      <td>balo kity 066 (46 x 33 cm) - do</td>\n",
       "      <td>0.9724</td>\n",
       "    </tr>\n",
       "    <tr>\n",
       "      <th>13</th>\n",
       "      <td>balo</td>\n",
       "      <td>balo máy ảnh benro reebok 300n (52 x 34 cm)</td>\n",
       "      <td>0.9742</td>\n",
       "    </tr>\n",
       "    <tr>\n",
       "      <th>14</th>\n",
       "      <td>balo</td>\n",
       "      <td>balo xe đạp popo sports balo-xedap-blue - xanh...</td>\n",
       "      <td>0.9772</td>\n",
       "    </tr>\n",
       "    <tr>\n",
       "      <th>15</th>\n",
       "      <td>anker</td>\n",
       "      <td>pin aaa energizer advanced x92 rp4</td>\n",
       "      <td>0.9992</td>\n",
       "    </tr>\n",
       "    <tr>\n",
       "      <th>16</th>\n",
       "      <td>anker</td>\n",
       "      <td>cáp hdmi ugreen 30192</td>\n",
       "      <td>0.9992</td>\n",
       "    </tr>\n",
       "    <tr>\n",
       "      <th>17</th>\n",
       "      <td>anker</td>\n",
       "      <td>bull (bull) gn-j610type-c anti-break data cabl...</td>\n",
       "      <td>0.9993</td>\n",
       "    </tr>\n",
       "    <tr>\n",
       "      <th>18</th>\n",
       "      <td>anker</td>\n",
       "      <td>đầu đọc thẻ transcend  ts-rdf5k 90/60 mb/s ...</td>\n",
       "      <td>0.9993</td>\n",
       "    </tr>\n",
       "    <tr>\n",
       "      <th>19</th>\n",
       "      <td>anker</td>\n",
       "      <td>green (ugreen) usb data cable 2.0 male to fema...</td>\n",
       "      <td>0.9996</td>\n",
       "    </tr>\n",
       "  </tbody>\n",
       "</table>\n",
       "</div>"
      ],
      "text/plain": [
       "       query                                      product_names  sim_score\n",
       "0       sách  tủ sách sputnik - các bài giảng về toán cho mi...     0.9998\n",
       "1       sách             hướng dẫn học ccna routing & switching     0.9998\n",
       "2       sách  trọng tâm kiến thức và phương pháp  giải toán ...     0.9999\n",
       "3       sách            bài giảng & hướng dẫn chi tiết toán 3/1     0.9999\n",
       "4       sách  kỹ năng sống - 101 câu chuyện học sinh cần đọc...     0.9999\n",
       "5   tai nghe                tai nghe sennheiser hd 180 chụp tai     0.9846\n",
       "6   tai nghe                  tai nghe nhét tai philips she7050     0.9850\n",
       "7   tai nghe                tai nghe sennheiser pmx 90 trên tai     0.9853\n",
       "8   tai nghe  10 sai lam trong quan ly tai chinh (tai ban 2015)     0.9855\n",
       "9   tai nghe                tai nghe sennheiser hd 201 chup tai     0.9919\n",
       "10      balo                                balo kitty đáng yêu     0.9694\n",
       "11      balo          balo laptop hasun hs 657 (47 x 33 cm) - n     0.9711\n",
       "12      balo                    balo kity 066 (46 x 33 cm) - do     0.9724\n",
       "13      balo        balo máy ảnh benro reebok 300n (52 x 34 cm)     0.9742\n",
       "14      balo  balo xe đạp popo sports balo-xedap-blue - xanh...     0.9772\n",
       "15     anker                 pin aaa energizer advanced x92 rp4     0.9992\n",
       "16     anker                              cáp hdmi ugreen 30192     0.9992\n",
       "17     anker  bull (bull) gn-j610type-c anti-break data cabl...     0.9993\n",
       "18     anker  đầu đọc thẻ transcend  ts-rdf5k 90/60 mb/s ...     0.9993\n",
       "19     anker  green (ugreen) usb data cable 2.0 male to fema...     0.9996"
      ]
     },
     "execution_count": 55,
     "metadata": {},
     "output_type": "execute_result"
    }
   ],
   "source": [
    "results[:20]"
   ]
  },
  {
   "cell_type": "markdown",
   "id": "62fbf4c0",
   "metadata": {},
   "source": [
    "## 3.2.b Cosine Similarity without PCA\n",
    "Write a function for Search a single query, include below steps:\n",
    "- Load the model (tfidf)\n",
    "- Load the data\n",
    "- Apply clean_funtion to query\n",
    "- Vectorize query\n",
    "- Create cosine_similarities matrix\n",
    "- Return top 5 products having the highest cosine_similarities"
   ]
  },
  {
   "cell_type": "code",
   "execution_count": 56,
   "id": "84834787",
   "metadata": {},
   "outputs": [
    {
     "name": "stdout",
     "output_type": "stream",
     "text": [
      "Time: 36.434873819351196\n"
     ]
    },
    {
     "data": {
      "text/html": [
       "<div>\n",
       "<style scoped>\n",
       "    .dataframe tbody tr th:only-of-type {\n",
       "        vertical-align: middle;\n",
       "    }\n",
       "\n",
       "    .dataframe tbody tr th {\n",
       "        vertical-align: top;\n",
       "    }\n",
       "\n",
       "    .dataframe thead th {\n",
       "        text-align: right;\n",
       "    }\n",
       "</style>\n",
       "<table border=\"1\" class=\"dataframe\">\n",
       "  <thead>\n",
       "    <tr style=\"text-align: right;\">\n",
       "      <th></th>\n",
       "      <th>product_names</th>\n",
       "      <th>sim_score</th>\n",
       "    </tr>\n",
       "  </thead>\n",
       "  <tbody>\n",
       "    <tr>\n",
       "      <th>0</th>\n",
       "      <td>cõi người rung chuông tận thế (tiểu thuyết)</td>\n",
       "      <td>0.4549</td>\n",
       "    </tr>\n",
       "    <tr>\n",
       "      <th>1</th>\n",
       "      <td>tiểu thuyết trinh thám 1/14 - tập 3 - lời cảnh...</td>\n",
       "      <td>0.4915</td>\n",
       "    </tr>\n",
       "    <tr>\n",
       "      <th>2</th>\n",
       "      <td>những đứa trẻ chết già (tiểu thuyết)</td>\n",
       "      <td>0.5129</td>\n",
       "    </tr>\n",
       "    <tr>\n",
       "      <th>3</th>\n",
       "      <td>hùng binh (tiểu thuyết lịch sử)</td>\n",
       "      <td>0.5500</td>\n",
       "    </tr>\n",
       "    <tr>\n",
       "      <th>4</th>\n",
       "      <td>cuốn sổ màu xanh (tiểu thuyết)</td>\n",
       "      <td>0.7115</td>\n",
       "    </tr>\n",
       "  </tbody>\n",
       "</table>\n",
       "</div>"
      ],
      "text/plain": [
       "                                       product_names  sim_score\n",
       "0        cõi người rung chuông tận thế (tiểu thuyết)     0.4549\n",
       "1  tiểu thuyết trinh thám 1/14 - tập 3 - lời cảnh...     0.4915\n",
       "2               những đứa trẻ chết già (tiểu thuyết)     0.5129\n",
       "3                    hùng binh (tiểu thuyết lịch sử)     0.5500\n",
       "4                     cuốn sổ màu xanh (tiểu thuyết)     0.7115"
      ]
     },
     "execution_count": 56,
     "metadata": {},
     "output_type": "execute_result"
    }
   ],
   "source": [
    "Lib.cosine_search_noPCA('tiểu thuyết', tfidf_matrix=tfidf_matrix)"
   ]
  },
  {
   "cell_type": "code",
   "execution_count": 57,
   "id": "2442158c",
   "metadata": {},
   "outputs": [
    {
     "name": "stdout",
     "output_type": "stream",
     "text": [
      "Time: 34.67091608047485\n"
     ]
    },
    {
     "data": {
      "text/html": [
       "<div>\n",
       "<style scoped>\n",
       "    .dataframe tbody tr th:only-of-type {\n",
       "        vertical-align: middle;\n",
       "    }\n",
       "\n",
       "    .dataframe tbody tr th {\n",
       "        vertical-align: top;\n",
       "    }\n",
       "\n",
       "    .dataframe thead th {\n",
       "        text-align: right;\n",
       "    }\n",
       "</style>\n",
       "<table border=\"1\" class=\"dataframe\">\n",
       "  <thead>\n",
       "    <tr style=\"text-align: right;\">\n",
       "      <th></th>\n",
       "      <th>product_names</th>\n",
       "      <th>sim_score</th>\n",
       "    </tr>\n",
       "  </thead>\n",
       "  <tbody>\n",
       "    <tr>\n",
       "      <th>0</th>\n",
       "      <td>giày tây nam da bò giày huy t952 - đen (size 41)</td>\n",
       "      <td>0.4062</td>\n",
       "    </tr>\n",
       "    <tr>\n",
       "      <th>1</th>\n",
       "      <td>giày thể thao w đen (size 40)</td>\n",
       "      <td>0.4123</td>\n",
       "    </tr>\n",
       "    <tr>\n",
       "      <th>2</th>\n",
       "      <td>giày tập đi bé gái</td>\n",
       "      <td>0.4146</td>\n",
       "    </tr>\n",
       "    <tr>\n",
       "      <th>3</th>\n",
       "      <td>giày mọi nam da bò giày huy k346 - nâu (size 41)</td>\n",
       "      <td>0.4251</td>\n",
       "    </tr>\n",
       "    <tr>\n",
       "      <th>4</th>\n",
       "      <td>giày tập đi</td>\n",
       "      <td>0.6189</td>\n",
       "    </tr>\n",
       "  </tbody>\n",
       "</table>\n",
       "</div>"
      ],
      "text/plain": [
       "                                      product_names  sim_score\n",
       "0  giày tây nam da bò giày huy t952 - đen (size 41)     0.4062\n",
       "1                     giày thể thao w đen (size 40)     0.4123\n",
       "2                                giày tập đi bé gái     0.4146\n",
       "3  giày mọi nam da bò giày huy k346 - nâu (size 41)     0.4251\n",
       "4                                       giày tập đi     0.6189"
      ]
     },
     "execution_count": 57,
     "metadata": {},
     "output_type": "execute_result"
    }
   ],
   "source": [
    "Lib.cosine_search_noPCA('giày', tfidf_matrix=tfidf_matrix)"
   ]
  },
  {
   "cell_type": "code",
   "execution_count": 58,
   "id": "ef29e7bb",
   "metadata": {},
   "outputs": [
    {
     "name": "stdout",
     "output_type": "stream",
     "text": [
      "Time: 36.09446477890015\n"
     ]
    },
    {
     "data": {
      "text/html": [
       "<div>\n",
       "<style scoped>\n",
       "    .dataframe tbody tr th:only-of-type {\n",
       "        vertical-align: middle;\n",
       "    }\n",
       "\n",
       "    .dataframe tbody tr th {\n",
       "        vertical-align: top;\n",
       "    }\n",
       "\n",
       "    .dataframe thead th {\n",
       "        text-align: right;\n",
       "    }\n",
       "</style>\n",
       "<table border=\"1\" class=\"dataframe\">\n",
       "  <thead>\n",
       "    <tr style=\"text-align: right;\">\n",
       "      <th></th>\n",
       "      <th>product_names</th>\n",
       "      <th>sim_score</th>\n",
       "    </tr>\n",
       "  </thead>\n",
       "  <tbody>\n",
       "    <tr>\n",
       "      <th>0</th>\n",
       "      <td>cap sac lightning anker powerline+  0.3m - xam...</td>\n",
       "      <td>0.3899</td>\n",
       "    </tr>\n",
       "    <tr>\n",
       "      <th>1</th>\n",
       "      <td>cáp sạc micro usb anker  1.8m - a7104</td>\n",
       "      <td>0.4138</td>\n",
       "    </tr>\n",
       "    <tr>\n",
       "      <th>2</th>\n",
       "      <td>loa di dong anker classic 4w- a7908</td>\n",
       "      <td>0.4227</td>\n",
       "    </tr>\n",
       "    <tr>\n",
       "      <th>3</th>\n",
       "      <td>adapter sạc 2 cổng usb anker (24w) – trắng</td>\n",
       "      <td>0.4464</td>\n",
       "    </tr>\n",
       "    <tr>\n",
       "      <th>4</th>\n",
       "      <td>sạc dự phòng anker powercore+ 10050mah đen và ...</td>\n",
       "      <td>0.5019</td>\n",
       "    </tr>\n",
       "  </tbody>\n",
       "</table>\n",
       "</div>"
      ],
      "text/plain": [
       "                                       product_names  sim_score\n",
       "0  cap sac lightning anker powerline+  0.3m - xam...     0.3899\n",
       "1              cáp sạc micro usb anker  1.8m - a7104     0.4138\n",
       "2                loa di dong anker classic 4w- a7908     0.4227\n",
       "3         adapter sạc 2 cổng usb anker (24w) – trắng     0.4464\n",
       "4  sạc dự phòng anker powercore+ 10050mah đen và ...     0.5019"
      ]
     },
     "execution_count": 58,
     "metadata": {},
     "output_type": "execute_result"
    }
   ],
   "source": [
    "Lib.cosine_search_noPCA('anker', tfidf_matrix=tfidf_matrix)"
   ]
  },
  {
   "cell_type": "markdown",
   "id": "c615d041",
   "metadata": {},
   "source": [
    "## 3.3 Jaccard similarity\n",
    "Write a function for Search a single query, include below steps:\n",
    "- Load the data\n",
    "- Apply clean_funtion to query\n",
    "- Split and get unique text in query\n",
    "- Iterate product['clean_names]: \n",
    "    + Split and get unique text of each elements\n",
    "    + Compute intersection of the element and query\n",
    "    + Compute union of the element and query\n",
    "- Calculate Jaccard similarity score\n",
    "- Return top 5 products having the highest cosine_similarities"
   ]
  },
  {
   "cell_type": "code",
   "execution_count": 59,
   "id": "0d74e8cd",
   "metadata": {},
   "outputs": [
    {
     "name": "stdout",
     "output_type": "stream",
     "text": [
      "Time: 32.12851405143738\n"
     ]
    },
    {
     "data": {
      "text/html": [
       "<div>\n",
       "<style scoped>\n",
       "    .dataframe tbody tr th:only-of-type {\n",
       "        vertical-align: middle;\n",
       "    }\n",
       "\n",
       "    .dataframe tbody tr th {\n",
       "        vertical-align: top;\n",
       "    }\n",
       "\n",
       "    .dataframe thead th {\n",
       "        text-align: right;\n",
       "    }\n",
       "</style>\n",
       "<table border=\"1\" class=\"dataframe\">\n",
       "  <thead>\n",
       "    <tr style=\"text-align: right;\">\n",
       "      <th></th>\n",
       "      <th>product_names</th>\n",
       "      <th>jaccard_score</th>\n",
       "    </tr>\n",
       "  </thead>\n",
       "  <tbody>\n",
       "    <tr>\n",
       "      <th>0</th>\n",
       "      <td>hùng binh (tiểu thuyết lịch sử)</td>\n",
       "      <td>0.2500</td>\n",
       "    </tr>\n",
       "    <tr>\n",
       "      <th>0</th>\n",
       "      <td>cuốn sổ màu xanh (tiểu thuyết)</td>\n",
       "      <td>0.2000</td>\n",
       "    </tr>\n",
       "    <tr>\n",
       "      <th>0</th>\n",
       "      <td>những đứa trẻ chết già (tiểu thuyết)</td>\n",
       "      <td>0.2000</td>\n",
       "    </tr>\n",
       "    <tr>\n",
       "      <th>0</th>\n",
       "      <td>chuyện phiếm của hội con gái (tiểu thuyết blog)</td>\n",
       "      <td>0.1667</td>\n",
       "    </tr>\n",
       "    <tr>\n",
       "      <th>0</th>\n",
       "      <td>cõi người rung chuông tận thế (tiểu thuyết)</td>\n",
       "      <td>0.1667</td>\n",
       "    </tr>\n",
       "  </tbody>\n",
       "</table>\n",
       "</div>"
      ],
      "text/plain": [
       "                                     product_names  jaccard_score\n",
       "0                  hùng binh (tiểu thuyết lịch sử)         0.2500\n",
       "0                   cuốn sổ màu xanh (tiểu thuyết)         0.2000\n",
       "0             những đứa trẻ chết già (tiểu thuyết)         0.2000\n",
       "0  chuyện phiếm của hội con gái (tiểu thuyết blog)         0.1667\n",
       "0      cõi người rung chuông tận thế (tiểu thuyết)         0.1667"
      ]
     },
     "execution_count": 59,
     "metadata": {},
     "output_type": "execute_result"
    }
   ],
   "source": [
    "Lib.jaccard_search('tiểu thuyết')"
   ]
  },
  {
   "cell_type": "code",
   "execution_count": 60,
   "id": "f8e02ecc",
   "metadata": {},
   "outputs": [
    {
     "name": "stdout",
     "output_type": "stream",
     "text": [
      "Time: 31.939516067504883\n"
     ]
    },
    {
     "data": {
      "text/html": [
       "<div>\n",
       "<style scoped>\n",
       "    .dataframe tbody tr th:only-of-type {\n",
       "        vertical-align: middle;\n",
       "    }\n",
       "\n",
       "    .dataframe tbody tr th {\n",
       "        vertical-align: top;\n",
       "    }\n",
       "\n",
       "    .dataframe thead th {\n",
       "        text-align: right;\n",
       "    }\n",
       "</style>\n",
       "<table border=\"1\" class=\"dataframe\">\n",
       "  <thead>\n",
       "    <tr style=\"text-align: right;\">\n",
       "      <th></th>\n",
       "      <th>product_names</th>\n",
       "      <th>jaccard_score</th>\n",
       "    </tr>\n",
       "  </thead>\n",
       "  <tbody>\n",
       "    <tr>\n",
       "      <th>0</th>\n",
       "      <td>giày tập đi</td>\n",
       "      <td>0.3333</td>\n",
       "    </tr>\n",
       "    <tr>\n",
       "      <th>0</th>\n",
       "      <td>giày sneakers nam jordan</td>\n",
       "      <td>0.2500</td>\n",
       "    </tr>\n",
       "    <tr>\n",
       "      <th>0</th>\n",
       "      <td>giày đá banh fm501</td>\n",
       "      <td>0.2500</td>\n",
       "    </tr>\n",
       "    <tr>\n",
       "      <th>0</th>\n",
       "      <td>giày lười thể thao sp24</td>\n",
       "      <td>0.2500</td>\n",
       "    </tr>\n",
       "    <tr>\n",
       "      <th>0</th>\n",
       "      <td>giày thể thao nam phong cách  - xanh</td>\n",
       "      <td>0.2500</td>\n",
       "    </tr>\n",
       "  </tbody>\n",
       "</table>\n",
       "</div>"
      ],
      "text/plain": [
       "                          product_names  jaccard_score\n",
       "0                           giày tập đi         0.3333\n",
       "0              giày sneakers nam jordan         0.2500\n",
       "0                    giày đá banh fm501         0.2500\n",
       "0               giày lười thể thao sp24         0.2500\n",
       "0  giày thể thao nam phong cách  - xanh         0.2500"
      ]
     },
     "execution_count": 60,
     "metadata": {},
     "output_type": "execute_result"
    }
   ],
   "source": [
    "Lib.jaccard_search('giày')"
   ]
  },
  {
   "cell_type": "code",
   "execution_count": 61,
   "id": "6a36f200",
   "metadata": {},
   "outputs": [
    {
     "name": "stdout",
     "output_type": "stream",
     "text": [
      "Time: 31.744436979293823\n"
     ]
    },
    {
     "data": {
      "text/html": [
       "<div>\n",
       "<style scoped>\n",
       "    .dataframe tbody tr th:only-of-type {\n",
       "        vertical-align: middle;\n",
       "    }\n",
       "\n",
       "    .dataframe tbody tr th {\n",
       "        vertical-align: top;\n",
       "    }\n",
       "\n",
       "    .dataframe thead th {\n",
       "        text-align: right;\n",
       "    }\n",
       "</style>\n",
       "<table border=\"1\" class=\"dataframe\">\n",
       "  <thead>\n",
       "    <tr style=\"text-align: right;\">\n",
       "      <th></th>\n",
       "      <th>product_names</th>\n",
       "      <th>jaccard_score</th>\n",
       "    </tr>\n",
       "  </thead>\n",
       "  <tbody>\n",
       "    <tr>\n",
       "      <th>0</th>\n",
       "      <td>loa bluetooth anker soundcore mini - a3101111 ...</td>\n",
       "      <td>0.1429</td>\n",
       "    </tr>\n",
       "    <tr>\n",
       "      <th>0</th>\n",
       "      <td>loa di dong anker classic 4w- a7908</td>\n",
       "      <td>0.1429</td>\n",
       "    </tr>\n",
       "    <tr>\n",
       "      <th>0</th>\n",
       "      <td>loa di động anker premium stereo 20w - a3143h11</td>\n",
       "      <td>0.1250</td>\n",
       "    </tr>\n",
       "    <tr>\n",
       "      <th>0</th>\n",
       "      <td>sạc dự phòng anker powercore 15600 - màu đen -...</td>\n",
       "      <td>0.1250</td>\n",
       "    </tr>\n",
       "    <tr>\n",
       "      <th>0</th>\n",
       "      <td>cáp sạc micro usb anker  1.8m - a7104</td>\n",
       "      <td>0.1111</td>\n",
       "    </tr>\n",
       "  </tbody>\n",
       "</table>\n",
       "</div>"
      ],
      "text/plain": [
       "                                       product_names  jaccard_score\n",
       "0  loa bluetooth anker soundcore mini - a3101111 ...         0.1429\n",
       "0                loa di dong anker classic 4w- a7908         0.1429\n",
       "0    loa di động anker premium stereo 20w - a3143h11         0.1250\n",
       "0  sạc dự phòng anker powercore 15600 - màu đen -...         0.1250\n",
       "0              cáp sạc micro usb anker  1.8m - a7104         0.1111"
      ]
     },
     "execution_count": 61,
     "metadata": {},
     "output_type": "execute_result"
    }
   ],
   "source": [
    "Lib.jaccard_search('anker')"
   ]
  },
  {
   "cell_type": "markdown",
   "id": "d0bb71b4",
   "metadata": {},
   "source": [
    "## 3.4 Gensim"
   ]
  },
  {
   "cell_type": "code",
   "execution_count": 62,
   "id": "8a5564f7",
   "metadata": {},
   "outputs": [
    {
     "data": {
      "text/html": [
       "<div>\n",
       "<style scoped>\n",
       "    .dataframe tbody tr th:only-of-type {\n",
       "        vertical-align: middle;\n",
       "    }\n",
       "\n",
       "    .dataframe tbody tr th {\n",
       "        vertical-align: top;\n",
       "    }\n",
       "\n",
       "    .dataframe thead th {\n",
       "        text-align: right;\n",
       "    }\n",
       "</style>\n",
       "<table border=\"1\" class=\"dataframe\">\n",
       "  <thead>\n",
       "    <tr style=\"text-align: right;\">\n",
       "      <th></th>\n",
       "      <th>names</th>\n",
       "      <th>clean_names</th>\n",
       "      <th>words</th>\n",
       "    </tr>\n",
       "  </thead>\n",
       "  <tbody>\n",
       "    <tr>\n",
       "      <th>0</th>\n",
       "      <td>dép quai ngang phối kim tuyến mirabella dep773...</td>\n",
       "      <td>dép_quai_ngang phối kim_tuyến mirabella dep773...</td>\n",
       "      <td>6</td>\n",
       "    </tr>\n",
       "    <tr>\n",
       "      <th>1</th>\n",
       "      <td>rinne- tập 12</td>\n",
       "      <td>rinne tập 12</td>\n",
       "      <td>3</td>\n",
       "    </tr>\n",
       "    <tr>\n",
       "      <th>2</th>\n",
       "      <td>tai nghe day joyroom jr-e203 (xam)</td>\n",
       "      <td>tai nghe day joyroom jr e203 xam</td>\n",
       "      <td>7</td>\n",
       "    </tr>\n",
       "    <tr>\n",
       "      <th>3</th>\n",
       "      <td>giấy nhắc nhở dán lịch - loại 3</td>\n",
       "      <td>giấy nhắc_nhở dán lịch loại 3</td>\n",
       "      <td>6</td>\n",
       "    </tr>\n",
       "    <tr>\n",
       "      <th>4</th>\n",
       "      <td>đầm a kiểu croptop phủ voan hàn quốc, đính nơ ...</td>\n",
       "      <td>đầm a kiểu croptop phủ voan hàn quốc đính nơ c...</td>\n",
       "      <td>16</td>\n",
       "    </tr>\n",
       "  </tbody>\n",
       "</table>\n",
       "</div>"
      ],
      "text/plain": [
       "                                               names  \\\n",
       "0  dép quai ngang phối kim tuyến mirabella dep773...   \n",
       "1                                      rinne- tập 12   \n",
       "2                 tai nghe day joyroom jr-e203 (xam)   \n",
       "3                    giấy nhắc nhở dán lịch - loại 3   \n",
       "4  đầm a kiểu croptop phủ voan hàn quốc, đính nơ ...   \n",
       "\n",
       "                                         clean_names  words  \n",
       "0  dép_quai_ngang phối kim_tuyến mirabella dep773...      6  \n",
       "1                                       rinne tập 12      3  \n",
       "2                   tai nghe day joyroom jr e203 xam      7  \n",
       "3                      giấy nhắc_nhở dán lịch loại 3      6  \n",
       "4  đầm a kiểu croptop phủ voan hàn quốc đính nơ c...     16  "
      ]
     },
     "execution_count": 62,
     "metadata": {},
     "output_type": "execute_result"
    }
   ],
   "source": [
    "product.head()"
   ]
  },
  {
   "cell_type": "code",
   "execution_count": 63,
   "id": "98ddfe4d",
   "metadata": {},
   "outputs": [],
   "source": [
    "#Tokenize(split) sentence into words\n",
    "names_ = [[text for text in x.split()] for x in product['clean_names']]"
   ]
  },
  {
   "cell_type": "code",
   "execution_count": 64,
   "id": "426c97bc",
   "metadata": {},
   "outputs": [],
   "source": [
    "#Remove both vietnamese and english stop words in texts\n",
    "names_ = [[t for t in text if not t in stop_words] for text in names_] # stopword"
   ]
  },
  {
   "cell_type": "code",
   "execution_count": 65,
   "id": "107456fc",
   "metadata": {},
   "outputs": [],
   "source": [
    "#Creating term dictionary\n",
    "dictionary = corpora.Dictionary(names_)"
   ]
  },
  {
   "cell_type": "code",
   "execution_count": 66,
   "id": "7a86f0fd",
   "metadata": {},
   "outputs": [],
   "source": [
    "#Feature Extraction (Bag of Words)\n",
    "corpus = [dictionary.doc2bow(desc) for desc in names_]"
   ]
  },
  {
   "cell_type": "code",
   "execution_count": 67,
   "id": "3ec2b487",
   "metadata": {},
   "outputs": [],
   "source": [
    "#Build Tf-Idf and LSI Model\n",
    "name_tfidf_model = models.TfidfModel(corpus, id2word=dictionary)\n",
    "name_lsi_model = models.LsiModel(name_tfidf_model[corpus], id2word=dictionary, num_topics=1000)"
   ]
  },
  {
   "cell_type": "code",
   "execution_count": 68,
   "id": "98785c0d",
   "metadata": {},
   "outputs": [],
   "source": [
    "#Serialize and Save the corpus \n",
    "corpora.MmCorpus.serialize('data/name_tfidf_model_mm', name_tfidf_model[corpus])\n",
    "corpora.MmCorpus.serialize('data/name_lsi_model_mm',name_lsi_model[name_tfidf_model[corpus]])"
   ]
  },
  {
   "cell_type": "code",
   "execution_count": 69,
   "id": "2d1fe5ce",
   "metadata": {},
   "outputs": [
    {
     "name": "stdout",
     "output_type": "stream",
     "text": [
      "MmCorpus(49362 documents, 43705 features, 437096 non-zero entries)\n",
      "MmCorpus(49362 documents, 1000 features, 49339991 non-zero entries)\n"
     ]
    }
   ],
   "source": [
    "#Load the indexed corpus\n",
    "name_tfidf_corpus = corpora.MmCorpus('data/name_tfidf_model_mm')\n",
    "name_lsi_corpus = corpora.MmCorpus('data/name_lsi_model_mm')\n",
    "\n",
    "print(name_tfidf_corpus)\n",
    "print(name_lsi_corpus)"
   ]
  },
  {
   "cell_type": "code",
   "execution_count": 70,
   "id": "efba6d93",
   "metadata": {},
   "outputs": [],
   "source": [
    "#Create MatrixSimilarit matrix\n",
    "name_index = similarities.MatrixSimilarity(name_lsi_corpus, num_features = name_lsi_corpus.num_terms)"
   ]
  },
  {
   "cell_type": "code",
   "execution_count": 71,
   "id": "8535785f",
   "metadata": {
    "scrolled": true
   },
   "outputs": [
    {
     "name": "stdout",
     "output_type": "stream",
     "text": [
      "Time: 0.13905787467956543\n"
     ]
    },
    {
     "data": {
      "text/html": [
       "<div>\n",
       "<style scoped>\n",
       "    .dataframe tbody tr th:only-of-type {\n",
       "        vertical-align: middle;\n",
       "    }\n",
       "\n",
       "    .dataframe tbody tr th {\n",
       "        vertical-align: top;\n",
       "    }\n",
       "\n",
       "    .dataframe thead th {\n",
       "        text-align: right;\n",
       "    }\n",
       "</style>\n",
       "<table border=\"1\" class=\"dataframe\">\n",
       "  <thead>\n",
       "    <tr style=\"text-align: right;\">\n",
       "      <th></th>\n",
       "      <th>product_names</th>\n",
       "      <th>gensim_score</th>\n",
       "    </tr>\n",
       "  </thead>\n",
       "  <tbody>\n",
       "    <tr>\n",
       "      <th>0</th>\n",
       "      <td>dây cáp sạc micro usb anker powerline 3.0m - a...</td>\n",
       "      <td>59.7400</td>\n",
       "    </tr>\n",
       "    <tr>\n",
       "      <th>1</th>\n",
       "      <td>sạc dự phòng anker powercore+ 10050mah đen và ...</td>\n",
       "      <td>59.2900</td>\n",
       "    </tr>\n",
       "    <tr>\n",
       "      <th>2</th>\n",
       "      <td>dây cáp sạc micro usb anker powerline 1.8m - a...</td>\n",
       "      <td>56.6200</td>\n",
       "    </tr>\n",
       "    <tr>\n",
       "      <th>3</th>\n",
       "      <td>cáp sạc micro usb anker powerline   0.3m - trắ...</td>\n",
       "      <td>55.6500</td>\n",
       "    </tr>\n",
       "    <tr>\n",
       "      <th>4</th>\n",
       "      <td>cap sac anker powerline micro usb 3.0m - trang...</td>\n",
       "      <td>55.5500</td>\n",
       "    </tr>\n",
       "  </tbody>\n",
       "</table>\n",
       "</div>"
      ],
      "text/plain": [
       "                                       product_names  gensim_score\n",
       "0  dây cáp sạc micro usb anker powerline 3.0m - a...       59.7400\n",
       "1  sạc dự phòng anker powercore+ 10050mah đen và ...       59.2900\n",
       "2  dây cáp sạc micro usb anker powerline 1.8m - a...       56.6200\n",
       "3  cáp sạc micro usb anker powerline   0.3m - trắ...       55.6500\n",
       "4  cap sac anker powerline micro usb 3.0m - trang...       55.5500"
      ]
     },
     "execution_count": 71,
     "metadata": {},
     "output_type": "execute_result"
    }
   ],
   "source": [
    "# Search a single query\n",
    "Lib.gensim_search('anker', dictionary=dictionary, similarities_matrix=name_index,\n",
    "                  name_tfidf_model=name_tfidf_model, name_lsi_model=name_lsi_model)"
   ]
  },
  {
   "cell_type": "code",
   "execution_count": 72,
   "id": "f74914b0",
   "metadata": {},
   "outputs": [
    {
     "name": "stdout",
     "output_type": "stream",
     "text": [
      "Time: 0.1481180191040039\n"
     ]
    },
    {
     "data": {
      "text/html": [
       "<div>\n",
       "<style scoped>\n",
       "    .dataframe tbody tr th:only-of-type {\n",
       "        vertical-align: middle;\n",
       "    }\n",
       "\n",
       "    .dataframe tbody tr th {\n",
       "        vertical-align: top;\n",
       "    }\n",
       "\n",
       "    .dataframe thead th {\n",
       "        text-align: right;\n",
       "    }\n",
       "</style>\n",
       "<table border=\"1\" class=\"dataframe\">\n",
       "  <thead>\n",
       "    <tr style=\"text-align: right;\">\n",
       "      <th></th>\n",
       "      <th>product_names</th>\n",
       "      <th>gensim_score</th>\n",
       "    </tr>\n",
       "  </thead>\n",
       "  <tbody>\n",
       "    <tr>\n",
       "      <th>0</th>\n",
       "      <td>sách ngược đời xuôi</td>\n",
       "      <td>99.9400</td>\n",
       "    </tr>\n",
       "    <tr>\n",
       "      <th>1</th>\n",
       "      <td>sách chỉ dành cho đàn ông</td>\n",
       "      <td>99.8000</td>\n",
       "    </tr>\n",
       "    <tr>\n",
       "      <th>2</th>\n",
       "      <td>cuốn sách nhỏ về những thuyết quản lý lớn và c...</td>\n",
       "      <td>99.6600</td>\n",
       "    </tr>\n",
       "    <tr>\n",
       "      <th>3</th>\n",
       "      <td>cuốn sách kì diệu winfun 9019</td>\n",
       "      <td>99.3800</td>\n",
       "    </tr>\n",
       "    <tr>\n",
       "      <th>4</th>\n",
       "      <td>chặn sách bajing 0832</td>\n",
       "      <td>99.0500</td>\n",
       "    </tr>\n",
       "  </tbody>\n",
       "</table>\n",
       "</div>"
      ],
      "text/plain": [
       "                                       product_names  gensim_score\n",
       "0                                sách ngược đời xuôi       99.9400\n",
       "1                          sách chỉ dành cho đàn ông       99.8000\n",
       "2  cuốn sách nhỏ về những thuyết quản lý lớn và c...       99.6600\n",
       "3                      cuốn sách kì diệu winfun 9019       99.3800\n",
       "4                              chặn sách bajing 0832       99.0500"
      ]
     },
     "execution_count": 72,
     "metadata": {},
     "output_type": "execute_result"
    }
   ],
   "source": [
    "Lib.gensim_search('sách', dictionary=dictionary, similarities_matrix=name_index,\n",
    "                  name_tfidf_model=name_tfidf_model, name_lsi_model=name_lsi_model)"
   ]
  },
  {
   "cell_type": "code",
   "execution_count": 73,
   "id": "0fcabcb2",
   "metadata": {
    "scrolled": false
   },
   "outputs": [
    {
     "name": "stdout",
     "output_type": "stream",
     "text": [
      "Time: 0.15568900108337402\n"
     ]
    },
    {
     "data": {
      "text/html": [
       "<div>\n",
       "<style scoped>\n",
       "    .dataframe tbody tr th:only-of-type {\n",
       "        vertical-align: middle;\n",
       "    }\n",
       "\n",
       "    .dataframe tbody tr th {\n",
       "        vertical-align: top;\n",
       "    }\n",
       "\n",
       "    .dataframe thead th {\n",
       "        text-align: right;\n",
       "    }\n",
       "</style>\n",
       "<table border=\"1\" class=\"dataframe\">\n",
       "  <thead>\n",
       "    <tr style=\"text-align: right;\">\n",
       "      <th></th>\n",
       "      <th>product_names</th>\n",
       "      <th>gensim_score</th>\n",
       "    </tr>\n",
       "  </thead>\n",
       "  <tbody>\n",
       "    <tr>\n",
       "      <th>0</th>\n",
       "      <td>giày bóng đá nam mizuno giày monarcida 2 fs in...</td>\n",
       "      <td>59.3900</td>\n",
       "    </tr>\n",
       "    <tr>\n",
       "      <th>1</th>\n",
       "      <td>giày bóng đá nam mizuno giày monarcida 2 fs in...</td>\n",
       "      <td>58.7400</td>\n",
       "    </tr>\n",
       "    <tr>\n",
       "      <th>2</th>\n",
       "      <td>giày jeep nam, giày thể thao nam leo núi lội n...</td>\n",
       "      <td>57.9600</td>\n",
       "    </tr>\n",
       "    <tr>\n",
       "      <th>3</th>\n",
       "      <td>giày tập đi</td>\n",
       "      <td>56.8700</td>\n",
       "    </tr>\n",
       "    <tr>\n",
       "      <th>4</th>\n",
       "      <td>giày cao gót qm48r</td>\n",
       "      <td>54.9900</td>\n",
       "    </tr>\n",
       "  </tbody>\n",
       "</table>\n",
       "</div>"
      ],
      "text/plain": [
       "                                       product_names  gensim_score\n",
       "0  giày bóng đá nam mizuno giày monarcida 2 fs in...       59.3900\n",
       "1  giày bóng đá nam mizuno giày monarcida 2 fs in...       58.7400\n",
       "2  giày jeep nam, giày thể thao nam leo núi lội n...       57.9600\n",
       "3                                        giày tập đi       56.8700\n",
       "4                                 giày cao gót qm48r       54.9900"
      ]
     },
     "execution_count": 73,
     "metadata": {},
     "output_type": "execute_result"
    }
   ],
   "source": [
    "Lib.gensim_search('giày', dictionary=dictionary, similarities_matrix=name_index,\n",
    "                  name_tfidf_model=name_tfidf_model, name_lsi_model=name_lsi_model)"
   ]
  },
  {
   "cell_type": "code",
   "execution_count": 74,
   "id": "e1455287",
   "metadata": {},
   "outputs": [
    {
     "name": "stdout",
     "output_type": "stream",
     "text": [
      "Time: 0.14273691177368164\n"
     ]
    },
    {
     "data": {
      "text/html": [
       "<div>\n",
       "<style scoped>\n",
       "    .dataframe tbody tr th:only-of-type {\n",
       "        vertical-align: middle;\n",
       "    }\n",
       "\n",
       "    .dataframe tbody tr th {\n",
       "        vertical-align: top;\n",
       "    }\n",
       "\n",
       "    .dataframe thead th {\n",
       "        text-align: right;\n",
       "    }\n",
       "</style>\n",
       "<table border=\"1\" class=\"dataframe\">\n",
       "  <thead>\n",
       "    <tr style=\"text-align: right;\">\n",
       "      <th></th>\n",
       "      <th>product_names</th>\n",
       "      <th>gensim_score</th>\n",
       "    </tr>\n",
       "  </thead>\n",
       "  <tbody>\n",
       "    <tr>\n",
       "      <th>0</th>\n",
       "      <td>chuyện phiếm của hội con gái (tiểu thuyết blog)</td>\n",
       "      <td>63.0700</td>\n",
       "    </tr>\n",
       "    <tr>\n",
       "      <th>1</th>\n",
       "      <td>cuốn sổ màu xanh (tiểu thuyết)</td>\n",
       "      <td>43.4500</td>\n",
       "    </tr>\n",
       "    <tr>\n",
       "      <th>2</th>\n",
       "      <td>truyện và đời - khảo luận tiểu thuyết cổ điển ...</td>\n",
       "      <td>41.6300</td>\n",
       "    </tr>\n",
       "    <tr>\n",
       "      <th>3</th>\n",
       "      <td>hùng binh (tiểu thuyết lịch sử)</td>\n",
       "      <td>41.6000</td>\n",
       "    </tr>\n",
       "    <tr>\n",
       "      <th>4</th>\n",
       "      <td>sổ lych50841-2905ch</td>\n",
       "      <td>40.1000</td>\n",
       "    </tr>\n",
       "  </tbody>\n",
       "</table>\n",
       "</div>"
      ],
      "text/plain": [
       "                                       product_names  gensim_score\n",
       "0    chuyện phiếm của hội con gái (tiểu thuyết blog)       63.0700\n",
       "1                     cuốn sổ màu xanh (tiểu thuyết)       43.4500\n",
       "2  truyện và đời - khảo luận tiểu thuyết cổ điển ...       41.6300\n",
       "3                    hùng binh (tiểu thuyết lịch sử)       41.6000\n",
       "4                                sổ lych50841-2905ch       40.1000"
      ]
     },
     "execution_count": 74,
     "metadata": {},
     "output_type": "execute_result"
    }
   ],
   "source": [
    "Lib.gensim_search('tiểu thuyết', dictionary=dictionary, similarities_matrix=name_index,\n",
    "                  name_tfidf_model=name_tfidf_model, name_lsi_model=name_lsi_model)"
   ]
  },
  {
   "cell_type": "code",
   "execution_count": 75,
   "id": "de6e1566",
   "metadata": {
    "scrolled": true
   },
   "outputs": [
    {
     "name": "stdout",
     "output_type": "stream",
     "text": [
      "Time: 0.14839816093444824\n"
     ]
    },
    {
     "data": {
      "text/html": [
       "<div>\n",
       "<style scoped>\n",
       "    .dataframe tbody tr th:only-of-type {\n",
       "        vertical-align: middle;\n",
       "    }\n",
       "\n",
       "    .dataframe tbody tr th {\n",
       "        vertical-align: top;\n",
       "    }\n",
       "\n",
       "    .dataframe thead th {\n",
       "        text-align: right;\n",
       "    }\n",
       "</style>\n",
       "<table border=\"1\" class=\"dataframe\">\n",
       "  <thead>\n",
       "    <tr style=\"text-align: right;\">\n",
       "      <th></th>\n",
       "      <th>product_names</th>\n",
       "      <th>gensim_score</th>\n",
       "    </tr>\n",
       "  </thead>\n",
       "  <tbody>\n",
       "    <tr>\n",
       "      <th>0</th>\n",
       "      <td>son bạch kim glossy lipstick asami - 150003 - ...</td>\n",
       "      <td>91.6700</td>\n",
       "    </tr>\n",
       "    <tr>\n",
       "      <th>1</th>\n",
       "      <td>son lâu phai quyến rũ tám cạnh glossy lipstick...</td>\n",
       "      <td>86.2900</td>\n",
       "    </tr>\n",
       "    <tr>\n",
       "      <th>2</th>\n",
       "      <td>son lâu phai quyến rũ tám cạnh glossy lipstick...</td>\n",
       "      <td>86.2600</td>\n",
       "    </tr>\n",
       "    <tr>\n",
       "      <th>3</th>\n",
       "      <td>letters from a skeptic: a son wrestles with hi...</td>\n",
       "      <td>82.9600</td>\n",
       "    </tr>\n",
       "    <tr>\n",
       "      <th>4</th>\n",
       "      <td>combo son lì butaé - no.14 + son lì butaé - no.7</td>\n",
       "      <td>77.0500</td>\n",
       "    </tr>\n",
       "  </tbody>\n",
       "</table>\n",
       "</div>"
      ],
      "text/plain": [
       "                                       product_names  gensim_score\n",
       "0  son bạch kim glossy lipstick asami - 150003 - ...       91.6700\n",
       "1  son lâu phai quyến rũ tám cạnh glossy lipstick...       86.2900\n",
       "2  son lâu phai quyến rũ tám cạnh glossy lipstick...       86.2600\n",
       "3  letters from a skeptic: a son wrestles with hi...       82.9600\n",
       "4   combo son lì butaé - no.14 + son lì butaé - no.7       77.0500"
      ]
     },
     "execution_count": 75,
     "metadata": {},
     "output_type": "execute_result"
    }
   ],
   "source": [
    "Lib.gensim_search('son', dictionary=dictionary, similarities_matrix=name_index,\n",
    "                  name_tfidf_model=name_tfidf_model, name_lsi_model=name_lsi_model)"
   ]
  },
  {
   "cell_type": "markdown",
   "id": "135a6cbc",
   "metadata": {},
   "source": [
    "# 4. Conclusion\n",
    "- As we can see, although the search results of cosine_noPCA are much better than cosine_withPCA, cosine_noPCA is more time consuming than cosine_withPCA (30 seconds vs 0.1 seconds)\n",
    "- Both NearestNeighbors with PCA and without PCA return not good results\n",
    "- Jaccard_similarities shows a quite good result but are also quite long time consuming (~20 seconds)\n",
    "- Gensim shows  the results as good as cosine_noPCA but the speed of cosine_withPCA \n",
    "### => In conclusion, Gensim is considered to be the best solution."
   ]
  }
 ],
 "metadata": {
  "colab": {
   "collapsed_sections": [
    "da9c4707",
    "e6d36eef",
    "e5cfd5ea",
    "ee10013a",
    "0b445f7e",
    "10daed8a",
    "ab38327d",
    "61e21ef8",
    "90a4f3d3",
    "54d81565"
   ],
   "machine_shape": "hm",
   "name": "Project2_ProvidedData.ipynb",
   "provenance": [],
   "toc_visible": true
  },
  "kernelspec": {
   "display_name": "Python 3 (ipykernel)",
   "language": "python",
   "name": "python3"
  },
  "language_info": {
   "codemirror_mode": {
    "name": "ipython",
    "version": 3
   },
   "file_extension": ".py",
   "mimetype": "text/x-python",
   "name": "python",
   "nbconvert_exporter": "python",
   "pygments_lexer": "ipython3",
   "version": "3.8.10"
  }
 },
 "nbformat": 4,
 "nbformat_minor": 5
}
