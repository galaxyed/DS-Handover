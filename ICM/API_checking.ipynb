{
 "cells": [
  {
   "cell_type": "markdown",
   "metadata": {},
   "source": [
    "# Import libs"
   ]
  },
  {
   "cell_type": "code",
   "execution_count": 9,
   "metadata": {},
   "outputs": [],
   "source": [
    "import pandas as pd\n",
    "import numpy as np\n",
    "import requests\n",
    "import os\n",
    "\n",
    "pd.set_option('display.max_colwidth', None)"
   ]
  },
  {
   "cell_type": "code",
   "execution_count": 2,
   "metadata": {},
   "outputs": [],
   "source": [
    "def request_API(post_url, payload):\n",
    "    r = requests.post(post_url, payload)\n",
    "    print(r.text)"
   ]
  },
  {
   "cell_type": "code",
   "execution_count": 5,
   "metadata": {},
   "outputs": [],
   "source": [
    "post_url = 'https://data-checking.herokuapp.com/data-checking'"
   ]
  },
  {
   "cell_type": "code",
   "execution_count": 10,
   "metadata": {},
   "outputs": [
    {
     "name": "stdout",
     "output_type": "stream",
     "text": [
      "{\"orc_text\":\"b) Canh BC. 5. Tìm giá trị \\\\( x \\\\) (làm tròn đến chữ só thâp phân thứ ba) trong mōi tam giác vuông với kích thước được chỉ ra trên hình 10 , biết rằng : Hinh 10\",\"image_render\":\"https://s3.stag.icankids.com.vn/uploads/question/6a614250-5698-11ed-8f6d-397d906860a7\"}\n"
     ]
    }
   ],
   "source": [
    "image_url = \"https://s3.icankid.io/uploads/question/3c3ec9e0-f876-11ec-abd5-4dcb92c2b90f\"\n",
    "request_API(post_url, {\"image\": image_url})"
   ]
  },
  {
   "cell_type": "code",
   "execution_count": 11,
   "metadata": {},
   "outputs": [
    {
     "name": "stdout",
     "output_type": "stream",
     "text": [
      "{\"orc_text\":\"b) Canh BC. 5. Tìm giá trị \\\\( x \\\\) (làm tròn đến chữ só thâp phân thứ ba) trong mōi tam giác vuông với kích thước được chỉ ra trên hình 10 , biết rằng : Hinh 10\",\"image_render\":\"https://s3.stag.icankids.com.vn/uploads/question/858420c0-5698-11ed-8f6d-397d906860a7\"}\n"
     ]
    }
   ],
   "source": [
    "image_url = \"https://s3.stag.icankids.com.vn/uploads/question/6a614250-5698-11ed-8f6d-397d906860a7\"\n",
    "request_API(post_url, {\"image\": image_url})"
   ]
  }
 ],
 "metadata": {
  "kernelspec": {
   "display_name": "Python 3.8.13 ('_work')",
   "language": "python",
   "name": "python3"
  },
  "language_info": {
   "codemirror_mode": {
    "name": "ipython",
    "version": 3
   },
   "file_extension": ".py",
   "mimetype": "text/x-python",
   "name": "python",
   "nbconvert_exporter": "python",
   "pygments_lexer": "ipython3",
   "version": "3.8.13"
  },
  "orig_nbformat": 4,
  "vscode": {
   "interpreter": {
    "hash": "cf1d69bb0d2a12e61490889161fcacd2800262e0ab5a40aa691e442a23156cde"
   }
  }
 },
 "nbformat": 4,
 "nbformat_minor": 2
}
